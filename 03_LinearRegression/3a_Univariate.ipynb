{
  "nbformat": 4,
  "nbformat_minor": 0,
  "metadata": {
    "colab": {
      "name": "3.1_Univariate.ipynb",
      "provenance": [],
      "include_colab_link": true
    },
    "kernelspec": {
      "name": "python3",
      "display_name": "Python 3"
    }
  },
  "cells": [
    {
      "cell_type": "markdown",
      "metadata": {
        "id": "view-in-github",
        "colab_type": "text"
      },
      "source": [
        "<a href=\"https://colab.research.google.com/github/stellarboymihir/ML_now2.0/blob/main/03_LinearRegression/3a_Univariate.ipynb\" target=\"_parent\"><img src=\"https://colab.research.google.com/assets/colab-badge.svg\" alt=\"Open In Colab\"/></a>"
      ]
    },
    {
      "cell_type": "markdown",
      "metadata": {
        "id": "q_569ugy6lyY"
      },
      "source": [
        "> This notebook was created for code illustration of the `ML.now()` course\n",
        "\n",
        "\n",
        "`Univariate Linear Regression`\n",
        "\n",
        "[Link to Download the dataset](https://archive.ics.uci.edu/ml/datasets/Student+Performance)\n",
        "\n",
        "**Date Created**: June 6, 2021\n",
        "\n",
        "\n",
        "**Author**:\n",
        " Shivani Shimpi \n",
        "\n",
        "**Reach out**:\n",
        "[Email](https://www.google.com/intl/en-GB/gmail/about/#) | [GitHub](https://github.com/shivanishimpi) | [LinkedIn](https://www.linkedin.com/in/shivani-shimpi-5113a8170/)\n",
        "\n",
        "[[Course Repository](https://github.com/shivanishimpi/MLnow_2.0)]\n",
        "\n",
        "Feel free to check out my [website](http://shivanishimpi.github.io/) for more information"
      ]
    },
    {
      "cell_type": "markdown",
      "metadata": {
        "id": "KmW9S6zjaauQ"
      },
      "source": [
        "## Setup"
      ]
    },
    {
      "cell_type": "code",
      "metadata": {
        "colab": {
          "base_uri": "https://localhost:8080/"
        },
        "id": "oX_QibhWsnnX",
        "outputId": "5d02d9f2-1c13-49a1-8175-898688ad06cd"
      },
      "source": [
        "from google.colab import drive\n",
        "drive.mount('/content/drive')"
      ],
      "execution_count": 17,
      "outputs": [
        {
          "output_type": "stream",
          "text": [
            "Drive already mounted at /content/drive; to attempt to forcibly remount, call drive.mount(\"/content/drive\", force_remount=True).\n"
          ],
          "name": "stdout"
        }
      ]
    },
    {
      "cell_type": "code",
      "metadata": {
        "colab": {
          "base_uri": "https://localhost:8080/"
        },
        "id": "wYuNn17Isvml",
        "outputId": "f359f5e8-e474-4a91-bdfa-2aea0b0bc3b1"
      },
      "source": [
        "cd '/content/drive/MyDrive/Courses/ML.now()/CodeArchive/student'"
      ],
      "execution_count": 18,
      "outputs": [
        {
          "output_type": "stream",
          "text": [
            "[Errno 2] No such file or directory: '/content/drive/MyDrive/Courses/ML.now()/CodeArchive/student'\n",
            "/content\n"
          ],
          "name": "stdout"
        }
      ]
    },
    {
      "cell_type": "code",
      "metadata": {
        "colab": {
          "base_uri": "https://localhost:8080/"
        },
        "id": "oR69jwALs-uP",
        "outputId": "cd9e8fcc-8699-469e-c532-787690328686"
      },
      "source": [
        "ls"
      ],
      "execution_count": 19,
      "outputs": [
        {
          "output_type": "stream",
          "text": [
            "\u001b[0m\u001b[01;34mdrive\u001b[0m/  \u001b[01;34msample_data\u001b[0m/\n"
          ],
          "name": "stdout"
        }
      ]
    },
    {
      "cell_type": "code",
      "metadata": {
        "id": "0rYwvbeMtPJg"
      },
      "source": [
        "import os"
      ],
      "execution_count": 20,
      "outputs": []
    },
    {
      "cell_type": "code",
      "metadata": {
        "id": "cnGQRbmes_tZ"
      },
      "source": [
        "import pandas as pd #working with csv or excel files\n",
        "import numpy as np #working with numbers/ arrays/ tensors\n",
        "import tensorflow as tf #framework\n",
        "from tensorflow import keras #API / library \n",
        "import os #using os commands between the python language"
      ],
      "execution_count": 21,
      "outputs": []
    },
    {
      "cell_type": "code",
      "metadata": {
        "id": "VV-Ps6dJtX6B"
      },
      "source": [
        "mathData = pd.read_csv('/content/drive/MyDrive/Colab Notebooks/Gs script/student-mat.csv', sep=';') #load the csv file as dataframe"
      ],
      "execution_count": 22,
      "outputs": []
    },
    {
      "cell_type": "code",
      "metadata": {
        "colab": {
          "base_uri": "https://localhost:8080/",
          "height": 379
        },
        "id": "2_KId_bptr05",
        "outputId": "3c0a46b2-cc25-4d1b-99a8-9a8db79fdc5f"
      },
      "source": [
        "mathData.head(10) #print the first ten rows of the dataframe"
      ],
      "execution_count": 23,
      "outputs": [
        {
          "output_type": "execute_result",
          "data": {
            "text/html": [
              "<div>\n",
              "<style scoped>\n",
              "    .dataframe tbody tr th:only-of-type {\n",
              "        vertical-align: middle;\n",
              "    }\n",
              "\n",
              "    .dataframe tbody tr th {\n",
              "        vertical-align: top;\n",
              "    }\n",
              "\n",
              "    .dataframe thead th {\n",
              "        text-align: right;\n",
              "    }\n",
              "</style>\n",
              "<table border=\"1\" class=\"dataframe\">\n",
              "  <thead>\n",
              "    <tr style=\"text-align: right;\">\n",
              "      <th></th>\n",
              "      <th>school</th>\n",
              "      <th>sex</th>\n",
              "      <th>age</th>\n",
              "      <th>address</th>\n",
              "      <th>famsize</th>\n",
              "      <th>Pstatus</th>\n",
              "      <th>Medu</th>\n",
              "      <th>Fedu</th>\n",
              "      <th>Mjob</th>\n",
              "      <th>Fjob</th>\n",
              "      <th>reason</th>\n",
              "      <th>guardian</th>\n",
              "      <th>traveltime</th>\n",
              "      <th>studytime</th>\n",
              "      <th>failures</th>\n",
              "      <th>schoolsup</th>\n",
              "      <th>famsup</th>\n",
              "      <th>paid</th>\n",
              "      <th>activities</th>\n",
              "      <th>nursery</th>\n",
              "      <th>higher</th>\n",
              "      <th>internet</th>\n",
              "      <th>romantic</th>\n",
              "      <th>famrel</th>\n",
              "      <th>freetime</th>\n",
              "      <th>goout</th>\n",
              "      <th>Dalc</th>\n",
              "      <th>Walc</th>\n",
              "      <th>health</th>\n",
              "      <th>absences</th>\n",
              "      <th>G1</th>\n",
              "      <th>G2</th>\n",
              "      <th>G3</th>\n",
              "    </tr>\n",
              "  </thead>\n",
              "  <tbody>\n",
              "    <tr>\n",
              "      <th>0</th>\n",
              "      <td>GP</td>\n",
              "      <td>F</td>\n",
              "      <td>18</td>\n",
              "      <td>U</td>\n",
              "      <td>GT3</td>\n",
              "      <td>A</td>\n",
              "      <td>4</td>\n",
              "      <td>4</td>\n",
              "      <td>at_home</td>\n",
              "      <td>teacher</td>\n",
              "      <td>course</td>\n",
              "      <td>mother</td>\n",
              "      <td>2</td>\n",
              "      <td>2</td>\n",
              "      <td>0</td>\n",
              "      <td>yes</td>\n",
              "      <td>no</td>\n",
              "      <td>no</td>\n",
              "      <td>no</td>\n",
              "      <td>yes</td>\n",
              "      <td>yes</td>\n",
              "      <td>no</td>\n",
              "      <td>no</td>\n",
              "      <td>4</td>\n",
              "      <td>3</td>\n",
              "      <td>4</td>\n",
              "      <td>1</td>\n",
              "      <td>1</td>\n",
              "      <td>3</td>\n",
              "      <td>6</td>\n",
              "      <td>5</td>\n",
              "      <td>6</td>\n",
              "      <td>6</td>\n",
              "    </tr>\n",
              "    <tr>\n",
              "      <th>1</th>\n",
              "      <td>GP</td>\n",
              "      <td>F</td>\n",
              "      <td>17</td>\n",
              "      <td>U</td>\n",
              "      <td>GT3</td>\n",
              "      <td>T</td>\n",
              "      <td>1</td>\n",
              "      <td>1</td>\n",
              "      <td>at_home</td>\n",
              "      <td>other</td>\n",
              "      <td>course</td>\n",
              "      <td>father</td>\n",
              "      <td>1</td>\n",
              "      <td>2</td>\n",
              "      <td>0</td>\n",
              "      <td>no</td>\n",
              "      <td>yes</td>\n",
              "      <td>no</td>\n",
              "      <td>no</td>\n",
              "      <td>no</td>\n",
              "      <td>yes</td>\n",
              "      <td>yes</td>\n",
              "      <td>no</td>\n",
              "      <td>5</td>\n",
              "      <td>3</td>\n",
              "      <td>3</td>\n",
              "      <td>1</td>\n",
              "      <td>1</td>\n",
              "      <td>3</td>\n",
              "      <td>4</td>\n",
              "      <td>5</td>\n",
              "      <td>5</td>\n",
              "      <td>6</td>\n",
              "    </tr>\n",
              "    <tr>\n",
              "      <th>2</th>\n",
              "      <td>GP</td>\n",
              "      <td>F</td>\n",
              "      <td>15</td>\n",
              "      <td>U</td>\n",
              "      <td>LE3</td>\n",
              "      <td>T</td>\n",
              "      <td>1</td>\n",
              "      <td>1</td>\n",
              "      <td>at_home</td>\n",
              "      <td>other</td>\n",
              "      <td>other</td>\n",
              "      <td>mother</td>\n",
              "      <td>1</td>\n",
              "      <td>2</td>\n",
              "      <td>3</td>\n",
              "      <td>yes</td>\n",
              "      <td>no</td>\n",
              "      <td>yes</td>\n",
              "      <td>no</td>\n",
              "      <td>yes</td>\n",
              "      <td>yes</td>\n",
              "      <td>yes</td>\n",
              "      <td>no</td>\n",
              "      <td>4</td>\n",
              "      <td>3</td>\n",
              "      <td>2</td>\n",
              "      <td>2</td>\n",
              "      <td>3</td>\n",
              "      <td>3</td>\n",
              "      <td>10</td>\n",
              "      <td>7</td>\n",
              "      <td>8</td>\n",
              "      <td>10</td>\n",
              "    </tr>\n",
              "    <tr>\n",
              "      <th>3</th>\n",
              "      <td>GP</td>\n",
              "      <td>F</td>\n",
              "      <td>15</td>\n",
              "      <td>U</td>\n",
              "      <td>GT3</td>\n",
              "      <td>T</td>\n",
              "      <td>4</td>\n",
              "      <td>2</td>\n",
              "      <td>health</td>\n",
              "      <td>services</td>\n",
              "      <td>home</td>\n",
              "      <td>mother</td>\n",
              "      <td>1</td>\n",
              "      <td>3</td>\n",
              "      <td>0</td>\n",
              "      <td>no</td>\n",
              "      <td>yes</td>\n",
              "      <td>yes</td>\n",
              "      <td>yes</td>\n",
              "      <td>yes</td>\n",
              "      <td>yes</td>\n",
              "      <td>yes</td>\n",
              "      <td>yes</td>\n",
              "      <td>3</td>\n",
              "      <td>2</td>\n",
              "      <td>2</td>\n",
              "      <td>1</td>\n",
              "      <td>1</td>\n",
              "      <td>5</td>\n",
              "      <td>2</td>\n",
              "      <td>15</td>\n",
              "      <td>14</td>\n",
              "      <td>15</td>\n",
              "    </tr>\n",
              "    <tr>\n",
              "      <th>4</th>\n",
              "      <td>GP</td>\n",
              "      <td>F</td>\n",
              "      <td>16</td>\n",
              "      <td>U</td>\n",
              "      <td>GT3</td>\n",
              "      <td>T</td>\n",
              "      <td>3</td>\n",
              "      <td>3</td>\n",
              "      <td>other</td>\n",
              "      <td>other</td>\n",
              "      <td>home</td>\n",
              "      <td>father</td>\n",
              "      <td>1</td>\n",
              "      <td>2</td>\n",
              "      <td>0</td>\n",
              "      <td>no</td>\n",
              "      <td>yes</td>\n",
              "      <td>yes</td>\n",
              "      <td>no</td>\n",
              "      <td>yes</td>\n",
              "      <td>yes</td>\n",
              "      <td>no</td>\n",
              "      <td>no</td>\n",
              "      <td>4</td>\n",
              "      <td>3</td>\n",
              "      <td>2</td>\n",
              "      <td>1</td>\n",
              "      <td>2</td>\n",
              "      <td>5</td>\n",
              "      <td>4</td>\n",
              "      <td>6</td>\n",
              "      <td>10</td>\n",
              "      <td>10</td>\n",
              "    </tr>\n",
              "    <tr>\n",
              "      <th>5</th>\n",
              "      <td>GP</td>\n",
              "      <td>M</td>\n",
              "      <td>16</td>\n",
              "      <td>U</td>\n",
              "      <td>LE3</td>\n",
              "      <td>T</td>\n",
              "      <td>4</td>\n",
              "      <td>3</td>\n",
              "      <td>services</td>\n",
              "      <td>other</td>\n",
              "      <td>reputation</td>\n",
              "      <td>mother</td>\n",
              "      <td>1</td>\n",
              "      <td>2</td>\n",
              "      <td>0</td>\n",
              "      <td>no</td>\n",
              "      <td>yes</td>\n",
              "      <td>yes</td>\n",
              "      <td>yes</td>\n",
              "      <td>yes</td>\n",
              "      <td>yes</td>\n",
              "      <td>yes</td>\n",
              "      <td>no</td>\n",
              "      <td>5</td>\n",
              "      <td>4</td>\n",
              "      <td>2</td>\n",
              "      <td>1</td>\n",
              "      <td>2</td>\n",
              "      <td>5</td>\n",
              "      <td>10</td>\n",
              "      <td>15</td>\n",
              "      <td>15</td>\n",
              "      <td>15</td>\n",
              "    </tr>\n",
              "    <tr>\n",
              "      <th>6</th>\n",
              "      <td>GP</td>\n",
              "      <td>M</td>\n",
              "      <td>16</td>\n",
              "      <td>U</td>\n",
              "      <td>LE3</td>\n",
              "      <td>T</td>\n",
              "      <td>2</td>\n",
              "      <td>2</td>\n",
              "      <td>other</td>\n",
              "      <td>other</td>\n",
              "      <td>home</td>\n",
              "      <td>mother</td>\n",
              "      <td>1</td>\n",
              "      <td>2</td>\n",
              "      <td>0</td>\n",
              "      <td>no</td>\n",
              "      <td>no</td>\n",
              "      <td>no</td>\n",
              "      <td>no</td>\n",
              "      <td>yes</td>\n",
              "      <td>yes</td>\n",
              "      <td>yes</td>\n",
              "      <td>no</td>\n",
              "      <td>4</td>\n",
              "      <td>4</td>\n",
              "      <td>4</td>\n",
              "      <td>1</td>\n",
              "      <td>1</td>\n",
              "      <td>3</td>\n",
              "      <td>0</td>\n",
              "      <td>12</td>\n",
              "      <td>12</td>\n",
              "      <td>11</td>\n",
              "    </tr>\n",
              "    <tr>\n",
              "      <th>7</th>\n",
              "      <td>GP</td>\n",
              "      <td>F</td>\n",
              "      <td>17</td>\n",
              "      <td>U</td>\n",
              "      <td>GT3</td>\n",
              "      <td>A</td>\n",
              "      <td>4</td>\n",
              "      <td>4</td>\n",
              "      <td>other</td>\n",
              "      <td>teacher</td>\n",
              "      <td>home</td>\n",
              "      <td>mother</td>\n",
              "      <td>2</td>\n",
              "      <td>2</td>\n",
              "      <td>0</td>\n",
              "      <td>yes</td>\n",
              "      <td>yes</td>\n",
              "      <td>no</td>\n",
              "      <td>no</td>\n",
              "      <td>yes</td>\n",
              "      <td>yes</td>\n",
              "      <td>no</td>\n",
              "      <td>no</td>\n",
              "      <td>4</td>\n",
              "      <td>1</td>\n",
              "      <td>4</td>\n",
              "      <td>1</td>\n",
              "      <td>1</td>\n",
              "      <td>1</td>\n",
              "      <td>6</td>\n",
              "      <td>6</td>\n",
              "      <td>5</td>\n",
              "      <td>6</td>\n",
              "    </tr>\n",
              "    <tr>\n",
              "      <th>8</th>\n",
              "      <td>GP</td>\n",
              "      <td>M</td>\n",
              "      <td>15</td>\n",
              "      <td>U</td>\n",
              "      <td>LE3</td>\n",
              "      <td>A</td>\n",
              "      <td>3</td>\n",
              "      <td>2</td>\n",
              "      <td>services</td>\n",
              "      <td>other</td>\n",
              "      <td>home</td>\n",
              "      <td>mother</td>\n",
              "      <td>1</td>\n",
              "      <td>2</td>\n",
              "      <td>0</td>\n",
              "      <td>no</td>\n",
              "      <td>yes</td>\n",
              "      <td>yes</td>\n",
              "      <td>no</td>\n",
              "      <td>yes</td>\n",
              "      <td>yes</td>\n",
              "      <td>yes</td>\n",
              "      <td>no</td>\n",
              "      <td>4</td>\n",
              "      <td>2</td>\n",
              "      <td>2</td>\n",
              "      <td>1</td>\n",
              "      <td>1</td>\n",
              "      <td>1</td>\n",
              "      <td>0</td>\n",
              "      <td>16</td>\n",
              "      <td>18</td>\n",
              "      <td>19</td>\n",
              "    </tr>\n",
              "    <tr>\n",
              "      <th>9</th>\n",
              "      <td>GP</td>\n",
              "      <td>M</td>\n",
              "      <td>15</td>\n",
              "      <td>U</td>\n",
              "      <td>GT3</td>\n",
              "      <td>T</td>\n",
              "      <td>3</td>\n",
              "      <td>4</td>\n",
              "      <td>other</td>\n",
              "      <td>other</td>\n",
              "      <td>home</td>\n",
              "      <td>mother</td>\n",
              "      <td>1</td>\n",
              "      <td>2</td>\n",
              "      <td>0</td>\n",
              "      <td>no</td>\n",
              "      <td>yes</td>\n",
              "      <td>yes</td>\n",
              "      <td>yes</td>\n",
              "      <td>yes</td>\n",
              "      <td>yes</td>\n",
              "      <td>yes</td>\n",
              "      <td>no</td>\n",
              "      <td>5</td>\n",
              "      <td>5</td>\n",
              "      <td>1</td>\n",
              "      <td>1</td>\n",
              "      <td>1</td>\n",
              "      <td>5</td>\n",
              "      <td>0</td>\n",
              "      <td>14</td>\n",
              "      <td>15</td>\n",
              "      <td>15</td>\n",
              "    </tr>\n",
              "  </tbody>\n",
              "</table>\n",
              "</div>"
            ],
            "text/plain": [
              "  school sex  age address famsize Pstatus  ...  Walc  health absences  G1  G2  G3\n",
              "0     GP   F   18       U     GT3       A  ...     1       3        6   5   6   6\n",
              "1     GP   F   17       U     GT3       T  ...     1       3        4   5   5   6\n",
              "2     GP   F   15       U     LE3       T  ...     3       3       10   7   8  10\n",
              "3     GP   F   15       U     GT3       T  ...     1       5        2  15  14  15\n",
              "4     GP   F   16       U     GT3       T  ...     2       5        4   6  10  10\n",
              "5     GP   M   16       U     LE3       T  ...     2       5       10  15  15  15\n",
              "6     GP   M   16       U     LE3       T  ...     1       3        0  12  12  11\n",
              "7     GP   F   17       U     GT3       A  ...     1       1        6   6   5   6\n",
              "8     GP   M   15       U     LE3       A  ...     1       1        0  16  18  19\n",
              "9     GP   M   15       U     GT3       T  ...     1       5        0  14  15  15\n",
              "\n",
              "[10 rows x 33 columns]"
            ]
          },
          "metadata": {
            "tags": []
          },
          "execution_count": 23
        }
      ]
    },
    {
      "cell_type": "markdown",
      "metadata": {
        "id": "i2bal50yG_PZ"
      },
      "source": [
        "We are just going to consider the columns `G1` and `G3` for univariate linear regression\n",
        "\n",
        "$G3_i = G1_i  \\cdot \\theta_1 + \\theta_0$"
      ]
    },
    {
      "cell_type": "code",
      "metadata": {
        "colab": {
          "base_uri": "https://localhost:8080/",
          "height": 204
        },
        "id": "Yw0PNCuTSEDC",
        "outputId": "241b29b4-32c0-44fc-cdf6-1f71833f6f10"
      },
      "source": [
        "uniMathData = mathData[['G1', 'G3']]\n",
        "uniMathData.head(5)"
      ],
      "execution_count": 24,
      "outputs": [
        {
          "output_type": "execute_result",
          "data": {
            "text/html": [
              "<div>\n",
              "<style scoped>\n",
              "    .dataframe tbody tr th:only-of-type {\n",
              "        vertical-align: middle;\n",
              "    }\n",
              "\n",
              "    .dataframe tbody tr th {\n",
              "        vertical-align: top;\n",
              "    }\n",
              "\n",
              "    .dataframe thead th {\n",
              "        text-align: right;\n",
              "    }\n",
              "</style>\n",
              "<table border=\"1\" class=\"dataframe\">\n",
              "  <thead>\n",
              "    <tr style=\"text-align: right;\">\n",
              "      <th></th>\n",
              "      <th>G1</th>\n",
              "      <th>G3</th>\n",
              "    </tr>\n",
              "  </thead>\n",
              "  <tbody>\n",
              "    <tr>\n",
              "      <th>0</th>\n",
              "      <td>5</td>\n",
              "      <td>6</td>\n",
              "    </tr>\n",
              "    <tr>\n",
              "      <th>1</th>\n",
              "      <td>5</td>\n",
              "      <td>6</td>\n",
              "    </tr>\n",
              "    <tr>\n",
              "      <th>2</th>\n",
              "      <td>7</td>\n",
              "      <td>10</td>\n",
              "    </tr>\n",
              "    <tr>\n",
              "      <th>3</th>\n",
              "      <td>15</td>\n",
              "      <td>15</td>\n",
              "    </tr>\n",
              "    <tr>\n",
              "      <th>4</th>\n",
              "      <td>6</td>\n",
              "      <td>10</td>\n",
              "    </tr>\n",
              "  </tbody>\n",
              "</table>\n",
              "</div>"
            ],
            "text/plain": [
              "   G1  G3\n",
              "0   5   6\n",
              "1   5   6\n",
              "2   7  10\n",
              "3  15  15\n",
              "4   6  10"
            ]
          },
          "metadata": {
            "tags": []
          },
          "execution_count": 24
        }
      ]
    },
    {
      "cell_type": "code",
      "metadata": {
        "id": "eyzP9mL4Hmb5"
      },
      "source": [
        "uniMathData.to_csv('univariate_MathData_2.csv')"
      ],
      "execution_count": 25,
      "outputs": []
    },
    {
      "cell_type": "code",
      "metadata": {
        "colab": {
          "base_uri": "https://localhost:8080/"
        },
        "id": "I-3qK_nNxnTA",
        "outputId": "22def119-f1b0-4ce7-b253-79079322ff39"
      },
      "source": [
        "ls"
      ],
      "execution_count": 26,
      "outputs": [
        {
          "output_type": "stream",
          "text": [
            "\u001b[0m\u001b[01;34mdrive\u001b[0m/  \u001b[01;34msample_data\u001b[0m/  univariate_MathData_2.csv\n"
          ],
          "name": "stdout"
        }
      ]
    },
    {
      "cell_type": "markdown",
      "metadata": {
        "id": "ImV3p6AKxszU"
      },
      "source": [
        "## Data visualization"
      ]
    },
    {
      "cell_type": "code",
      "metadata": {
        "colab": {
          "base_uri": "https://localhost:8080/",
          "height": 157
        },
        "id": "RqumcsZLxq4v",
        "outputId": "f06ed8a1-6bf9-43cd-a0fe-0928bb11872a"
      },
      "source": [
        "import seaborn as sns\n",
        "sns.palplot(sns.color_palette('PuOr')) #Purple to Orange colors\n",
        "pal = sns.color_palette('PuOr', 6) #print 6 color shades from Purple to Orange\n",
        "pal.as_hex() #set hex code values for colors\n",
        "\n",
        "import matplotlib.pyplot as plt\n",
        "plt.style.use(['seaborn'])\n",
        "sns_colors = ['#c6690c', '#664697'] #orange Purple hex codes\n",
        "sns.set_palette(sns_colors) #set the palette as sns_colors \n",
        "sns.palplot(sns.color_palette(sns_colors)) #plot the color codes"
      ],
      "execution_count": 27,
      "outputs": [
        {
          "output_type": "display_data",
          "data": {
            "image/png": "[encoded data removed]",
            "text/plain": [
              "<Figure size 432x72 with 1 Axes>"
            ]
          },
          "metadata": {
            "tags": [],
            "needs_background": "light"
          }
        },
        {
          "output_type": "display_data",
          "data": {
            "image/png": "[encoded data removed]",
            "text/plain": [
              "<Figure size 144x72 with 1 Axes>"
            ]
          },
          "metadata": {
            "tags": []
          }
        }
      ]
    },
    {
      "cell_type": "code",
      "metadata": {
        "colab": {
          "base_uri": "https://localhost:8080/"
        },
        "id": "A6MT5E8Fy7MZ",
        "outputId": "0864bf47-564e-4432-fd5f-048077042a90"
      },
      "source": [
        "uniMathData.columns #columns in the dataframe"
      ],
      "execution_count": 28,
      "outputs": [
        {
          "output_type": "execute_result",
          "data": {
            "text/plain": [
              "Index(['G1', 'G3'], dtype='object')"
            ]
          },
          "metadata": {
            "tags": []
          },
          "execution_count": 28
        }
      ]
    },
    {
      "cell_type": "code",
      "metadata": {
        "colab": {
          "base_uri": "https://localhost:8080/",
          "height": 391
        },
        "id": "PrsTwdHHzBbk",
        "outputId": "926c0a13-ccd6-44a6-88a4-872242a9f30d"
      },
      "source": [
        "#pairplot for all the values\n",
        "\n",
        "sns.pairplot(uniMathData,\n",
        "             x_vars = ['G1', 'G3'],\n",
        "             y_vars =  ['G1', 'G3'],\n",
        "       diag_kind='kde'\n",
        "             )"
      ],
      "execution_count": 29,
      "outputs": [
        {
          "output_type": "execute_result",
          "data": {
            "text/plain": [
              "<seaborn.axisgrid.PairGrid at 0x7f51d02fb950>"
            ]
          },
          "metadata": {
            "tags": []
          },
          "execution_count": 29
        },
        {
          "output_type": "display_data",
          "data": {
            "image/png": "[encoded data removed]",
            "text/plain": [
              "<Figure size 360x360 with 6 Axes>"
            ]
          },
          "metadata": {
            "tags": []
          }
        }
      ]
    },
    {
      "cell_type": "markdown",
      "metadata": {
        "id": "Klm33YcpKZkl"
      },
      "source": [
        "## Data Splits"
      ]
    },
    {
      "cell_type": "code",
      "metadata": {
        "colab": {
          "base_uri": "https://localhost:8080/"
        },
        "id": "UwrSOCKS1NhN",
        "outputId": "79770764-d9ce-46f8-ce91-63dfb9a97544"
      },
      "source": [
        "#80-20 train-test percent split\n",
        "\n",
        "trainDataset = uniMathData.sample(frac=0.8, random_state=0) \n",
        "testDataset = uniMathData.drop(trainDataset.index)\n",
        "\n",
        "print(trainDataset.head())\n",
        "print(testDataset.head())"
      ],
      "execution_count": 30,
      "outputs": [
        {
          "output_type": "stream",
          "text": [
            "     G1  G3\n",
            "329  14  14\n",
            "318  11  10\n",
            "317   9   9\n",
            "65   16  15\n",
            "59   15  16\n",
            "    G1  G3\n",
            "9   14  15\n",
            "25   6   8\n",
            "28  11  11\n",
            "31  17  17\n",
            "32  17  16\n"
          ],
          "name": "stdout"
        }
      ]
    },
    {
      "cell_type": "code",
      "metadata": {
        "colab": {
          "base_uri": "https://localhost:8080/"
        },
        "id": "YWO2xRV53wV-",
        "outputId": "3ad56996-3980-4697-ca56-48bb7f26f092"
      },
      "source": [
        "print(trainDataset.shape)\n",
        "print(testDataset.shape)"
      ],
      "execution_count": 31,
      "outputs": [
        {
          "output_type": "stream",
          "text": [
            "(316, 2)\n",
            "(79, 2)\n"
          ],
          "name": "stdout"
        }
      ]
    },
    {
      "cell_type": "code",
      "metadata": {
        "colab": {
          "base_uri": "https://localhost:8080/"
        },
        "id": "OmDTbvMC32hg",
        "outputId": "f2d480b0-b272-4578-fb58-c4b03a9e9a8e"
      },
      "source": [
        "#copy the trainDataset dataframe for getting the features\n",
        "\n",
        "trainFeatures = trainDataset.copy()\n",
        "testFeatures = testDataset.copy()\n",
        "\n",
        "print(trainFeatures.head())\n",
        "print(testFeatures.head())"
      ],
      "execution_count": 32,
      "outputs": [
        {
          "output_type": "stream",
          "text": [
            "     G1  G3\n",
            "329  14  14\n",
            "318  11  10\n",
            "317   9   9\n",
            "65   16  15\n",
            "59   15  16\n",
            "    G1  G3\n",
            "9   14  15\n",
            "25   6   8\n",
            "28  11  11\n",
            "31  17  17\n",
            "32  17  16\n"
          ],
          "name": "stdout"
        }
      ]
    },
    {
      "cell_type": "code",
      "metadata": {
        "colab": {
          "base_uri": "https://localhost:8080/"
        },
        "id": "jSR0_uni4ayh",
        "outputId": "61b7d4cf-258d-4d0a-ea99-589385bcf5db"
      },
      "source": [
        "#removing the G3 column and saving it into the labels variable\n",
        "\n",
        "trainLabels = trainFeatures.pop('G3')\n",
        "testLabels = testFeatures.pop('G3')\n",
        "\n",
        "print(trainLabels.head())\n",
        "print(testLabels.head())"
      ],
      "execution_count": 33,
      "outputs": [
        {
          "output_type": "stream",
          "text": [
            "329    14\n",
            "318    10\n",
            "317     9\n",
            "65     15\n",
            "59     16\n",
            "Name: G3, dtype: int64\n",
            "9     15\n",
            "25     8\n",
            "28    11\n",
            "31    17\n",
            "32    16\n",
            "Name: G3, dtype: int64\n"
          ],
          "name": "stdout"
        }
      ]
    },
    {
      "cell_type": "code",
      "metadata": {
        "colab": {
          "base_uri": "https://localhost:8080/"
        },
        "id": "HnGSqb-q4wk8",
        "outputId": "942b461d-3438-4303-e8b3-eb2b3d6117ee"
      },
      "source": [
        "print(trainFeatures.head())\n",
        "print(testFeatures.head())"
      ],
      "execution_count": 34,
      "outputs": [
        {
          "output_type": "stream",
          "text": [
            "     G1\n",
            "329  14\n",
            "318  11\n",
            "317   9\n",
            "65   16\n",
            "59   15\n",
            "    G1\n",
            "9   14\n",
            "25   6\n",
            "28  11\n",
            "31  17\n",
            "32  17\n"
          ],
          "name": "stdout"
        }
      ]
    },
    {
      "cell_type": "code",
      "metadata": {
        "id": "XPTSq34jk4o_"
      },
      "source": [
        "# univariate -> num(features) = 1\n",
        "# multvariate -> num(features) > 1 = 11\n",
        "\n",
        "\n",
        "model = tf.keras.Sequential([\n",
        "                             tf.keras.layers.Dense(1)\n",
        "\n",
        "])"
      ],
      "execution_count": 35,
      "outputs": []
    },
    {
      "cell_type": "code",
      "metadata": {
        "id": "4C4GKBdE6iCE"
      },
      "source": [
        "model.compile(\n",
        "    loss = 'mean_absolute_error', #minimizing the MAE loss\n",
        "    optimizer = tf.keras.optimizers.Adam(0.001), #learning rate specified as 0.001\n",
        "    # optimizer = 'adam', #takes the default learning rate\n",
        "    metrics = ['mae', 'mse'] #meanSquare and meanAbsolute error metrics\n",
        ")"
      ],
      "execution_count": 36,
      "outputs": []
    },
    {
      "cell_type": "code",
      "metadata": {
        "colab": {
          "base_uri": "https://localhost:8080/"
        },
        "id": "d_A7DrhB6zvm",
        "outputId": "63c36f52-5bfb-4849-d2f2-4c806428fe45"
      },
      "source": [
        "numEpochs = 300\n",
        "history = model.fit(x = trainFeatures, y = trainLabels, validation_data = (testFeatures, testLabels), epochs = numEpochs)"
      ],
      "execution_count": 37,
      "outputs": [
        {
          "output_type": "stream",
          "text": [
            "Epoch 1/300\n",
            "10/10 [==============================] - 1s 18ms/step - loss: 4.2176 - mae: 4.2176 - mse: 20.5404 - val_loss: 4.1125 - val_mae: 4.1125 - val_mse: 18.9630\n",
            "Epoch 2/300\n",
            "10/10 [==============================] - 0s 3ms/step - loss: 4.1164 - mae: 4.1164 - mse: 19.6866 - val_loss: 4.0053 - val_mae: 4.0053 - val_mse: 18.0571\n",
            "Epoch 3/300\n",
            "10/10 [==============================] - 0s 3ms/step - loss: 4.0195 - mae: 4.0195 - mse: 18.9071 - val_loss: 3.8972 - val_mae: 3.8972 - val_mse: 17.1780\n",
            "Epoch 4/300\n",
            "10/10 [==============================] - 0s 3ms/step - loss: 3.9182 - mae: 3.9182 - mse: 18.1009 - val_loss: 3.7912 - val_mae: 3.7912 - val_mse: 16.3480\n",
            "Epoch 5/300\n",
            "10/10 [==============================] - 0s 3ms/step - loss: 3.8197 - mae: 3.8197 - mse: 17.3602 - val_loss: 3.6843 - val_mae: 3.6843 - val_mse: 15.5438\n",
            "Epoch 6/300\n",
            "10/10 [==============================] - 0s 5ms/step - loss: 3.7225 - mae: 3.7225 - mse: 16.6467 - val_loss: 3.5769 - val_mae: 3.5769 - val_mse: 14.7690\n",
            "Epoch 7/300\n",
            "10/10 [==============================] - 0s 3ms/step - loss: 3.6243 - mae: 3.6243 - mse: 15.9590 - val_loss: 3.4706 - val_mae: 3.4706 - val_mse: 14.0345\n",
            "Epoch 8/300\n",
            "10/10 [==============================] - 0s 4ms/step - loss: 3.5282 - mae: 3.5282 - mse: 15.3069 - val_loss: 3.3641 - val_mae: 3.3641 - val_mse: 13.3315\n",
            "Epoch 9/300\n",
            "10/10 [==============================] - 0s 3ms/step - loss: 3.4321 - mae: 3.4321 - mse: 14.6917 - val_loss: 3.2580 - val_mae: 3.2580 - val_mse: 12.6632\n",
            "Epoch 10/300\n",
            "10/10 [==============================] - 0s 4ms/step - loss: 3.3357 - mae: 3.3357 - mse: 14.0948 - val_loss: 3.1539 - val_mae: 3.1539 - val_mse: 12.0385\n",
            "Epoch 11/300\n",
            "10/10 [==============================] - 0s 3ms/step - loss: 3.2439 - mae: 3.2439 - mse: 13.5402 - val_loss: 3.0482 - val_mae: 3.0482 - val_mse: 11.4365\n",
            "Epoch 12/300\n",
            "10/10 [==============================] - 0s 3ms/step - loss: 3.1494 - mae: 3.1494 - mse: 13.0082 - val_loss: 2.9473 - val_mae: 2.9473 - val_mse: 10.8749\n",
            "Epoch 13/300\n",
            "10/10 [==============================] - 0s 3ms/step - loss: 3.0580 - mae: 3.0580 - mse: 12.4917 - val_loss: 2.8458 - val_mae: 2.8458 - val_mse: 10.3404\n",
            "Epoch 14/300\n",
            "10/10 [==============================] - 0s 3ms/step - loss: 2.9669 - mae: 2.9669 - mse: 12.0097 - val_loss: 2.7460 - val_mae: 2.7460 - val_mse: 9.8451\n",
            "Epoch 15/300\n",
            "10/10 [==============================] - 0s 4ms/step - loss: 2.8794 - mae: 2.8794 - mse: 11.5874 - val_loss: 2.6468 - val_mae: 2.6468 - val_mse: 9.3830\n",
            "Epoch 16/300\n",
            "10/10 [==============================] - 0s 3ms/step - loss: 2.7934 - mae: 2.7934 - mse: 11.1703 - val_loss: 2.5500 - val_mae: 2.5500 - val_mse: 8.9570\n",
            "Epoch 17/300\n",
            "10/10 [==============================] - 0s 3ms/step - loss: 2.7104 - mae: 2.7104 - mse: 10.8001 - val_loss: 2.4565 - val_mae: 2.4565 - val_mse: 8.5666\n",
            "Epoch 18/300\n",
            "10/10 [==============================] - 0s 3ms/step - loss: 2.6299 - mae: 2.6299 - mse: 10.4421 - val_loss: 2.3640 - val_mae: 2.3640 - val_mse: 8.2080\n",
            "Epoch 19/300\n",
            "10/10 [==============================] - 0s 4ms/step - loss: 2.5503 - mae: 2.5503 - mse: 10.1364 - val_loss: 2.2742 - val_mae: 2.2742 - val_mse: 7.8818\n",
            "Epoch 20/300\n",
            "10/10 [==============================] - 0s 3ms/step - loss: 2.4793 - mae: 2.4793 - mse: 9.8449 - val_loss: 2.1889 - val_mae: 2.1889 - val_mse: 7.5898\n",
            "Epoch 21/300\n",
            "10/10 [==============================] - 0s 3ms/step - loss: 2.4118 - mae: 2.4118 - mse: 9.5918 - val_loss: 2.1073 - val_mae: 2.1073 - val_mse: 7.3347\n",
            "Epoch 22/300\n",
            "10/10 [==============================] - 0s 4ms/step - loss: 2.3493 - mae: 2.3493 - mse: 9.3707 - val_loss: 2.0303 - val_mae: 2.0303 - val_mse: 7.1075\n",
            "Epoch 23/300\n",
            "10/10 [==============================] - 0s 3ms/step - loss: 2.2878 - mae: 2.2878 - mse: 9.1717 - val_loss: 1.9559 - val_mae: 1.9559 - val_mse: 6.9065\n",
            "Epoch 24/300\n",
            "10/10 [==============================] - 0s 4ms/step - loss: 2.2313 - mae: 2.2313 - mse: 8.9931 - val_loss: 1.8822 - val_mae: 1.8822 - val_mse: 6.7256\n",
            "Epoch 25/300\n",
            "10/10 [==============================] - 0s 3ms/step - loss: 2.1763 - mae: 2.1763 - mse: 8.8347 - val_loss: 1.8194 - val_mae: 1.8194 - val_mse: 6.5782\n",
            "Epoch 26/300\n",
            "10/10 [==============================] - 0s 3ms/step - loss: 2.1292 - mae: 2.1292 - mse: 8.6943 - val_loss: 1.7640 - val_mae: 1.7640 - val_mse: 6.4591\n",
            "Epoch 27/300\n",
            "10/10 [==============================] - 0s 3ms/step - loss: 2.0927 - mae: 2.0927 - mse: 8.5947 - val_loss: 1.7159 - val_mae: 1.7159 - val_mse: 6.3605\n",
            "Epoch 28/300\n",
            "10/10 [==============================] - 0s 3ms/step - loss: 2.0591 - mae: 2.0591 - mse: 8.4981 - val_loss: 1.6815 - val_mae: 1.6815 - val_mse: 6.2834\n",
            "Epoch 29/300\n",
            "10/10 [==============================] - 0s 3ms/step - loss: 2.0317 - mae: 2.0317 - mse: 8.4389 - val_loss: 1.6537 - val_mae: 1.6537 - val_mse: 6.2189\n",
            "Epoch 30/300\n",
            "10/10 [==============================] - 0s 4ms/step - loss: 2.0073 - mae: 2.0073 - mse: 8.3893 - val_loss: 1.6324 - val_mae: 1.6324 - val_mse: 6.1711\n",
            "Epoch 31/300\n",
            "10/10 [==============================] - 0s 3ms/step - loss: 1.9868 - mae: 1.9868 - mse: 8.3421 - val_loss: 1.6183 - val_mae: 1.6183 - val_mse: 6.1391\n",
            "Epoch 32/300\n",
            "10/10 [==============================] - 0s 3ms/step - loss: 1.9733 - mae: 1.9733 - mse: 8.3069 - val_loss: 1.6101 - val_mae: 1.6101 - val_mse: 6.1137\n",
            "Epoch 33/300\n",
            "10/10 [==============================] - 0s 3ms/step - loss: 1.9625 - mae: 1.9625 - mse: 8.2879 - val_loss: 1.6057 - val_mae: 1.6057 - val_mse: 6.0956\n",
            "Epoch 34/300\n",
            "10/10 [==============================] - 0s 3ms/step - loss: 1.9502 - mae: 1.9502 - mse: 8.2637 - val_loss: 1.6027 - val_mae: 1.6027 - val_mse: 6.0852\n",
            "Epoch 35/300\n",
            "10/10 [==============================] - 0s 3ms/step - loss: 1.9411 - mae: 1.9411 - mse: 8.2549 - val_loss: 1.6004 - val_mae: 1.6004 - val_mse: 6.0776\n",
            "Epoch 36/300\n",
            "10/10 [==============================] - 0s 3ms/step - loss: 1.9318 - mae: 1.9318 - mse: 8.2517 - val_loss: 1.5989 - val_mae: 1.5989 - val_mse: 6.0742\n",
            "Epoch 37/300\n",
            "10/10 [==============================] - 0s 3ms/step - loss: 1.9212 - mae: 1.9212 - mse: 8.2408 - val_loss: 1.5974 - val_mae: 1.5974 - val_mse: 6.0752\n",
            "Epoch 38/300\n",
            "10/10 [==============================] - 0s 3ms/step - loss: 1.9109 - mae: 1.9109 - mse: 8.2392 - val_loss: 1.5959 - val_mae: 1.5959 - val_mse: 6.0804\n",
            "Epoch 39/300\n",
            "10/10 [==============================] - 0s 3ms/step - loss: 1.9017 - mae: 1.9017 - mse: 8.2433 - val_loss: 1.5943 - val_mae: 1.5943 - val_mse: 6.0907\n",
            "Epoch 40/300\n",
            "10/10 [==============================] - 0s 3ms/step - loss: 1.8910 - mae: 1.8910 - mse: 8.2460 - val_loss: 1.5932 - val_mae: 1.5932 - val_mse: 6.1051\n",
            "Epoch 41/300\n",
            "10/10 [==============================] - 0s 3ms/step - loss: 1.8816 - mae: 1.8816 - mse: 8.2551 - val_loss: 1.5923 - val_mae: 1.5923 - val_mse: 6.1240\n",
            "Epoch 42/300\n",
            "10/10 [==============================] - 0s 3ms/step - loss: 1.8721 - mae: 1.8721 - mse: 8.2712 - val_loss: 1.5921 - val_mae: 1.5921 - val_mse: 6.1455\n",
            "Epoch 43/300\n",
            "10/10 [==============================] - 0s 3ms/step - loss: 1.8640 - mae: 1.8640 - mse: 8.2907 - val_loss: 1.5928 - val_mae: 1.5928 - val_mse: 6.1716\n",
            "Epoch 44/300\n",
            "10/10 [==============================] - 0s 3ms/step - loss: 1.8570 - mae: 1.8570 - mse: 8.3072 - val_loss: 1.5943 - val_mae: 1.5943 - val_mse: 6.1978\n",
            "Epoch 45/300\n",
            "10/10 [==============================] - 0s 3ms/step - loss: 1.8521 - mae: 1.8521 - mse: 8.3310 - val_loss: 1.5966 - val_mae: 1.5966 - val_mse: 6.2233\n",
            "Epoch 46/300\n",
            "10/10 [==============================] - 0s 4ms/step - loss: 1.8495 - mae: 1.8495 - mse: 8.3525 - val_loss: 1.6000 - val_mae: 1.6000 - val_mse: 6.2461\n",
            "Epoch 47/300\n",
            "10/10 [==============================] - 0s 4ms/step - loss: 1.8481 - mae: 1.8481 - mse: 8.3669 - val_loss: 1.6032 - val_mae: 1.6032 - val_mse: 6.2604\n",
            "Epoch 48/300\n",
            "10/10 [==============================] - 0s 3ms/step - loss: 1.8474 - mae: 1.8474 - mse: 8.3700 - val_loss: 1.6038 - val_mae: 1.6038 - val_mse: 6.2628\n",
            "Epoch 49/300\n",
            "10/10 [==============================] - 0s 4ms/step - loss: 1.8472 - mae: 1.8472 - mse: 8.3723 - val_loss: 1.6050 - val_mae: 1.6050 - val_mse: 6.2684\n",
            "Epoch 50/300\n",
            "10/10 [==============================] - 0s 4ms/step - loss: 1.8472 - mae: 1.8472 - mse: 8.3763 - val_loss: 1.6052 - val_mae: 1.6052 - val_mse: 6.2689\n",
            "Epoch 51/300\n",
            "10/10 [==============================] - 0s 6ms/step - loss: 1.8472 - mae: 1.8472 - mse: 8.3735 - val_loss: 1.6042 - val_mae: 1.6042 - val_mse: 6.2642\n",
            "Epoch 52/300\n",
            "10/10 [==============================] - 0s 3ms/step - loss: 1.8472 - mae: 1.8472 - mse: 8.3742 - val_loss: 1.6049 - val_mae: 1.6049 - val_mse: 6.2672\n",
            "Epoch 53/300\n",
            "10/10 [==============================] - 0s 3ms/step - loss: 1.8470 - mae: 1.8470 - mse: 8.3744 - val_loss: 1.6046 - val_mae: 1.6046 - val_mse: 6.2654\n",
            "Epoch 54/300\n",
            "10/10 [==============================] - 0s 3ms/step - loss: 1.8472 - mae: 1.8472 - mse: 8.3718 - val_loss: 1.6040 - val_mae: 1.6040 - val_mse: 6.2624\n",
            "Epoch 55/300\n",
            "10/10 [==============================] - 0s 3ms/step - loss: 1.8470 - mae: 1.8470 - mse: 8.3723 - val_loss: 1.6050 - val_mae: 1.6050 - val_mse: 6.2670\n",
            "Epoch 56/300\n",
            "10/10 [==============================] - 0s 3ms/step - loss: 1.8471 - mae: 1.8471 - mse: 8.3742 - val_loss: 1.6044 - val_mae: 1.6044 - val_mse: 6.2638\n",
            "Epoch 57/300\n",
            "10/10 [==============================] - 0s 3ms/step - loss: 1.8469 - mae: 1.8469 - mse: 8.3726 - val_loss: 1.6050 - val_mae: 1.6050 - val_mse: 6.2666\n",
            "Epoch 58/300\n",
            "10/10 [==============================] - 0s 3ms/step - loss: 1.8469 - mae: 1.8469 - mse: 8.3735 - val_loss: 1.6046 - val_mae: 1.6046 - val_mse: 6.2644\n",
            "Epoch 59/300\n",
            "10/10 [==============================] - 0s 3ms/step - loss: 1.8468 - mae: 1.8468 - mse: 8.3722 - val_loss: 1.6048 - val_mae: 1.6048 - val_mse: 6.2653\n",
            "Epoch 60/300\n",
            "10/10 [==============================] - 0s 4ms/step - loss: 1.8469 - mae: 1.8469 - mse: 8.3750 - val_loss: 1.6055 - val_mae: 1.6055 - val_mse: 6.2679\n",
            "Epoch 61/300\n",
            "10/10 [==============================] - 0s 3ms/step - loss: 1.8468 - mae: 1.8468 - mse: 8.3738 - val_loss: 1.6045 - val_mae: 1.6045 - val_mse: 6.2632\n",
            "Epoch 62/300\n",
            "10/10 [==============================] - 0s 3ms/step - loss: 1.8468 - mae: 1.8468 - mse: 8.3723 - val_loss: 1.6045 - val_mae: 1.6045 - val_mse: 6.2631\n",
            "Epoch 63/300\n",
            "10/10 [==============================] - 0s 3ms/step - loss: 1.8469 - mae: 1.8469 - mse: 8.3678 - val_loss: 1.6036 - val_mae: 1.6036 - val_mse: 6.2586\n",
            "Epoch 64/300\n",
            "10/10 [==============================] - 0s 3ms/step - loss: 1.8466 - mae: 1.8466 - mse: 8.3689 - val_loss: 1.6046 - val_mae: 1.6046 - val_mse: 6.2632\n",
            "Epoch 65/300\n",
            "10/10 [==============================] - 0s 3ms/step - loss: 1.8467 - mae: 1.8467 - mse: 8.3718 - val_loss: 1.6043 - val_mae: 1.6043 - val_mse: 6.2615\n",
            "Epoch 66/300\n",
            "10/10 [==============================] - 0s 4ms/step - loss: 1.8465 - mae: 1.8465 - mse: 8.3703 - val_loss: 1.6046 - val_mae: 1.6046 - val_mse: 6.2624\n",
            "Epoch 67/300\n",
            "10/10 [==============================] - 0s 6ms/step - loss: 1.8465 - mae: 1.8465 - mse: 8.3696 - val_loss: 1.6042 - val_mae: 1.6042 - val_mse: 6.2604\n",
            "Epoch 68/300\n",
            "10/10 [==============================] - 0s 3ms/step - loss: 1.8465 - mae: 1.8465 - mse: 8.3700 - val_loss: 1.6041 - val_mae: 1.6041 - val_mse: 6.2599\n",
            "Epoch 69/300\n",
            "10/10 [==============================] - 0s 3ms/step - loss: 1.8464 - mae: 1.8464 - mse: 8.3692 - val_loss: 1.6042 - val_mae: 1.6042 - val_mse: 6.2600\n",
            "Epoch 70/300\n",
            "10/10 [==============================] - 0s 3ms/step - loss: 1.8464 - mae: 1.8464 - mse: 8.3701 - val_loss: 1.6050 - val_mae: 1.6050 - val_mse: 6.2631\n",
            "Epoch 71/300\n",
            "10/10 [==============================] - 0s 3ms/step - loss: 1.8466 - mae: 1.8466 - mse: 8.3692 - val_loss: 1.6032 - val_mae: 1.6032 - val_mse: 6.2550\n",
            "Epoch 72/300\n",
            "10/10 [==============================] - 0s 4ms/step - loss: 1.8464 - mae: 1.8464 - mse: 8.3676 - val_loss: 1.6041 - val_mae: 1.6041 - val_mse: 6.2589\n",
            "Epoch 73/300\n",
            "10/10 [==============================] - 0s 3ms/step - loss: 1.8463 - mae: 1.8463 - mse: 8.3686 - val_loss: 1.6050 - val_mae: 1.6050 - val_mse: 6.2623\n",
            "Epoch 74/300\n",
            "10/10 [==============================] - 0s 3ms/step - loss: 1.8462 - mae: 1.8462 - mse: 8.3701 - val_loss: 1.6043 - val_mae: 1.6043 - val_mse: 6.2590\n",
            "Epoch 75/300\n",
            "10/10 [==============================] - 0s 3ms/step - loss: 1.8461 - mae: 1.8461 - mse: 8.3655 - val_loss: 1.6032 - val_mae: 1.6032 - val_mse: 6.2539\n",
            "Epoch 76/300\n",
            "10/10 [==============================] - 0s 3ms/step - loss: 1.8461 - mae: 1.8461 - mse: 8.3640 - val_loss: 1.6036 - val_mae: 1.6036 - val_mse: 6.2554\n",
            "Epoch 77/300\n",
            "10/10 [==============================] - 0s 4ms/step - loss: 1.8460 - mae: 1.8460 - mse: 8.3667 - val_loss: 1.6040 - val_mae: 1.6040 - val_mse: 6.2572\n",
            "Epoch 78/300\n",
            "10/10 [==============================] - 0s 3ms/step - loss: 1.8461 - mae: 1.8461 - mse: 8.3654 - val_loss: 1.6037 - val_mae: 1.6037 - val_mse: 6.2556\n",
            "Epoch 79/300\n",
            "10/10 [==============================] - 0s 3ms/step - loss: 1.8459 - mae: 1.8459 - mse: 8.3674 - val_loss: 1.6042 - val_mae: 1.6042 - val_mse: 6.2575\n",
            "Epoch 80/300\n",
            "10/10 [==============================] - 0s 3ms/step - loss: 1.8459 - mae: 1.8459 - mse: 8.3647 - val_loss: 1.6038 - val_mae: 1.6038 - val_mse: 6.2552\n",
            "Epoch 81/300\n",
            "10/10 [==============================] - 0s 3ms/step - loss: 1.8458 - mae: 1.8458 - mse: 8.3662 - val_loss: 1.6046 - val_mae: 1.6046 - val_mse: 6.2585\n",
            "Epoch 82/300\n",
            "10/10 [==============================] - 0s 3ms/step - loss: 1.8457 - mae: 1.8457 - mse: 8.3656 - val_loss: 1.6037 - val_mae: 1.6037 - val_mse: 6.2544\n",
            "Epoch 83/300\n",
            "10/10 [==============================] - 0s 3ms/step - loss: 1.8459 - mae: 1.8459 - mse: 8.3669 - val_loss: 1.6044 - val_mae: 1.6044 - val_mse: 6.2571\n",
            "Epoch 84/300\n",
            "10/10 [==============================] - 0s 4ms/step - loss: 1.8458 - mae: 1.8458 - mse: 8.3634 - val_loss: 1.6024 - val_mae: 1.6024 - val_mse: 6.2479\n",
            "Epoch 85/300\n",
            "10/10 [==============================] - 0s 3ms/step - loss: 1.8457 - mae: 1.8457 - mse: 8.3595 - val_loss: 1.6030 - val_mae: 1.6030 - val_mse: 6.2502\n",
            "Epoch 86/300\n",
            "10/10 [==============================] - 0s 4ms/step - loss: 1.8456 - mae: 1.8456 - mse: 8.3630 - val_loss: 1.6049 - val_mae: 1.6049 - val_mse: 6.2581\n",
            "Epoch 87/300\n",
            "10/10 [==============================] - 0s 3ms/step - loss: 1.8456 - mae: 1.8456 - mse: 8.3658 - val_loss: 1.6037 - val_mae: 1.6037 - val_mse: 6.2529\n",
            "Epoch 88/300\n",
            "10/10 [==============================] - 0s 3ms/step - loss: 1.8455 - mae: 1.8455 - mse: 8.3646 - val_loss: 1.6036 - val_mae: 1.6036 - val_mse: 6.2524\n",
            "Epoch 89/300\n",
            "10/10 [==============================] - 0s 4ms/step - loss: 1.8455 - mae: 1.8455 - mse: 8.3616 - val_loss: 1.6035 - val_mae: 1.6035 - val_mse: 6.2517\n",
            "Epoch 90/300\n",
            "10/10 [==============================] - 0s 4ms/step - loss: 1.8454 - mae: 1.8454 - mse: 8.3601 - val_loss: 1.6028 - val_mae: 1.6028 - val_mse: 6.2480\n",
            "Epoch 91/300\n",
            "10/10 [==============================] - 0s 4ms/step - loss: 1.8453 - mae: 1.8453 - mse: 8.3609 - val_loss: 1.6041 - val_mae: 1.6041 - val_mse: 6.2535\n",
            "Epoch 92/300\n",
            "10/10 [==============================] - 0s 3ms/step - loss: 1.8453 - mae: 1.8453 - mse: 8.3624 - val_loss: 1.6029 - val_mae: 1.6029 - val_mse: 6.2477\n",
            "Epoch 93/300\n",
            "10/10 [==============================] - 0s 4ms/step - loss: 1.8458 - mae: 1.8458 - mse: 8.3560 - val_loss: 1.6019 - val_mae: 1.6019 - val_mse: 6.2430\n",
            "Epoch 94/300\n",
            "10/10 [==============================] - 0s 4ms/step - loss: 1.8451 - mae: 1.8451 - mse: 8.3592 - val_loss: 1.6039 - val_mae: 1.6039 - val_mse: 6.2519\n",
            "Epoch 95/300\n",
            "10/10 [==============================] - 0s 3ms/step - loss: 1.8451 - mae: 1.8451 - mse: 8.3624 - val_loss: 1.6041 - val_mae: 1.6041 - val_mse: 6.2525\n",
            "Epoch 96/300\n",
            "10/10 [==============================] - 0s 4ms/step - loss: 1.8450 - mae: 1.8450 - mse: 8.3600 - val_loss: 1.6030 - val_mae: 1.6030 - val_mse: 6.2474\n",
            "Epoch 97/300\n",
            "10/10 [==============================] - 0s 4ms/step - loss: 1.8450 - mae: 1.8450 - mse: 8.3595 - val_loss: 1.6037 - val_mae: 1.6037 - val_mse: 6.2500\n",
            "Epoch 98/300\n",
            "10/10 [==============================] - 0s 4ms/step - loss: 1.8449 - mae: 1.8449 - mse: 8.3595 - val_loss: 1.6032 - val_mae: 1.6032 - val_mse: 6.2474\n",
            "Epoch 99/300\n",
            "10/10 [==============================] - 0s 3ms/step - loss: 1.8448 - mae: 1.8448 - mse: 8.3579 - val_loss: 1.6031 - val_mae: 1.6031 - val_mse: 6.2467\n",
            "Epoch 100/300\n",
            "10/10 [==============================] - 0s 3ms/step - loss: 1.8448 - mae: 1.8448 - mse: 8.3594 - val_loss: 1.6037 - val_mae: 1.6037 - val_mse: 6.2492\n",
            "Epoch 101/300\n",
            "10/10 [==============================] - 0s 4ms/step - loss: 1.8447 - mae: 1.8447 - mse: 8.3585 - val_loss: 1.6023 - val_mae: 1.6023 - val_mse: 6.2424\n",
            "Epoch 102/300\n",
            "10/10 [==============================] - 0s 4ms/step - loss: 1.8452 - mae: 1.8452 - mse: 8.3592 - val_loss: 1.6035 - val_mae: 1.6035 - val_mse: 6.2477\n",
            "Epoch 103/300\n",
            "10/10 [==============================] - 0s 7ms/step - loss: 1.8445 - mae: 1.8445 - mse: 8.3568 - val_loss: 1.6027 - val_mae: 1.6027 - val_mse: 6.2439\n",
            "Epoch 104/300\n",
            "10/10 [==============================] - 0s 6ms/step - loss: 1.8446 - mae: 1.8446 - mse: 8.3577 - val_loss: 1.6035 - val_mae: 1.6035 - val_mse: 6.2469\n",
            "Epoch 105/300\n",
            "10/10 [==============================] - 0s 3ms/step - loss: 1.8444 - mae: 1.8444 - mse: 8.3567 - val_loss: 1.6023 - val_mae: 1.6023 - val_mse: 6.2413\n",
            "Epoch 106/300\n",
            "10/10 [==============================] - 0s 4ms/step - loss: 1.8445 - mae: 1.8445 - mse: 8.3551 - val_loss: 1.6029 - val_mae: 1.6029 - val_mse: 6.2438\n",
            "Epoch 107/300\n",
            "10/10 [==============================] - 0s 3ms/step - loss: 1.8444 - mae: 1.8444 - mse: 8.3562 - val_loss: 1.6029 - val_mae: 1.6029 - val_mse: 6.2436\n",
            "Epoch 108/300\n",
            "10/10 [==============================] - 0s 4ms/step - loss: 1.8443 - mae: 1.8443 - mse: 8.3544 - val_loss: 1.6026 - val_mae: 1.6026 - val_mse: 6.2419\n",
            "Epoch 109/300\n",
            "10/10 [==============================] - 0s 3ms/step - loss: 1.8443 - mae: 1.8443 - mse: 8.3566 - val_loss: 1.6034 - val_mae: 1.6034 - val_mse: 6.2448\n",
            "Epoch 110/300\n",
            "10/10 [==============================] - 0s 4ms/step - loss: 1.8441 - mae: 1.8441 - mse: 8.3551 - val_loss: 1.6027 - val_mae: 1.6027 - val_mse: 6.2415\n",
            "Epoch 111/300\n",
            "10/10 [==============================] - 0s 4ms/step - loss: 1.8441 - mae: 1.8441 - mse: 8.3545 - val_loss: 1.6028 - val_mae: 1.6028 - val_mse: 6.2417\n",
            "Epoch 112/300\n",
            "10/10 [==============================] - 0s 4ms/step - loss: 1.8440 - mae: 1.8440 - mse: 8.3518 - val_loss: 1.6016 - val_mae: 1.6016 - val_mse: 6.2356\n",
            "Epoch 113/300\n",
            "10/10 [==============================] - 0s 4ms/step - loss: 1.8441 - mae: 1.8441 - mse: 8.3482 - val_loss: 1.6017 - val_mae: 1.6017 - val_mse: 6.2359\n",
            "Epoch 114/300\n",
            "10/10 [==============================] - 0s 4ms/step - loss: 1.8441 - mae: 1.8441 - mse: 8.3485 - val_loss: 1.6020 - val_mae: 1.6020 - val_mse: 6.2369\n",
            "Epoch 115/300\n",
            "10/10 [==============================] - 0s 6ms/step - loss: 1.8440 - mae: 1.8440 - mse: 8.3541 - val_loss: 1.6040 - val_mae: 1.6040 - val_mse: 6.2452\n",
            "Epoch 116/300\n",
            "10/10 [==============================] - 0s 4ms/step - loss: 1.8439 - mae: 1.8439 - mse: 8.3537 - val_loss: 1.6024 - val_mae: 1.6024 - val_mse: 6.2383\n",
            "Epoch 117/300\n",
            "10/10 [==============================] - 0s 4ms/step - loss: 1.8437 - mae: 1.8437 - mse: 8.3518 - val_loss: 1.6024 - val_mae: 1.6024 - val_mse: 6.2380\n",
            "Epoch 118/300\n",
            "10/10 [==============================] - 0s 4ms/step - loss: 1.8437 - mae: 1.8437 - mse: 8.3504 - val_loss: 1.6022 - val_mae: 1.6022 - val_mse: 6.2368\n",
            "Epoch 119/300\n",
            "10/10 [==============================] - 0s 4ms/step - loss: 1.8436 - mae: 1.8436 - mse: 8.3504 - val_loss: 1.6026 - val_mae: 1.6026 - val_mse: 6.2380\n",
            "Epoch 120/300\n",
            "10/10 [==============================] - 0s 3ms/step - loss: 1.8435 - mae: 1.8435 - mse: 8.3511 - val_loss: 1.6022 - val_mae: 1.6022 - val_mse: 6.2360\n",
            "Epoch 121/300\n",
            "10/10 [==============================] - 0s 3ms/step - loss: 1.8435 - mae: 1.8435 - mse: 8.3498 - val_loss: 1.6020 - val_mae: 1.6020 - val_mse: 6.2347\n",
            "Epoch 122/300\n",
            "10/10 [==============================] - 0s 4ms/step - loss: 1.8434 - mae: 1.8434 - mse: 8.3487 - val_loss: 1.6023 - val_mae: 1.6023 - val_mse: 6.2358\n",
            "Epoch 123/300\n",
            "10/10 [==============================] - 0s 4ms/step - loss: 1.8434 - mae: 1.8434 - mse: 8.3501 - val_loss: 1.6021 - val_mae: 1.6021 - val_mse: 6.2347\n",
            "Epoch 124/300\n",
            "10/10 [==============================] - 0s 5ms/step - loss: 1.8438 - mae: 1.8438 - mse: 8.3458 - val_loss: 1.6008 - val_mae: 1.6008 - val_mse: 6.2282\n",
            "Epoch 125/300\n",
            "10/10 [==============================] - 0s 4ms/step - loss: 1.8432 - mae: 1.8432 - mse: 8.3483 - val_loss: 1.6030 - val_mae: 1.6030 - val_mse: 6.2378\n",
            "Epoch 126/300\n",
            "10/10 [==============================] - 0s 4ms/step - loss: 1.8434 - mae: 1.8434 - mse: 8.3520 - val_loss: 1.6035 - val_mae: 1.6035 - val_mse: 6.2393\n",
            "Epoch 127/300\n",
            "10/10 [==============================] - 0s 3ms/step - loss: 1.8437 - mae: 1.8437 - mse: 8.3468 - val_loss: 1.6009 - val_mae: 1.6009 - val_mse: 6.2276\n",
            "Epoch 128/300\n",
            "10/10 [==============================] - 0s 4ms/step - loss: 1.8430 - mae: 1.8430 - mse: 8.3443 - val_loss: 1.6020 - val_mae: 1.6020 - val_mse: 6.2326\n",
            "Epoch 129/300\n",
            "10/10 [==============================] - 0s 4ms/step - loss: 1.8429 - mae: 1.8429 - mse: 8.3480 - val_loss: 1.6024 - val_mae: 1.6024 - val_mse: 6.2340\n",
            "Epoch 130/300\n",
            "10/10 [==============================] - 0s 3ms/step - loss: 1.8428 - mae: 1.8428 - mse: 8.3462 - val_loss: 1.6011 - val_mae: 1.6011 - val_mse: 6.2277\n",
            "Epoch 131/300\n",
            "10/10 [==============================] - 0s 3ms/step - loss: 1.8428 - mae: 1.8428 - mse: 8.3416 - val_loss: 1.6010 - val_mae: 1.6010 - val_mse: 6.2268\n",
            "Epoch 132/300\n",
            "10/10 [==============================] - 0s 4ms/step - loss: 1.8427 - mae: 1.8427 - mse: 8.3445 - val_loss: 1.6022 - val_mae: 1.6022 - val_mse: 6.2317\n",
            "Epoch 133/300\n",
            "10/10 [==============================] - 0s 3ms/step - loss: 1.8426 - mae: 1.8426 - mse: 8.3450 - val_loss: 1.6014 - val_mae: 1.6014 - val_mse: 6.2278\n",
            "Epoch 134/300\n",
            "10/10 [==============================] - 0s 3ms/step - loss: 1.8426 - mae: 1.8426 - mse: 8.3418 - val_loss: 1.6016 - val_mae: 1.6016 - val_mse: 6.2284\n",
            "Epoch 135/300\n",
            "10/10 [==============================] - 0s 4ms/step - loss: 1.8430 - mae: 1.8430 - mse: 8.3407 - val_loss: 1.6009 - val_mae: 1.6009 - val_mse: 6.2248\n",
            "Epoch 136/300\n",
            "10/10 [==============================] - 0s 4ms/step - loss: 1.8428 - mae: 1.8428 - mse: 8.3454 - val_loss: 1.6032 - val_mae: 1.6032 - val_mse: 6.2348\n",
            "Epoch 137/300\n",
            "10/10 [==============================] - 0s 4ms/step - loss: 1.8424 - mae: 1.8424 - mse: 8.3455 - val_loss: 1.6011 - val_mae: 1.6011 - val_mse: 6.2252\n",
            "Epoch 138/300\n",
            "10/10 [==============================] - 0s 3ms/step - loss: 1.8424 - mae: 1.8424 - mse: 8.3418 - val_loss: 1.6011 - val_mae: 1.6011 - val_mse: 6.2249\n",
            "Epoch 139/300\n",
            "10/10 [==============================] - 0s 3ms/step - loss: 1.8431 - mae: 1.8431 - mse: 8.3351 - val_loss: 1.5986 - val_mae: 1.5986 - val_mse: 6.2130\n",
            "Epoch 140/300\n",
            "10/10 [==============================] - 0s 3ms/step - loss: 1.8423 - mae: 1.8423 - mse: 8.3339 - val_loss: 1.6005 - val_mae: 1.6005 - val_mse: 6.2215\n",
            "Epoch 141/300\n",
            "10/10 [==============================] - 0s 3ms/step - loss: 1.8421 - mae: 1.8421 - mse: 8.3405 - val_loss: 1.6029 - val_mae: 1.6029 - val_mse: 6.2313\n",
            "Epoch 142/300\n",
            "10/10 [==============================] - 0s 4ms/step - loss: 1.8422 - mae: 1.8422 - mse: 8.3423 - val_loss: 1.6012 - val_mae: 1.6012 - val_mse: 6.2240\n",
            "Epoch 143/300\n",
            "10/10 [==============================] - 0s 3ms/step - loss: 1.8421 - mae: 1.8421 - mse: 8.3378 - val_loss: 1.6004 - val_mae: 1.6004 - val_mse: 6.2199\n",
            "Epoch 144/300\n",
            "10/10 [==============================] - 0s 4ms/step - loss: 1.8419 - mae: 1.8419 - mse: 8.3402 - val_loss: 1.6026 - val_mae: 1.6026 - val_mse: 6.2292\n",
            "Epoch 145/300\n",
            "10/10 [==============================] - 0s 3ms/step - loss: 1.8419 - mae: 1.8419 - mse: 8.3431 - val_loss: 1.6017 - val_mae: 1.6017 - val_mse: 6.2250\n",
            "Epoch 146/300\n",
            "10/10 [==============================] - 0s 3ms/step - loss: 1.8417 - mae: 1.8417 - mse: 8.3373 - val_loss: 1.6007 - val_mae: 1.6007 - val_mse: 6.2203\n",
            "Epoch 147/300\n",
            "10/10 [==============================] - 0s 3ms/step - loss: 1.8417 - mae: 1.8417 - mse: 8.3392 - val_loss: 1.6010 - val_mae: 1.6010 - val_mse: 6.2212\n",
            "Epoch 148/300\n",
            "10/10 [==============================] - 0s 4ms/step - loss: 1.8416 - mae: 1.8416 - mse: 8.3371 - val_loss: 1.6000 - val_mae: 1.6000 - val_mse: 6.2159\n",
            "Epoch 149/300\n",
            "10/10 [==============================] - 0s 3ms/step - loss: 1.8416 - mae: 1.8416 - mse: 8.3320 - val_loss: 1.5999 - val_mae: 1.5999 - val_mse: 6.2153\n",
            "Epoch 150/300\n",
            "10/10 [==============================] - 0s 4ms/step - loss: 1.8415 - mae: 1.8415 - mse: 8.3350 - val_loss: 1.6012 - val_mae: 1.6012 - val_mse: 6.2207\n",
            "Epoch 151/300\n",
            "10/10 [==============================] - 0s 6ms/step - loss: 1.8415 - mae: 1.8415 - mse: 8.3373 - val_loss: 1.6005 - val_mae: 1.6005 - val_mse: 6.2173\n",
            "Epoch 152/300\n",
            "10/10 [==============================] - 0s 4ms/step - loss: 1.8413 - mae: 1.8413 - mse: 8.3346 - val_loss: 1.6003 - val_mae: 1.6003 - val_mse: 6.2163\n",
            "Epoch 153/300\n",
            "10/10 [==============================] - 0s 4ms/step - loss: 1.8412 - mae: 1.8412 - mse: 8.3334 - val_loss: 1.6009 - val_mae: 1.6009 - val_mse: 6.2185\n",
            "Epoch 154/300\n",
            "10/10 [==============================] - 0s 4ms/step - loss: 1.8411 - mae: 1.8411 - mse: 8.3338 - val_loss: 1.6010 - val_mae: 1.6010 - val_mse: 6.2187\n",
            "Epoch 155/300\n",
            "10/10 [==============================] - 0s 3ms/step - loss: 1.8411 - mae: 1.8411 - mse: 8.3375 - val_loss: 1.6017 - val_mae: 1.6017 - val_mse: 6.2210\n",
            "Epoch 156/300\n",
            "10/10 [==============================] - 0s 3ms/step - loss: 1.8413 - mae: 1.8413 - mse: 8.3340 - val_loss: 1.5995 - val_mae: 1.5995 - val_mse: 6.2111\n",
            "Epoch 157/300\n",
            "10/10 [==============================] - 0s 3ms/step - loss: 1.8409 - mae: 1.8409 - mse: 8.3342 - val_loss: 1.6013 - val_mae: 1.6013 - val_mse: 6.2186\n",
            "Epoch 158/300\n",
            "10/10 [==============================] - 0s 4ms/step - loss: 1.8409 - mae: 1.8409 - mse: 8.3354 - val_loss: 1.6003 - val_mae: 1.6003 - val_mse: 6.2139\n",
            "Epoch 159/300\n",
            "10/10 [==============================] - 0s 4ms/step - loss: 1.8407 - mae: 1.8407 - mse: 8.3320 - val_loss: 1.6004 - val_mae: 1.6004 - val_mse: 6.2142\n",
            "Epoch 160/300\n",
            "10/10 [==============================] - 0s 3ms/step - loss: 1.8408 - mae: 1.8408 - mse: 8.3313 - val_loss: 1.5993 - val_mae: 1.5993 - val_mse: 6.2085\n",
            "Epoch 161/300\n",
            "10/10 [==============================] - 0s 4ms/step - loss: 1.8410 - mae: 1.8410 - mse: 8.3322 - val_loss: 1.6008 - val_mae: 1.6008 - val_mse: 6.2151\n",
            "Epoch 162/300\n",
            "10/10 [==============================] - 0s 4ms/step - loss: 1.8405 - mae: 1.8405 - mse: 8.3281 - val_loss: 1.5996 - val_mae: 1.5996 - val_mse: 6.2093\n",
            "Epoch 163/300\n",
            "10/10 [==============================] - 0s 4ms/step - loss: 1.8405 - mae: 1.8405 - mse: 8.3294 - val_loss: 1.6001 - val_mae: 1.6001 - val_mse: 6.2112\n",
            "Epoch 164/300\n",
            "10/10 [==============================] - 0s 3ms/step - loss: 1.8406 - mae: 1.8406 - mse: 8.3272 - val_loss: 1.5998 - val_mae: 1.5998 - val_mse: 6.2091\n",
            "Epoch 165/300\n",
            "10/10 [==============================] - 0s 3ms/step - loss: 1.8402 - mae: 1.8402 - mse: 8.3293 - val_loss: 1.6004 - val_mae: 1.6004 - val_mse: 6.2120\n",
            "Epoch 166/300\n",
            "10/10 [==============================] - 0s 4ms/step - loss: 1.8402 - mae: 1.8402 - mse: 8.3285 - val_loss: 1.6000 - val_mae: 1.6000 - val_mse: 6.2096\n",
            "Epoch 167/300\n",
            "10/10 [==============================] - 0s 4ms/step - loss: 1.8401 - mae: 1.8401 - mse: 8.3287 - val_loss: 1.6005 - val_mae: 1.6005 - val_mse: 6.2115\n",
            "Epoch 168/300\n",
            "10/10 [==============================] - 0s 4ms/step - loss: 1.8406 - mae: 1.8406 - mse: 8.3337 - val_loss: 1.6014 - val_mae: 1.6014 - val_mse: 6.2151\n",
            "Epoch 169/300\n",
            "10/10 [==============================] - 0s 5ms/step - loss: 1.8403 - mae: 1.8403 - mse: 8.3233 - val_loss: 1.5976 - val_mae: 1.5976 - val_mse: 6.1972\n",
            "Epoch 170/300\n",
            "10/10 [==============================] - 0s 4ms/step - loss: 1.8401 - mae: 1.8401 - mse: 8.3200 - val_loss: 1.5983 - val_mae: 1.5983 - val_mse: 6.2000\n",
            "Epoch 171/300\n",
            "10/10 [==============================] - 0s 4ms/step - loss: 1.8398 - mae: 1.8398 - mse: 8.3217 - val_loss: 1.5995 - val_mae: 1.5995 - val_mse: 6.2053\n",
            "Epoch 172/300\n",
            "10/10 [==============================] - 0s 4ms/step - loss: 1.8397 - mae: 1.8397 - mse: 8.3269 - val_loss: 1.6003 - val_mae: 1.6003 - val_mse: 6.2087\n",
            "Epoch 173/300\n",
            "10/10 [==============================] - 0s 4ms/step - loss: 1.8397 - mae: 1.8397 - mse: 8.3261 - val_loss: 1.5991 - val_mae: 1.5991 - val_mse: 6.2026\n",
            "Epoch 174/300\n",
            "10/10 [==============================] - 0s 3ms/step - loss: 1.8397 - mae: 1.8397 - mse: 8.3254 - val_loss: 1.6000 - val_mae: 1.6000 - val_mse: 6.2065\n",
            "Epoch 175/300\n",
            "10/10 [==============================] - 0s 5ms/step - loss: 1.8397 - mae: 1.8397 - mse: 8.3274 - val_loss: 1.5995 - val_mae: 1.5995 - val_mse: 6.2041\n",
            "Epoch 176/300\n",
            "10/10 [==============================] - 0s 5ms/step - loss: 1.8394 - mae: 1.8394 - mse: 8.3208 - val_loss: 1.5985 - val_mae: 1.5985 - val_mse: 6.1989\n",
            "Epoch 177/300\n",
            "10/10 [==============================] - 0s 4ms/step - loss: 1.8394 - mae: 1.8394 - mse: 8.3174 - val_loss: 1.5980 - val_mae: 1.5980 - val_mse: 6.1962\n",
            "Epoch 178/300\n",
            "10/10 [==============================] - 0s 4ms/step - loss: 1.8394 - mae: 1.8394 - mse: 8.3182 - val_loss: 1.5987 - val_mae: 1.5987 - val_mse: 6.1992\n",
            "Epoch 179/300\n",
            "10/10 [==============================] - 0s 4ms/step - loss: 1.8391 - mae: 1.8391 - mse: 8.3202 - val_loss: 1.6000 - val_mae: 1.6000 - val_mse: 6.2045\n",
            "Epoch 180/300\n",
            "10/10 [==============================] - 0s 4ms/step - loss: 1.8393 - mae: 1.8393 - mse: 8.3272 - val_loss: 1.6014 - val_mae: 1.6014 - val_mse: 6.2103\n",
            "Epoch 181/300\n",
            "10/10 [==============================] - 0s 5ms/step - loss: 1.8394 - mae: 1.8394 - mse: 8.3240 - val_loss: 1.5993 - val_mae: 1.5993 - val_mse: 6.2007\n",
            "Epoch 182/300\n",
            "10/10 [==============================] - 0s 4ms/step - loss: 1.8390 - mae: 1.8390 - mse: 8.3198 - val_loss: 1.5993 - val_mae: 1.5993 - val_mse: 6.2005\n",
            "Epoch 183/300\n",
            "10/10 [==============================] - 0s 4ms/step - loss: 1.8390 - mae: 1.8390 - mse: 8.3218 - val_loss: 1.5990 - val_mae: 1.5990 - val_mse: 6.1984\n",
            "Epoch 184/300\n",
            "10/10 [==============================] - 0s 4ms/step - loss: 1.8388 - mae: 1.8388 - mse: 8.3176 - val_loss: 1.5985 - val_mae: 1.5985 - val_mse: 6.1960\n",
            "Epoch 185/300\n",
            "10/10 [==============================] - 0s 3ms/step - loss: 1.8387 - mae: 1.8387 - mse: 8.3198 - val_loss: 1.5991 - val_mae: 1.5991 - val_mse: 6.1984\n",
            "Epoch 186/300\n",
            "10/10 [==============================] - 0s 3ms/step - loss: 1.8386 - mae: 1.8386 - mse: 8.3172 - val_loss: 1.5986 - val_mae: 1.5986 - val_mse: 6.1955\n",
            "Epoch 187/300\n",
            "10/10 [==============================] - 0s 3ms/step - loss: 1.8387 - mae: 1.8387 - mse: 8.3208 - val_loss: 1.5999 - val_mae: 1.5999 - val_mse: 6.2011\n",
            "Epoch 188/300\n",
            "10/10 [==============================] - 0s 3ms/step - loss: 1.8385 - mae: 1.8385 - mse: 8.3166 - val_loss: 1.5980 - val_mae: 1.5980 - val_mse: 6.1917\n",
            "Epoch 189/300\n",
            "10/10 [==============================] - 0s 3ms/step - loss: 1.8383 - mae: 1.8383 - mse: 8.3131 - val_loss: 1.5987 - val_mae: 1.5987 - val_mse: 6.1947\n",
            "Epoch 190/300\n",
            "10/10 [==============================] - 0s 4ms/step - loss: 1.8383 - mae: 1.8383 - mse: 8.3171 - val_loss: 1.5989 - val_mae: 1.5989 - val_mse: 6.1953\n",
            "Epoch 191/300\n",
            "10/10 [==============================] - 0s 3ms/step - loss: 1.8382 - mae: 1.8382 - mse: 8.3141 - val_loss: 1.5983 - val_mae: 1.5983 - val_mse: 6.1924\n",
            "Epoch 192/300\n",
            "10/10 [==============================] - 0s 3ms/step - loss: 1.8380 - mae: 1.8380 - mse: 8.3157 - val_loss: 1.5994 - val_mae: 1.5994 - val_mse: 6.1966\n",
            "Epoch 193/300\n",
            "10/10 [==============================] - 0s 4ms/step - loss: 1.8381 - mae: 1.8381 - mse: 8.3164 - val_loss: 1.5989 - val_mae: 1.5989 - val_mse: 6.1942\n",
            "Epoch 194/300\n",
            "10/10 [==============================] - 0s 4ms/step - loss: 1.8381 - mae: 1.8381 - mse: 8.3174 - val_loss: 1.5996 - val_mae: 1.5996 - val_mse: 6.1968\n",
            "Epoch 195/300\n",
            "10/10 [==============================] - 0s 3ms/step - loss: 1.8380 - mae: 1.8380 - mse: 8.3132 - val_loss: 1.5981 - val_mae: 1.5981 - val_mse: 6.1895\n",
            "Epoch 196/300\n",
            "10/10 [==============================] - 0s 3ms/step - loss: 1.8377 - mae: 1.8377 - mse: 8.3129 - val_loss: 1.5988 - val_mae: 1.5988 - val_mse: 6.1924\n",
            "Epoch 197/300\n",
            "10/10 [==============================] - 0s 3ms/step - loss: 1.8377 - mae: 1.8377 - mse: 8.3123 - val_loss: 1.5983 - val_mae: 1.5983 - val_mse: 6.1901\n",
            "Epoch 198/300\n",
            "10/10 [==============================] - 0s 5ms/step - loss: 1.8375 - mae: 1.8375 - mse: 8.3127 - val_loss: 1.5980 - val_mae: 1.5980 - val_mse: 6.1881\n",
            "Epoch 199/300\n",
            "10/10 [==============================] - 0s 5ms/step - loss: 1.8379 - mae: 1.8379 - mse: 8.3073 - val_loss: 1.5975 - val_mae: 1.5975 - val_mse: 6.1851\n",
            "Epoch 200/300\n",
            "10/10 [==============================] - 0s 4ms/step - loss: 1.8378 - mae: 1.8378 - mse: 8.3153 - val_loss: 1.5992 - val_mae: 1.5992 - val_mse: 6.1926\n",
            "Epoch 201/300\n",
            "10/10 [==============================] - 0s 4ms/step - loss: 1.8374 - mae: 1.8374 - mse: 8.3141 - val_loss: 1.5980 - val_mae: 1.5980 - val_mse: 6.1870\n",
            "Epoch 202/300\n",
            "10/10 [==============================] - 0s 4ms/step - loss: 1.8373 - mae: 1.8373 - mse: 8.3064 - val_loss: 1.5969 - val_mae: 1.5969 - val_mse: 6.1814\n",
            "Epoch 203/300\n",
            "10/10 [==============================] - 0s 4ms/step - loss: 1.8373 - mae: 1.8373 - mse: 8.3099 - val_loss: 1.5995 - val_mae: 1.5995 - val_mse: 6.1928\n",
            "Epoch 204/300\n",
            "10/10 [==============================] - 0s 4ms/step - loss: 1.8371 - mae: 1.8371 - mse: 8.3122 - val_loss: 1.5983 - val_mae: 1.5983 - val_mse: 6.1871\n",
            "Epoch 205/300\n",
            "10/10 [==============================] - 0s 4ms/step - loss: 1.8370 - mae: 1.8370 - mse: 8.3096 - val_loss: 1.5975 - val_mae: 1.5975 - val_mse: 6.1829\n",
            "Epoch 206/300\n",
            "10/10 [==============================] - 0s 4ms/step - loss: 1.8368 - mae: 1.8368 - mse: 8.3051 - val_loss: 1.5973 - val_mae: 1.5973 - val_mse: 6.1819\n",
            "Epoch 207/300\n",
            "10/10 [==============================] - 0s 4ms/step - loss: 1.8366 - mae: 1.8366 - mse: 8.3064 - val_loss: 1.5982 - val_mae: 1.5982 - val_mse: 6.1853\n",
            "Epoch 208/300\n",
            "10/10 [==============================] - 0s 4ms/step - loss: 1.8368 - mae: 1.8368 - mse: 8.3095 - val_loss: 1.5983 - val_mae: 1.5983 - val_mse: 6.1856\n",
            "Epoch 209/300\n",
            "10/10 [==============================] - 0s 4ms/step - loss: 1.8365 - mae: 1.8365 - mse: 8.3060 - val_loss: 1.5968 - val_mae: 1.5968 - val_mse: 6.1780\n",
            "Epoch 210/300\n",
            "10/10 [==============================] - 0s 4ms/step - loss: 1.8367 - mae: 1.8367 - mse: 8.3042 - val_loss: 1.5978 - val_mae: 1.5978 - val_mse: 6.1824\n",
            "Epoch 211/300\n",
            "10/10 [==============================] - 0s 3ms/step - loss: 1.8367 - mae: 1.8367 - mse: 8.3017 - val_loss: 1.5967 - val_mae: 1.5967 - val_mse: 6.1768\n",
            "Epoch 212/300\n",
            "10/10 [==============================] - 0s 3ms/step - loss: 1.8362 - mae: 1.8362 - mse: 8.3053 - val_loss: 1.5992 - val_mae: 1.5992 - val_mse: 6.1875\n",
            "Epoch 213/300\n",
            "10/10 [==============================] - 0s 4ms/step - loss: 1.8367 - mae: 1.8367 - mse: 8.3113 - val_loss: 1.5980 - val_mae: 1.5980 - val_mse: 6.1820\n",
            "Epoch 214/300\n",
            "10/10 [==============================] - 0s 4ms/step - loss: 1.8363 - mae: 1.8363 - mse: 8.2995 - val_loss: 1.5957 - val_mae: 1.5957 - val_mse: 6.1701\n",
            "Epoch 215/300\n",
            "10/10 [==============================] - 0s 3ms/step - loss: 1.8364 - mae: 1.8364 - mse: 8.2971 - val_loss: 1.5971 - val_mae: 1.5971 - val_mse: 6.1771\n",
            "Epoch 216/300\n",
            "10/10 [==============================] - 0s 4ms/step - loss: 1.8367 - mae: 1.8367 - mse: 8.3093 - val_loss: 1.5998 - val_mae: 1.5998 - val_mse: 6.1879\n",
            "Epoch 217/300\n",
            "10/10 [==============================] - 0s 4ms/step - loss: 1.8357 - mae: 1.8357 - mse: 8.3025 - val_loss: 1.5960 - val_mae: 1.5960 - val_mse: 6.1712\n",
            "Epoch 218/300\n",
            "10/10 [==============================] - 0s 5ms/step - loss: 1.8367 - mae: 1.8367 - mse: 8.2925 - val_loss: 1.5957 - val_mae: 1.5957 - val_mse: 6.1686\n",
            "Epoch 219/300\n",
            "10/10 [==============================] - 0s 4ms/step - loss: 1.8365 - mae: 1.8365 - mse: 8.3054 - val_loss: 1.5980 - val_mae: 1.5980 - val_mse: 6.1799\n",
            "Epoch 220/300\n",
            "10/10 [==============================] - 0s 4ms/step - loss: 1.8356 - mae: 1.8356 - mse: 8.3015 - val_loss: 1.5965 - val_mae: 1.5965 - val_mse: 6.1724\n",
            "Epoch 221/300\n",
            "10/10 [==============================] - 0s 5ms/step - loss: 1.8356 - mae: 1.8356 - mse: 8.2966 - val_loss: 1.5969 - val_mae: 1.5969 - val_mse: 6.1741\n",
            "Epoch 222/300\n",
            "10/10 [==============================] - 0s 4ms/step - loss: 1.8358 - mae: 1.8358 - mse: 8.3032 - val_loss: 1.5983 - val_mae: 1.5983 - val_mse: 6.1797\n",
            "Epoch 223/300\n",
            "10/10 [==============================] - 0s 4ms/step - loss: 1.8353 - mae: 1.8353 - mse: 8.2961 - val_loss: 1.5955 - val_mae: 1.5955 - val_mse: 6.1656\n",
            "Epoch 224/300\n",
            "10/10 [==============================] - 0s 4ms/step - loss: 1.8353 - mae: 1.8353 - mse: 8.2953 - val_loss: 1.5977 - val_mae: 1.5977 - val_mse: 6.1765\n",
            "Epoch 225/300\n",
            "10/10 [==============================] - 0s 3ms/step - loss: 1.8358 - mae: 1.8358 - mse: 8.3047 - val_loss: 1.5969 - val_mae: 1.5969 - val_mse: 6.1727\n",
            "Epoch 226/300\n",
            "10/10 [==============================] - 0s 4ms/step - loss: 1.8374 - mae: 1.8374 - mse: 8.2923 - val_loss: 1.5947 - val_mae: 1.5947 - val_mse: 6.1544\n",
            "Epoch 227/300\n",
            "10/10 [==============================] - 0s 4ms/step - loss: 1.8346 - mae: 1.8346 - mse: 8.2932 - val_loss: 1.6006 - val_mae: 1.6006 - val_mse: 6.1860\n",
            "Epoch 228/300\n",
            "10/10 [==============================] - 0s 4ms/step - loss: 1.8361 - mae: 1.8361 - mse: 8.2991 - val_loss: 1.5956 - val_mae: 1.5956 - val_mse: 6.1656\n",
            "Epoch 229/300\n",
            "10/10 [==============================] - 0s 3ms/step - loss: 1.8350 - mae: 1.8350 - mse: 8.2933 - val_loss: 1.5961 - val_mae: 1.5961 - val_mse: 6.1675\n",
            "Epoch 230/300\n",
            "10/10 [==============================] - 0s 4ms/step - loss: 1.8353 - mae: 1.8353 - mse: 8.2985 - val_loss: 1.5963 - val_mae: 1.5963 - val_mse: 6.1683\n",
            "Epoch 231/300\n",
            "10/10 [==============================] - 0s 5ms/step - loss: 1.8348 - mae: 1.8348 - mse: 8.2944 - val_loss: 1.5965 - val_mae: 1.5965 - val_mse: 6.1688\n",
            "Epoch 232/300\n",
            "10/10 [==============================] - 0s 4ms/step - loss: 1.8349 - mae: 1.8349 - mse: 8.2923 - val_loss: 1.5971 - val_mae: 1.5971 - val_mse: 6.1710\n",
            "Epoch 233/300\n",
            "10/10 [==============================] - 0s 4ms/step - loss: 1.8348 - mae: 1.8348 - mse: 8.2987 - val_loss: 1.5974 - val_mae: 1.5974 - val_mse: 6.1717\n",
            "Epoch 234/300\n",
            "10/10 [==============================] - 0s 4ms/step - loss: 1.8350 - mae: 1.8350 - mse: 8.2902 - val_loss: 1.5958 - val_mae: 1.5958 - val_mse: 6.1646\n",
            "Epoch 235/300\n",
            "10/10 [==============================] - 0s 4ms/step - loss: 1.8347 - mae: 1.8347 - mse: 8.2959 - val_loss: 1.5972 - val_mae: 1.5972 - val_mse: 6.1703\n",
            "Epoch 236/300\n",
            "10/10 [==============================] - 0s 4ms/step - loss: 1.8350 - mae: 1.8350 - mse: 8.2890 - val_loss: 1.5950 - val_mae: 1.5950 - val_mse: 6.1577\n",
            "Epoch 237/300\n",
            "10/10 [==============================] - 0s 4ms/step - loss: 1.8351 - mae: 1.8351 - mse: 8.2966 - val_loss: 1.5967 - val_mae: 1.5967 - val_mse: 6.1675\n",
            "Epoch 238/300\n",
            "10/10 [==============================] - 0s 4ms/step - loss: 1.8347 - mae: 1.8347 - mse: 8.2907 - val_loss: 1.5962 - val_mae: 1.5962 - val_mse: 6.1653\n",
            "Epoch 239/300\n",
            "10/10 [==============================] - 0s 3ms/step - loss: 1.8342 - mae: 1.8342 - mse: 8.2943 - val_loss: 1.5962 - val_mae: 1.5962 - val_mse: 6.1650\n",
            "Epoch 240/300\n",
            "10/10 [==============================] - 0s 3ms/step - loss: 1.8343 - mae: 1.8343 - mse: 8.2884 - val_loss: 1.5958 - val_mae: 1.5958 - val_mse: 6.1625\n",
            "Epoch 241/300\n",
            "10/10 [==============================] - 0s 4ms/step - loss: 1.8339 - mae: 1.8339 - mse: 8.2921 - val_loss: 1.5964 - val_mae: 1.5964 - val_mse: 6.1650\n",
            "Epoch 242/300\n",
            "10/10 [==============================] - 0s 3ms/step - loss: 1.8339 - mae: 1.8339 - mse: 8.2899 - val_loss: 1.5955 - val_mae: 1.5955 - val_mse: 6.1604\n",
            "Epoch 243/300\n",
            "10/10 [==============================] - 0s 4ms/step - loss: 1.8339 - mae: 1.8339 - mse: 8.2905 - val_loss: 1.5958 - val_mae: 1.5958 - val_mse: 6.1614\n",
            "Epoch 244/300\n",
            "10/10 [==============================] - 0s 5ms/step - loss: 1.8339 - mae: 1.8339 - mse: 8.2907 - val_loss: 1.5958 - val_mae: 1.5958 - val_mse: 6.1612\n",
            "Epoch 245/300\n",
            "10/10 [==============================] - 0s 4ms/step - loss: 1.8350 - mae: 1.8350 - mse: 8.2850 - val_loss: 1.5964 - val_mae: 1.5964 - val_mse: 6.1633\n",
            "Epoch 246/300\n",
            "10/10 [==============================] - 0s 4ms/step - loss: 1.8347 - mae: 1.8347 - mse: 8.2935 - val_loss: 1.5950 - val_mae: 1.5950 - val_mse: 6.1554\n",
            "Epoch 247/300\n",
            "10/10 [==============================] - 0s 4ms/step - loss: 1.8347 - mae: 1.8347 - mse: 8.2809 - val_loss: 1.5961 - val_mae: 1.5961 - val_mse: 6.1614\n",
            "Epoch 248/300\n",
            "10/10 [==============================] - 0s 4ms/step - loss: 1.8339 - mae: 1.8339 - mse: 8.2912 - val_loss: 1.5947 - val_mae: 1.5947 - val_mse: 6.1500\n",
            "Epoch 249/300\n",
            "10/10 [==============================] - 0s 4ms/step - loss: 1.8342 - mae: 1.8342 - mse: 8.2833 - val_loss: 1.5967 - val_mae: 1.5967 - val_mse: 6.1635\n",
            "Epoch 250/300\n",
            "10/10 [==============================] - 0s 4ms/step - loss: 1.8333 - mae: 1.8333 - mse: 8.2878 - val_loss: 1.5949 - val_mae: 1.5949 - val_mse: 6.1544\n",
            "Epoch 251/300\n",
            "10/10 [==============================] - 0s 4ms/step - loss: 1.8334 - mae: 1.8334 - mse: 8.2838 - val_loss: 1.5973 - val_mae: 1.5973 - val_mse: 6.1645\n",
            "Epoch 252/300\n",
            "10/10 [==============================] - 0s 5ms/step - loss: 1.8338 - mae: 1.8338 - mse: 8.2855 - val_loss: 1.5955 - val_mae: 1.5955 - val_mse: 6.1581\n",
            "Epoch 253/300\n",
            "10/10 [==============================] - 0s 4ms/step - loss: 1.8340 - mae: 1.8340 - mse: 8.2882 - val_loss: 1.5948 - val_mae: 1.5948 - val_mse: 6.1482\n",
            "Epoch 254/300\n",
            "10/10 [==============================] - 0s 5ms/step - loss: 1.8336 - mae: 1.8336 - mse: 8.2867 - val_loss: 1.5951 - val_mae: 1.5951 - val_mse: 6.1553\n",
            "Epoch 255/300\n",
            "10/10 [==============================] - 0s 5ms/step - loss: 1.8335 - mae: 1.8335 - mse: 8.2840 - val_loss: 1.5972 - val_mae: 1.5972 - val_mse: 6.1628\n",
            "Epoch 256/300\n",
            "10/10 [==============================] - 0s 3ms/step - loss: 1.8337 - mae: 1.8337 - mse: 8.2849 - val_loss: 1.5949 - val_mae: 1.5949 - val_mse: 6.1535\n",
            "Epoch 257/300\n",
            "10/10 [==============================] - 0s 6ms/step - loss: 1.8338 - mae: 1.8338 - mse: 8.2881 - val_loss: 1.5948 - val_mae: 1.5948 - val_mse: 6.1509\n",
            "Epoch 258/300\n",
            "10/10 [==============================] - 0s 4ms/step - loss: 1.8331 - mae: 1.8331 - mse: 8.2833 - val_loss: 1.5953 - val_mae: 1.5953 - val_mse: 6.1557\n",
            "Epoch 259/300\n",
            "10/10 [==============================] - 0s 3ms/step - loss: 1.8329 - mae: 1.8329 - mse: 8.2845 - val_loss: 1.5953 - val_mae: 1.5953 - val_mse: 6.1556\n",
            "Epoch 260/300\n",
            "10/10 [==============================] - 0s 4ms/step - loss: 1.8329 - mae: 1.8329 - mse: 8.2832 - val_loss: 1.5957 - val_mae: 1.5957 - val_mse: 6.1568\n",
            "Epoch 261/300\n",
            "10/10 [==============================] - 0s 3ms/step - loss: 1.8329 - mae: 1.8329 - mse: 8.2846 - val_loss: 1.5955 - val_mae: 1.5955 - val_mse: 6.1555\n",
            "Epoch 262/300\n",
            "10/10 [==============================] - 0s 3ms/step - loss: 1.8325 - mae: 1.8325 - mse: 8.2826 - val_loss: 1.5949 - val_mae: 1.5949 - val_mse: 6.1495\n",
            "Epoch 263/300\n",
            "10/10 [==============================] - 0s 4ms/step - loss: 1.8331 - mae: 1.8331 - mse: 8.2827 - val_loss: 1.5949 - val_mae: 1.5949 - val_mse: 6.1498\n",
            "Epoch 264/300\n",
            "10/10 [==============================] - 0s 4ms/step - loss: 1.8329 - mae: 1.8329 - mse: 8.2816 - val_loss: 1.5949 - val_mae: 1.5949 - val_mse: 6.1518\n",
            "Epoch 265/300\n",
            "10/10 [==============================] - 0s 3ms/step - loss: 1.8334 - mae: 1.8334 - mse: 8.2831 - val_loss: 1.5949 - val_mae: 1.5949 - val_mse: 6.1498\n",
            "Epoch 266/300\n",
            "10/10 [==============================] - 0s 6ms/step - loss: 1.8331 - mae: 1.8331 - mse: 8.2826 - val_loss: 1.5951 - val_mae: 1.5951 - val_mse: 6.1531\n",
            "Epoch 267/300\n",
            "10/10 [==============================] - 0s 3ms/step - loss: 1.8327 - mae: 1.8327 - mse: 8.2828 - val_loss: 1.5956 - val_mae: 1.5956 - val_mse: 6.1548\n",
            "Epoch 268/300\n",
            "10/10 [==============================] - 0s 3ms/step - loss: 1.8331 - mae: 1.8331 - mse: 8.2809 - val_loss: 1.5952 - val_mae: 1.5952 - val_mse: 6.1435\n",
            "Epoch 269/300\n",
            "10/10 [==============================] - 0s 4ms/step - loss: 1.8334 - mae: 1.8334 - mse: 8.2799 - val_loss: 1.5949 - val_mae: 1.5949 - val_mse: 6.1515\n",
            "Epoch 270/300\n",
            "10/10 [==============================] - 0s 3ms/step - loss: 1.8329 - mae: 1.8329 - mse: 8.2820 - val_loss: 1.5949 - val_mae: 1.5949 - val_mse: 6.1504\n",
            "Epoch 271/300\n",
            "10/10 [==============================] - 0s 5ms/step - loss: 1.8327 - mae: 1.8327 - mse: 8.2821 - val_loss: 1.5950 - val_mae: 1.5950 - val_mse: 6.1526\n",
            "Epoch 272/300\n",
            "10/10 [==============================] - 0s 5ms/step - loss: 1.8325 - mae: 1.8325 - mse: 8.2818 - val_loss: 1.5949 - val_mae: 1.5949 - val_mse: 6.1516\n",
            "Epoch 273/300\n",
            "10/10 [==============================] - 0s 4ms/step - loss: 1.8325 - mae: 1.8325 - mse: 8.2818 - val_loss: 1.5950 - val_mae: 1.5950 - val_mse: 6.1507\n",
            "Epoch 274/300\n",
            "10/10 [==============================] - 0s 4ms/step - loss: 1.8327 - mae: 1.8327 - mse: 8.2823 - val_loss: 1.5949 - val_mae: 1.5949 - val_mse: 6.1516\n",
            "Epoch 275/300\n",
            "10/10 [==============================] - 0s 4ms/step - loss: 1.8326 - mae: 1.8326 - mse: 8.2818 - val_loss: 1.5950 - val_mae: 1.5950 - val_mse: 6.1502\n",
            "Epoch 276/300\n",
            "10/10 [==============================] - 0s 4ms/step - loss: 1.8327 - mae: 1.8327 - mse: 8.2820 - val_loss: 1.5949 - val_mae: 1.5949 - val_mse: 6.1520\n",
            "Epoch 277/300\n",
            "10/10 [==============================] - 0s 4ms/step - loss: 1.8326 - mae: 1.8326 - mse: 8.2821 - val_loss: 1.5950 - val_mae: 1.5950 - val_mse: 6.1504\n",
            "Epoch 278/300\n",
            "10/10 [==============================] - 0s 4ms/step - loss: 1.8327 - mae: 1.8327 - mse: 8.2815 - val_loss: 1.5954 - val_mae: 1.5954 - val_mse: 6.1535\n",
            "Epoch 279/300\n",
            "10/10 [==============================] - 0s 4ms/step - loss: 1.8327 - mae: 1.8327 - mse: 8.2809 - val_loss: 1.5951 - val_mae: 1.5951 - val_mse: 6.1469\n",
            "Epoch 280/300\n",
            "10/10 [==============================] - 0s 4ms/step - loss: 1.8337 - mae: 1.8337 - mse: 8.2821 - val_loss: 1.5950 - val_mae: 1.5950 - val_mse: 6.1500\n",
            "Epoch 281/300\n",
            "10/10 [==============================] - 0s 3ms/step - loss: 1.8329 - mae: 1.8329 - mse: 8.2792 - val_loss: 1.5968 - val_mae: 1.5968 - val_mse: 6.1571\n",
            "Epoch 282/300\n",
            "10/10 [==============================] - 0s 4ms/step - loss: 1.8329 - mae: 1.8329 - mse: 8.2830 - val_loss: 1.5950 - val_mae: 1.5950 - val_mse: 6.1508\n",
            "Epoch 283/300\n",
            "10/10 [==============================] - 0s 4ms/step - loss: 1.8329 - mae: 1.8329 - mse: 8.2805 - val_loss: 1.5949 - val_mae: 1.5949 - val_mse: 6.1521\n",
            "Epoch 284/300\n",
            "10/10 [==============================] - 0s 4ms/step - loss: 1.8329 - mae: 1.8329 - mse: 8.2810 - val_loss: 1.5950 - val_mae: 1.5950 - val_mse: 6.1502\n",
            "Epoch 285/300\n",
            "10/10 [==============================] - 0s 4ms/step - loss: 1.8330 - mae: 1.8330 - mse: 8.2834 - val_loss: 1.5950 - val_mae: 1.5950 - val_mse: 6.1493\n",
            "Epoch 286/300\n",
            "10/10 [==============================] - 0s 4ms/step - loss: 1.8335 - mae: 1.8335 - mse: 8.2822 - val_loss: 1.5950 - val_mae: 1.5950 - val_mse: 6.1493\n",
            "Epoch 287/300\n",
            "10/10 [==============================] - 0s 4ms/step - loss: 1.8334 - mae: 1.8334 - mse: 8.2790 - val_loss: 1.5958 - val_mae: 1.5958 - val_mse: 6.1548\n",
            "Epoch 288/300\n",
            "10/10 [==============================] - 0s 4ms/step - loss: 1.8326 - mae: 1.8326 - mse: 8.2825 - val_loss: 1.5950 - val_mae: 1.5950 - val_mse: 6.1496\n",
            "Epoch 289/300\n",
            "10/10 [==============================] - 0s 3ms/step - loss: 1.8329 - mae: 1.8329 - mse: 8.2829 - val_loss: 1.5957 - val_mae: 1.5957 - val_mse: 6.1544\n",
            "Epoch 290/300\n",
            "10/10 [==============================] - 0s 5ms/step - loss: 1.8331 - mae: 1.8331 - mse: 8.2839 - val_loss: 1.5950 - val_mae: 1.5950 - val_mse: 6.1506\n",
            "Epoch 291/300\n",
            "10/10 [==============================] - 0s 3ms/step - loss: 1.8327 - mae: 1.8327 - mse: 8.2823 - val_loss: 1.5959 - val_mae: 1.5959 - val_mse: 6.1550\n",
            "Epoch 292/300\n",
            "10/10 [==============================] - 0s 4ms/step - loss: 1.8336 - mae: 1.8336 - mse: 8.2839 - val_loss: 1.5971 - val_mae: 1.5971 - val_mse: 6.1582\n",
            "Epoch 293/300\n",
            "10/10 [==============================] - 0s 4ms/step - loss: 1.8331 - mae: 1.8331 - mse: 8.2797 - val_loss: 1.5961 - val_mae: 1.5961 - val_mse: 6.1556\n",
            "Epoch 294/300\n",
            "10/10 [==============================] - 0s 3ms/step - loss: 1.8328 - mae: 1.8328 - mse: 8.2825 - val_loss: 1.5951 - val_mae: 1.5951 - val_mse: 6.1473\n",
            "Epoch 295/300\n",
            "10/10 [==============================] - 0s 3ms/step - loss: 1.8333 - mae: 1.8333 - mse: 8.2818 - val_loss: 1.5971 - val_mae: 1.5971 - val_mse: 6.1585\n",
            "Epoch 296/300\n",
            "10/10 [==============================] - 0s 3ms/step - loss: 1.8335 - mae: 1.8335 - mse: 8.2800 - val_loss: 1.5950 - val_mae: 1.5950 - val_mse: 6.1486\n",
            "Epoch 297/300\n",
            "10/10 [==============================] - 0s 4ms/step - loss: 1.8339 - mae: 1.8339 - mse: 8.2863 - val_loss: 1.5950 - val_mae: 1.5950 - val_mse: 6.1477\n",
            "Epoch 298/300\n",
            "10/10 [==============================] - 0s 4ms/step - loss: 1.8337 - mae: 1.8337 - mse: 8.2803 - val_loss: 1.5963 - val_mae: 1.5963 - val_mse: 6.1565\n",
            "Epoch 299/300\n",
            "10/10 [==============================] - 0s 4ms/step - loss: 1.8329 - mae: 1.8329 - mse: 8.2827 - val_loss: 1.5960 - val_mae: 1.5960 - val_mse: 6.1557\n",
            "Epoch 300/300\n",
            "10/10 [==============================] - 0s 5ms/step - loss: 1.8333 - mae: 1.8333 - mse: 8.2819 - val_loss: 1.5970 - val_mae: 1.5970 - val_mse: 6.1582\n"
          ],
          "name": "stdout"
        }
      ]
    },
    {
      "cell_type": "code",
      "metadata": {
        "id": "6zYkLGS6wQyy",
        "colab": {
          "base_uri": "https://localhost:8080/"
        },
        "outputId": "8f64d615-20d5-47e7-9763-9301feb7f907"
      },
      "source": [
        "print(history)"
      ],
      "execution_count": 38,
      "outputs": [
        {
          "output_type": "stream",
          "text": [
            "<tensorflow.python.keras.callbacks.History object at 0x7f51c395b250>\n"
          ],
          "name": "stdout"
        }
      ]
    },
    {
      "cell_type": "code",
      "metadata": {
        "colab": {
          "base_uri": "https://localhost:8080/"
        },
        "id": "1lsbk_ohAu1j",
        "outputId": "170b4713-a0b7-4ce1-c9ac-55477b1a3607"
      },
      "source": [
        "model.summary()"
      ],
      "execution_count": 39,
      "outputs": [
        {
          "output_type": "stream",
          "text": [
            "Model: \"sequential\"\n",
            "_________________________________________________________________\n",
            "Layer (type)                 Output Shape              Param #   \n",
            "=================================================================\n",
            "dense (Dense)                (None, 1)                 2         \n",
            "=================================================================\n",
            "Total params: 2\n",
            "Trainable params: 2\n",
            "Non-trainable params: 0\n",
            "_________________________________________________________________\n"
          ],
          "name": "stdout"
        }
      ]
    },
    {
      "cell_type": "code",
      "metadata": {
        "colab": {
          "base_uri": "https://localhost:8080/",
          "height": 0
        },
        "id": "P6VnkPim7tH7",
        "outputId": "6b8ae4a8-9064-4604-f491-1fff186227b7"
      },
      "source": [
        "# tempString = 'mse'\n",
        "def curvePlots(tempString):\n",
        "  plt.plot(history.history[tempString])\n",
        "  plt.plot(history.history[f'val_{tempString}'])\n",
        "  plt.xlabel('NumEpochs')\n",
        "  plt.ylabel(tempString)\n",
        "  plt.legend([tempString, f'val_{tempString}'])\n",
        "  plt.show()\n",
        "\n",
        "\n",
        "curvePlots('mse')\n",
        "curvePlots('mae')\n",
        "curvePlots('loss')"
      ],
      "execution_count": 40,
      "outputs": [
        {
          "output_type": "display_data",
          "data": {
            "image/png": "[encoded data removed]",
            "text/plain": [
              "<Figure size 576x396 with 1 Axes>"
            ]
          },
          "metadata": {
            "tags": []
          }
        },
        {
          "output_type": "display_data",
          "data": {
            "image/png": "[encoded data removed]",
            "text/plain": [
              "<Figure size 576x396 with 1 Axes>"
            ]
          },
          "metadata": {
            "tags": []
          }
        },
        {
          "output_type": "display_data",
          "data": {
            "image/png": "[encoded data removed]",
            "text/plain": [
              "<Figure size 576x396 with 1 Axes>"
            ]
          },
          "metadata": {
            "tags": []
          }
        }
      ]
    },
    {
      "cell_type": "code",
      "metadata": {
        "id": "esW0eHQbzoj4",
        "colab": {
          "base_uri": "https://localhost:8080/"
        },
        "outputId": "2ac48d45-1b48-4338-9bb1-a41238ae346c"
      },
      "source": [
        "model.predict([1])"
      ],
      "execution_count": 41,
      "outputs": [
        {
          "output_type": "execute_result",
          "data": {
            "text/plain": [
              "array([[1.0034313]], dtype=float32)"
            ]
          },
          "metadata": {
            "tags": []
          },
          "execution_count": 41
        }
      ]
    },
    {
      "cell_type": "code",
      "metadata": {
        "colab": {
          "base_uri": "https://localhost:8080/"
        },
        "id": "KJrLWamX8Tg-",
        "outputId": "9eb58297-1758-406b-c833-f33bc013a997"
      },
      "source": [
        "# testPreds = model.predict(testFeatures).flatten() #array of all prediction values\n",
        "\n",
        "#for single values\n",
        "\n",
        "print(f'Prediction for input value 1: {model.predict([1])}')\n",
        "\n",
        "\n",
        "# for a list of values\n",
        "tempListforPreds = [1,2,3,4,5]\n",
        "print(f'''\n",
        "\n",
        "input List = {tempListforPreds}\n",
        "\n",
        "\n",
        "List of Predictions:\n",
        "{model.predict(tempListforPreds)}\n",
        "\n",
        "List of Predictions (flattened out):\n",
        "{model.predict(tempListforPreds).flatten()}\n",
        "''')"
      ],
      "execution_count": 42,
      "outputs": [
        {
          "output_type": "stream",
          "text": [
            "Prediction for input value 1: [[1.0034313]]\n",
            "\n",
            "\n",
            "input List = [1, 2, 3, 4, 5]\n",
            "\n",
            "\n",
            "List of Predictions:\n",
            "[[1.0034313]\n",
            " [2.0036576]\n",
            " [3.0038838]\n",
            " [4.00411  ]\n",
            " [5.004336 ]]\n",
            "\n",
            "List of Predictions (flattened out):\n",
            "[1.0034313 2.0036576 3.0038838 4.00411   5.004336 ]\n",
            "\n"
          ],
          "name": "stdout"
        }
      ]
    },
    {
      "cell_type": "code",
      "metadata": {
        "id": "vJNFh6hc0K6r",
        "colab": {
          "base_uri": "https://localhost:8080/"
        },
        "outputId": "c07f82c3-7f0f-40cb-ac18-bc02a3f1c9fc"
      },
      "source": [
        "print(testFeatures)"
      ],
      "execution_count": 43,
      "outputs": [
        {
          "output_type": "stream",
          "text": [
            "     G1\n",
            "9    14\n",
            "25    6\n",
            "28   11\n",
            "31   17\n",
            "32   17\n",
            "..   ..\n",
            "365  10\n",
            "367   7\n",
            "379  10\n",
            "381   7\n",
            "393  11\n",
            "\n",
            "[79 rows x 1 columns]\n"
          ],
          "name": "stdout"
        }
      ]
    },
    {
      "cell_type": "code",
      "metadata": {
        "id": "MniGZOu50IyN"
      },
      "source": [
        "testPreds = model.predict(testFeatures).flatten() #array of all prediction values"
      ],
      "execution_count": 44,
      "outputs": []
    },
    {
      "cell_type": "code",
      "metadata": {
        "id": "du0Orwu40Qan",
        "colab": {
          "base_uri": "https://localhost:8080/"
        },
        "outputId": "957bc4de-bf1f-4af4-b426-3022f971cdde"
      },
      "source": [
        "print(len(testPreds))\n",
        "print(testPreds)"
      ],
      "execution_count": 45,
      "outputs": [
        {
          "output_type": "stream",
          "text": [
            "79\n",
            "[14.0063715  6.0045624 11.0056925 17.00705   17.00705   12.005919\n",
            " 14.0063715 19.007502  19.007502   8.005014  14.0063715 13.0061455\n",
            "  8.005014   7.0047884  9.00524   13.0061455 11.0056925 16.006823\n",
            "  7.0047884 10.005466  15.0065975 13.0061455 14.0063715 16.006823\n",
            "  7.0047884  7.0047884  8.005014  10.005466  12.005919  10.005466\n",
            " 12.005919  13.0061455 10.005466   6.0045624  9.00524   12.005919\n",
            "  7.0047884  8.005014  14.0063715  9.00524    9.00524    7.0047884\n",
            " 12.005919   6.0045624 13.0061455  7.0047884  7.0047884 11.0056925\n",
            " 13.0061455 17.00705   12.005919  15.0065975  9.00524   12.005919\n",
            " 15.0065975 12.005919  15.0065975 12.005919  15.0065975 11.0056925\n",
            " 12.005919   8.005014  16.006823   7.0047884 16.006823  11.0056925\n",
            " 16.006823  13.0061455  8.005014   8.005014  12.005919  18.007275\n",
            " 13.0061455 16.006823  10.005466   7.0047884 10.005466   7.0047884\n",
            " 11.0056925]\n"
          ],
          "name": "stdout"
        }
      ]
    },
    {
      "cell_type": "code",
      "metadata": {
        "colab": {
          "base_uri": "https://localhost:8080/",
          "height": 0
        },
        "id": "EfP8bB_v89Wa",
        "outputId": "63fe27bb-ca43-4460-dc19-7855dceba3bc"
      },
      "source": [
        "# prediciton plot --> how well is your model predicting across the actual labels\n",
        "\n",
        "def predPlot(labels, predictions):\n",
        "  plt.scatter(labels, predictions)\n",
        "  plt.ylabel('Predictions')\n",
        "  plt.xlabel('True Value or Labels')\n",
        "  plt.axis('equal')\n",
        "  plt.axis('square')\n",
        "  plt.xlim([0, plt.xlim()[1]])\n",
        "  plt.ylim([0, plt.ylim()[1]])\n",
        "  plt.show()\n",
        "\n",
        "predPlot(testLabels, testPreds)"
      ],
      "execution_count": 46,
      "outputs": [
        {
          "output_type": "display_data",
          "data": {
            "image/png": "[encoded data removed]",
            "text/plain": [
              "<Figure size 576x396 with 1 Axes>"
            ]
          },
          "metadata": {
            "tags": []
          }
        }
      ]
    },
    {
      "cell_type": "code",
      "metadata": {
        "colab": {
          "base_uri": "https://localhost:8080/",
          "height": 0
        },
        "id": "70608Z0o9tWL",
        "outputId": "08ef3065-c15a-474c-db64-74792bee7478"
      },
      "source": [
        "#error plot --> gaussian distribution \n",
        "\n",
        "def errorPlot(preds, labels, counts):\n",
        "  errors = preds - labels\n",
        "  plt.hist(errors, counts)\n",
        "  plt.xlabel('Error')\n",
        "  plt.ylabel('Counts')\n",
        "  plt.show()\n",
        "\n",
        "errorPlot(testPreds, testLabels, numEpochs)"
      ],
      "execution_count": 47,
      "outputs": [
        {
          "output_type": "display_data",
          "data": {
            "image/png": "[encoded data removed]",
            "text/plain": [
              "<Figure size 576x396 with 1 Axes>"
            ]
          },
          "metadata": {
            "tags": []
          }
        }
      ]
    },
    {
      "cell_type": "markdown",
      "metadata": {
        "id": "oshf2mUG1vPk"
      },
      "source": [
        "Note: \n",
        "\n",
        "\n",
        "Validation loss `val_loss` is a metric that tells you how much deviation from the actual label can you expect in the predicted label\n",
        "\n",
        "To optimize your predicitons -->\n",
        "\n",
        "- Hyperparameter tuning --> `numEpochs`, `optimizer`, `learning_rate`, lossFunctions"
      ]
    }
  ]
}