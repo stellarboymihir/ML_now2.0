{
  "nbformat": 4,
  "nbformat_minor": 0,
  "metadata": {
    "colab": {
      "name": "3.1_Univariate.ipynb",
      "provenance": [],
      "include_colab_link": true
    },
    "kernelspec": {
      "name": "python3",
      "display_name": "Python 3"
    }
  },
  "cells": [
    {
      "cell_type": "markdown",
      "metadata": {
        "id": "view-in-github",
        "colab_type": "text"
      },
      "source": [
        "<a href=\"https://colab.research.google.com/github/stellarboymihir/ML_now2.0/blob/main/03_LinearRegression/3a_Univariate.ipynb\" target=\"_parent\"><img src=\"https://colab.research.google.com/assets/colab-badge.svg\" alt=\"Open In Colab\"/></a>"
      ]
    },
    {
      "cell_type": "markdown",
      "metadata": {
        "id": "YdvA0esBp3Ml"
      },
      "source": [
        ""
      ]
    },
    {
      "cell_type": "markdown",
      "metadata": {
        "id": "q_569ugy6lyY"
      },
      "source": [
        "> This notebook was created for code illustration of the `ML.now()` course\n",
        "\n",
        "\n",
        "`Univariate Linear Regression`\n",
        "\n",
        "[Link to Download the dataset](https://archive.ics.uci.edu/ml/datasets/Student+Performance)\n",
        "\n",
        "**Date Created**: June 12, 2021\n",
        "\n",
        "\n",
        "**Author**:\n",
        " Mihir Bhadange\n",
        "\n"
      ]
    },
    {
      "cell_type": "markdown",
      "metadata": {
        "id": "KmW9S6zjaauQ"
      },
      "source": [
        "## Setup"
      ]
    },
    {
      "cell_type": "code",
      "metadata": {
        "colab": {
          "base_uri": "https://localhost:8080/"
        },
        "id": "oX_QibhWsnnX",
        "outputId": "5579a84d-4a99-4362-ec9b-00f569dcc7a0"
      },
      "source": [
        "from google.colab import drive\n",
        "drive.mount('/content/drive')"
      ],
      "execution_count": 49,
      "outputs": [
        {
          "output_type": "stream",
          "text": [
            "Drive already mounted at /content/drive; to attempt to forcibly remount, call drive.mount(\"/content/drive\", force_remount=True).\n"
          ],
          "name": "stdout"
        }
      ]
    },
    {
      "cell_type": "code",
      "metadata": {
        "colab": {
          "base_uri": "https://localhost:8080/"
        },
        "id": "wYuNn17Isvml",
        "outputId": "9ac96c23-c756-439a-ad79-d85b10a55106"
      },
      "source": [
        "cd '/content/drive/MyDrive/Courses/ML.now()/CodeArchive/student'"
      ],
      "execution_count": 50,
      "outputs": [
        {
          "output_type": "stream",
          "text": [
            "[Errno 2] No such file or directory: '/content/drive/MyDrive/Courses/ML.now()/CodeArchive/student'\n",
            "/content\n"
          ],
          "name": "stdout"
        }
      ]
    },
    {
      "cell_type": "code",
      "metadata": {
        "colab": {
          "base_uri": "https://localhost:8080/"
        },
        "id": "oR69jwALs-uP",
        "outputId": "5440d2be-9e7f-4a66-e667-9d257afcb1c3"
      },
      "source": [
        "ls"
      ],
      "execution_count": 51,
      "outputs": [
        {
          "output_type": "stream",
          "text": [
            "\u001b[0m\u001b[01;34mdrive\u001b[0m/  \u001b[01;34msample_data\u001b[0m/  univariate_MathData_2.csv\n"
          ],
          "name": "stdout"
        }
      ]
    },
    {
      "cell_type": "code",
      "metadata": {
        "id": "0rYwvbeMtPJg"
      },
      "source": [
        "import os"
      ],
      "execution_count": 52,
      "outputs": []
    },
    {
      "cell_type": "code",
      "metadata": {
        "id": "cnGQRbmes_tZ"
      },
      "source": [
        "import pandas as pd #working with csv or excel files\n",
        "import numpy as np #working with numbers/ arrays/ tensors\n",
        "import tensorflow as tf #framework\n",
        "from tensorflow import keras #API / library \n",
        "import os #using os commands between the python language"
      ],
      "execution_count": 53,
      "outputs": []
    },
    {
      "cell_type": "code",
      "metadata": {
        "id": "VV-Ps6dJtX6B"
      },
      "source": [
        "mathData = pd.read_csv('/content/drive/MyDrive/Colab Notebooks/Gs script/student-mat.csv', sep=';') #load the csv file as dataframe"
      ],
      "execution_count": 54,
      "outputs": []
    },
    {
      "cell_type": "code",
      "metadata": {
        "colab": {
          "base_uri": "https://localhost:8080/",
          "height": 379
        },
        "id": "2_KId_bptr05",
        "outputId": "76fc68ff-22b2-4fa0-829a-8dc25cb6d05d"
      },
      "source": [
        "mathData.head(10) #print the first ten rows of the dataframe"
      ],
      "execution_count": 55,
      "outputs": [
        {
          "output_type": "execute_result",
          "data": {
            "text/html": [
              "<div>\n",
              "<style scoped>\n",
              "    .dataframe tbody tr th:only-of-type {\n",
              "        vertical-align: middle;\n",
              "    }\n",
              "\n",
              "    .dataframe tbody tr th {\n",
              "        vertical-align: top;\n",
              "    }\n",
              "\n",
              "    .dataframe thead th {\n",
              "        text-align: right;\n",
              "    }\n",
              "</style>\n",
              "<table border=\"1\" class=\"dataframe\">\n",
              "  <thead>\n",
              "    <tr style=\"text-align: right;\">\n",
              "      <th></th>\n",
              "      <th>school</th>\n",
              "      <th>sex</th>\n",
              "      <th>age</th>\n",
              "      <th>address</th>\n",
              "      <th>famsize</th>\n",
              "      <th>Pstatus</th>\n",
              "      <th>Medu</th>\n",
              "      <th>Fedu</th>\n",
              "      <th>Mjob</th>\n",
              "      <th>Fjob</th>\n",
              "      <th>reason</th>\n",
              "      <th>guardian</th>\n",
              "      <th>traveltime</th>\n",
              "      <th>studytime</th>\n",
              "      <th>failures</th>\n",
              "      <th>schoolsup</th>\n",
              "      <th>famsup</th>\n",
              "      <th>paid</th>\n",
              "      <th>activities</th>\n",
              "      <th>nursery</th>\n",
              "      <th>higher</th>\n",
              "      <th>internet</th>\n",
              "      <th>romantic</th>\n",
              "      <th>famrel</th>\n",
              "      <th>freetime</th>\n",
              "      <th>goout</th>\n",
              "      <th>Dalc</th>\n",
              "      <th>Walc</th>\n",
              "      <th>health</th>\n",
              "      <th>absences</th>\n",
              "      <th>G1</th>\n",
              "      <th>G2</th>\n",
              "      <th>G3</th>\n",
              "    </tr>\n",
              "  </thead>\n",
              "  <tbody>\n",
              "    <tr>\n",
              "      <th>0</th>\n",
              "      <td>GP</td>\n",
              "      <td>F</td>\n",
              "      <td>18</td>\n",
              "      <td>U</td>\n",
              "      <td>GT3</td>\n",
              "      <td>A</td>\n",
              "      <td>4</td>\n",
              "      <td>4</td>\n",
              "      <td>at_home</td>\n",
              "      <td>teacher</td>\n",
              "      <td>course</td>\n",
              "      <td>mother</td>\n",
              "      <td>2</td>\n",
              "      <td>2</td>\n",
              "      <td>0</td>\n",
              "      <td>yes</td>\n",
              "      <td>no</td>\n",
              "      <td>no</td>\n",
              "      <td>no</td>\n",
              "      <td>yes</td>\n",
              "      <td>yes</td>\n",
              "      <td>no</td>\n",
              "      <td>no</td>\n",
              "      <td>4</td>\n",
              "      <td>3</td>\n",
              "      <td>4</td>\n",
              "      <td>1</td>\n",
              "      <td>1</td>\n",
              "      <td>3</td>\n",
              "      <td>6</td>\n",
              "      <td>5</td>\n",
              "      <td>6</td>\n",
              "      <td>6</td>\n",
              "    </tr>\n",
              "    <tr>\n",
              "      <th>1</th>\n",
              "      <td>GP</td>\n",
              "      <td>F</td>\n",
              "      <td>17</td>\n",
              "      <td>U</td>\n",
              "      <td>GT3</td>\n",
              "      <td>T</td>\n",
              "      <td>1</td>\n",
              "      <td>1</td>\n",
              "      <td>at_home</td>\n",
              "      <td>other</td>\n",
              "      <td>course</td>\n",
              "      <td>father</td>\n",
              "      <td>1</td>\n",
              "      <td>2</td>\n",
              "      <td>0</td>\n",
              "      <td>no</td>\n",
              "      <td>yes</td>\n",
              "      <td>no</td>\n",
              "      <td>no</td>\n",
              "      <td>no</td>\n",
              "      <td>yes</td>\n",
              "      <td>yes</td>\n",
              "      <td>no</td>\n",
              "      <td>5</td>\n",
              "      <td>3</td>\n",
              "      <td>3</td>\n",
              "      <td>1</td>\n",
              "      <td>1</td>\n",
              "      <td>3</td>\n",
              "      <td>4</td>\n",
              "      <td>5</td>\n",
              "      <td>5</td>\n",
              "      <td>6</td>\n",
              "    </tr>\n",
              "    <tr>\n",
              "      <th>2</th>\n",
              "      <td>GP</td>\n",
              "      <td>F</td>\n",
              "      <td>15</td>\n",
              "      <td>U</td>\n",
              "      <td>LE3</td>\n",
              "      <td>T</td>\n",
              "      <td>1</td>\n",
              "      <td>1</td>\n",
              "      <td>at_home</td>\n",
              "      <td>other</td>\n",
              "      <td>other</td>\n",
              "      <td>mother</td>\n",
              "      <td>1</td>\n",
              "      <td>2</td>\n",
              "      <td>3</td>\n",
              "      <td>yes</td>\n",
              "      <td>no</td>\n",
              "      <td>yes</td>\n",
              "      <td>no</td>\n",
              "      <td>yes</td>\n",
              "      <td>yes</td>\n",
              "      <td>yes</td>\n",
              "      <td>no</td>\n",
              "      <td>4</td>\n",
              "      <td>3</td>\n",
              "      <td>2</td>\n",
              "      <td>2</td>\n",
              "      <td>3</td>\n",
              "      <td>3</td>\n",
              "      <td>10</td>\n",
              "      <td>7</td>\n",
              "      <td>8</td>\n",
              "      <td>10</td>\n",
              "    </tr>\n",
              "    <tr>\n",
              "      <th>3</th>\n",
              "      <td>GP</td>\n",
              "      <td>F</td>\n",
              "      <td>15</td>\n",
              "      <td>U</td>\n",
              "      <td>GT3</td>\n",
              "      <td>T</td>\n",
              "      <td>4</td>\n",
              "      <td>2</td>\n",
              "      <td>health</td>\n",
              "      <td>services</td>\n",
              "      <td>home</td>\n",
              "      <td>mother</td>\n",
              "      <td>1</td>\n",
              "      <td>3</td>\n",
              "      <td>0</td>\n",
              "      <td>no</td>\n",
              "      <td>yes</td>\n",
              "      <td>yes</td>\n",
              "      <td>yes</td>\n",
              "      <td>yes</td>\n",
              "      <td>yes</td>\n",
              "      <td>yes</td>\n",
              "      <td>yes</td>\n",
              "      <td>3</td>\n",
              "      <td>2</td>\n",
              "      <td>2</td>\n",
              "      <td>1</td>\n",
              "      <td>1</td>\n",
              "      <td>5</td>\n",
              "      <td>2</td>\n",
              "      <td>15</td>\n",
              "      <td>14</td>\n",
              "      <td>15</td>\n",
              "    </tr>\n",
              "    <tr>\n",
              "      <th>4</th>\n",
              "      <td>GP</td>\n",
              "      <td>F</td>\n",
              "      <td>16</td>\n",
              "      <td>U</td>\n",
              "      <td>GT3</td>\n",
              "      <td>T</td>\n",
              "      <td>3</td>\n",
              "      <td>3</td>\n",
              "      <td>other</td>\n",
              "      <td>other</td>\n",
              "      <td>home</td>\n",
              "      <td>father</td>\n",
              "      <td>1</td>\n",
              "      <td>2</td>\n",
              "      <td>0</td>\n",
              "      <td>no</td>\n",
              "      <td>yes</td>\n",
              "      <td>yes</td>\n",
              "      <td>no</td>\n",
              "      <td>yes</td>\n",
              "      <td>yes</td>\n",
              "      <td>no</td>\n",
              "      <td>no</td>\n",
              "      <td>4</td>\n",
              "      <td>3</td>\n",
              "      <td>2</td>\n",
              "      <td>1</td>\n",
              "      <td>2</td>\n",
              "      <td>5</td>\n",
              "      <td>4</td>\n",
              "      <td>6</td>\n",
              "      <td>10</td>\n",
              "      <td>10</td>\n",
              "    </tr>\n",
              "    <tr>\n",
              "      <th>5</th>\n",
              "      <td>GP</td>\n",
              "      <td>M</td>\n",
              "      <td>16</td>\n",
              "      <td>U</td>\n",
              "      <td>LE3</td>\n",
              "      <td>T</td>\n",
              "      <td>4</td>\n",
              "      <td>3</td>\n",
              "      <td>services</td>\n",
              "      <td>other</td>\n",
              "      <td>reputation</td>\n",
              "      <td>mother</td>\n",
              "      <td>1</td>\n",
              "      <td>2</td>\n",
              "      <td>0</td>\n",
              "      <td>no</td>\n",
              "      <td>yes</td>\n",
              "      <td>yes</td>\n",
              "      <td>yes</td>\n",
              "      <td>yes</td>\n",
              "      <td>yes</td>\n",
              "      <td>yes</td>\n",
              "      <td>no</td>\n",
              "      <td>5</td>\n",
              "      <td>4</td>\n",
              "      <td>2</td>\n",
              "      <td>1</td>\n",
              "      <td>2</td>\n",
              "      <td>5</td>\n",
              "      <td>10</td>\n",
              "      <td>15</td>\n",
              "      <td>15</td>\n",
              "      <td>15</td>\n",
              "    </tr>\n",
              "    <tr>\n",
              "      <th>6</th>\n",
              "      <td>GP</td>\n",
              "      <td>M</td>\n",
              "      <td>16</td>\n",
              "      <td>U</td>\n",
              "      <td>LE3</td>\n",
              "      <td>T</td>\n",
              "      <td>2</td>\n",
              "      <td>2</td>\n",
              "      <td>other</td>\n",
              "      <td>other</td>\n",
              "      <td>home</td>\n",
              "      <td>mother</td>\n",
              "      <td>1</td>\n",
              "      <td>2</td>\n",
              "      <td>0</td>\n",
              "      <td>no</td>\n",
              "      <td>no</td>\n",
              "      <td>no</td>\n",
              "      <td>no</td>\n",
              "      <td>yes</td>\n",
              "      <td>yes</td>\n",
              "      <td>yes</td>\n",
              "      <td>no</td>\n",
              "      <td>4</td>\n",
              "      <td>4</td>\n",
              "      <td>4</td>\n",
              "      <td>1</td>\n",
              "      <td>1</td>\n",
              "      <td>3</td>\n",
              "      <td>0</td>\n",
              "      <td>12</td>\n",
              "      <td>12</td>\n",
              "      <td>11</td>\n",
              "    </tr>\n",
              "    <tr>\n",
              "      <th>7</th>\n",
              "      <td>GP</td>\n",
              "      <td>F</td>\n",
              "      <td>17</td>\n",
              "      <td>U</td>\n",
              "      <td>GT3</td>\n",
              "      <td>A</td>\n",
              "      <td>4</td>\n",
              "      <td>4</td>\n",
              "      <td>other</td>\n",
              "      <td>teacher</td>\n",
              "      <td>home</td>\n",
              "      <td>mother</td>\n",
              "      <td>2</td>\n",
              "      <td>2</td>\n",
              "      <td>0</td>\n",
              "      <td>yes</td>\n",
              "      <td>yes</td>\n",
              "      <td>no</td>\n",
              "      <td>no</td>\n",
              "      <td>yes</td>\n",
              "      <td>yes</td>\n",
              "      <td>no</td>\n",
              "      <td>no</td>\n",
              "      <td>4</td>\n",
              "      <td>1</td>\n",
              "      <td>4</td>\n",
              "      <td>1</td>\n",
              "      <td>1</td>\n",
              "      <td>1</td>\n",
              "      <td>6</td>\n",
              "      <td>6</td>\n",
              "      <td>5</td>\n",
              "      <td>6</td>\n",
              "    </tr>\n",
              "    <tr>\n",
              "      <th>8</th>\n",
              "      <td>GP</td>\n",
              "      <td>M</td>\n",
              "      <td>15</td>\n",
              "      <td>U</td>\n",
              "      <td>LE3</td>\n",
              "      <td>A</td>\n",
              "      <td>3</td>\n",
              "      <td>2</td>\n",
              "      <td>services</td>\n",
              "      <td>other</td>\n",
              "      <td>home</td>\n",
              "      <td>mother</td>\n",
              "      <td>1</td>\n",
              "      <td>2</td>\n",
              "      <td>0</td>\n",
              "      <td>no</td>\n",
              "      <td>yes</td>\n",
              "      <td>yes</td>\n",
              "      <td>no</td>\n",
              "      <td>yes</td>\n",
              "      <td>yes</td>\n",
              "      <td>yes</td>\n",
              "      <td>no</td>\n",
              "      <td>4</td>\n",
              "      <td>2</td>\n",
              "      <td>2</td>\n",
              "      <td>1</td>\n",
              "      <td>1</td>\n",
              "      <td>1</td>\n",
              "      <td>0</td>\n",
              "      <td>16</td>\n",
              "      <td>18</td>\n",
              "      <td>19</td>\n",
              "    </tr>\n",
              "    <tr>\n",
              "      <th>9</th>\n",
              "      <td>GP</td>\n",
              "      <td>M</td>\n",
              "      <td>15</td>\n",
              "      <td>U</td>\n",
              "      <td>GT3</td>\n",
              "      <td>T</td>\n",
              "      <td>3</td>\n",
              "      <td>4</td>\n",
              "      <td>other</td>\n",
              "      <td>other</td>\n",
              "      <td>home</td>\n",
              "      <td>mother</td>\n",
              "      <td>1</td>\n",
              "      <td>2</td>\n",
              "      <td>0</td>\n",
              "      <td>no</td>\n",
              "      <td>yes</td>\n",
              "      <td>yes</td>\n",
              "      <td>yes</td>\n",
              "      <td>yes</td>\n",
              "      <td>yes</td>\n",
              "      <td>yes</td>\n",
              "      <td>no</td>\n",
              "      <td>5</td>\n",
              "      <td>5</td>\n",
              "      <td>1</td>\n",
              "      <td>1</td>\n",
              "      <td>1</td>\n",
              "      <td>5</td>\n",
              "      <td>0</td>\n",
              "      <td>14</td>\n",
              "      <td>15</td>\n",
              "      <td>15</td>\n",
              "    </tr>\n",
              "  </tbody>\n",
              "</table>\n",
              "</div>"
            ],
            "text/plain": [
              "  school sex  age address famsize Pstatus  ...  Walc  health absences  G1  G2  G3\n",
              "0     GP   F   18       U     GT3       A  ...     1       3        6   5   6   6\n",
              "1     GP   F   17       U     GT3       T  ...     1       3        4   5   5   6\n",
              "2     GP   F   15       U     LE3       T  ...     3       3       10   7   8  10\n",
              "3     GP   F   15       U     GT3       T  ...     1       5        2  15  14  15\n",
              "4     GP   F   16       U     GT3       T  ...     2       5        4   6  10  10\n",
              "5     GP   M   16       U     LE3       T  ...     2       5       10  15  15  15\n",
              "6     GP   M   16       U     LE3       T  ...     1       3        0  12  12  11\n",
              "7     GP   F   17       U     GT3       A  ...     1       1        6   6   5   6\n",
              "8     GP   M   15       U     LE3       A  ...     1       1        0  16  18  19\n",
              "9     GP   M   15       U     GT3       T  ...     1       5        0  14  15  15\n",
              "\n",
              "[10 rows x 33 columns]"
            ]
          },
          "metadata": {
            "tags": []
          },
          "execution_count": 55
        }
      ]
    },
    {
      "cell_type": "markdown",
      "metadata": {
        "id": "i2bal50yG_PZ"
      },
      "source": [
        "We are just going to consider the columns `G1` and `G3` for univariate linear regression\n",
        "\n",
        "$G3_i = G1_i  \\cdot \\theta_1 + \\theta_0$"
      ]
    },
    {
      "cell_type": "code",
      "metadata": {
        "colab": {
          "base_uri": "https://localhost:8080/",
          "height": 204
        },
        "id": "Yw0PNCuTSEDC",
        "outputId": "639aef31-63d0-427b-e337-3c1dca9de931"
      },
      "source": [
        "uniMathData = mathData[['G1', 'G3']]\n",
        "uniMathData.head(5)"
      ],
      "execution_count": 56,
      "outputs": [
        {
          "output_type": "execute_result",
          "data": {
            "text/html": [
              "<div>\n",
              "<style scoped>\n",
              "    .dataframe tbody tr th:only-of-type {\n",
              "        vertical-align: middle;\n",
              "    }\n",
              "\n",
              "    .dataframe tbody tr th {\n",
              "        vertical-align: top;\n",
              "    }\n",
              "\n",
              "    .dataframe thead th {\n",
              "        text-align: right;\n",
              "    }\n",
              "</style>\n",
              "<table border=\"1\" class=\"dataframe\">\n",
              "  <thead>\n",
              "    <tr style=\"text-align: right;\">\n",
              "      <th></th>\n",
              "      <th>G1</th>\n",
              "      <th>G3</th>\n",
              "    </tr>\n",
              "  </thead>\n",
              "  <tbody>\n",
              "    <tr>\n",
              "      <th>0</th>\n",
              "      <td>5</td>\n",
              "      <td>6</td>\n",
              "    </tr>\n",
              "    <tr>\n",
              "      <th>1</th>\n",
              "      <td>5</td>\n",
              "      <td>6</td>\n",
              "    </tr>\n",
              "    <tr>\n",
              "      <th>2</th>\n",
              "      <td>7</td>\n",
              "      <td>10</td>\n",
              "    </tr>\n",
              "    <tr>\n",
              "      <th>3</th>\n",
              "      <td>15</td>\n",
              "      <td>15</td>\n",
              "    </tr>\n",
              "    <tr>\n",
              "      <th>4</th>\n",
              "      <td>6</td>\n",
              "      <td>10</td>\n",
              "    </tr>\n",
              "  </tbody>\n",
              "</table>\n",
              "</div>"
            ],
            "text/plain": [
              "   G1  G3\n",
              "0   5   6\n",
              "1   5   6\n",
              "2   7  10\n",
              "3  15  15\n",
              "4   6  10"
            ]
          },
          "metadata": {
            "tags": []
          },
          "execution_count": 56
        }
      ]
    },
    {
      "cell_type": "code",
      "metadata": {
        "id": "eyzP9mL4Hmb5"
      },
      "source": [
        "uniMathData.to_csv('univariate_MathData_2.csv')"
      ],
      "execution_count": 57,
      "outputs": []
    },
    {
      "cell_type": "code",
      "metadata": {
        "colab": {
          "base_uri": "https://localhost:8080/"
        },
        "id": "I-3qK_nNxnTA",
        "outputId": "a72bbde9-14d2-4586-f0dc-2b21f339a9c7"
      },
      "source": [
        "ls"
      ],
      "execution_count": 58,
      "outputs": [
        {
          "output_type": "stream",
          "text": [
            "\u001b[0m\u001b[01;34mdrive\u001b[0m/  \u001b[01;34msample_data\u001b[0m/  univariate_MathData_2.csv\n"
          ],
          "name": "stdout"
        }
      ]
    },
    {
      "cell_type": "markdown",
      "metadata": {
        "id": "ImV3p6AKxszU"
      },
      "source": [
        "## Data visualization"
      ]
    },
    {
      "cell_type": "code",
      "metadata": {
        "colab": {
          "base_uri": "https://localhost:8080/",
          "height": 153
        },
        "id": "RqumcsZLxq4v",
        "outputId": "c5974316-29cf-4c7c-ecc4-7662539aeb05"
      },
      "source": [
        "import seaborn as sns\n",
        "sns.palplot(sns.color_palette('PuOr')) #Purple to Orange colors\n",
        "pal = sns.color_palette('PuOr', 6) #print 6 color shades from Purple to Orange\n",
        "pal.as_hex() #set hex code values for colors\n",
        "\n",
        "import matplotlib.pyplot as plt\n",
        "plt.style.use(['seaborn'])\n",
        "sns_colors = ['#c6690c', '#664697'] #orange Purple hex codes\n",
        "sns.set_palette(sns_colors) #set the palette as sns_colors \n",
        "sns.palplot(sns.color_palette(sns_colors)) #plot the color codes"
      ],
      "execution_count": 59,
      "outputs": [
        {
          "output_type": "display_data",
          "data": {
            "image/png": "[encoded data removed]",
            "text/plain": [
              "<Figure size 432x72 with 1 Axes>"
            ]
          },
          "metadata": {
            "tags": []
          }
        },
        {
          "output_type": "display_data",
          "data": {
            "image/png": "[encoded data removed]",
            "text/plain": [
              "<Figure size 144x72 with 1 Axes>"
            ]
          },
          "metadata": {
            "tags": []
          }
        }
      ]
    },
    {
      "cell_type": "code",
      "metadata": {
        "colab": {
          "base_uri": "https://localhost:8080/"
        },
        "id": "A6MT5E8Fy7MZ",
        "outputId": "8e1510fd-ff79-4a46-cc62-085db864aa64"
      },
      "source": [
        "uniMathData.columns #columns in the dataframe"
      ],
      "execution_count": 60,
      "outputs": [
        {
          "output_type": "execute_result",
          "data": {
            "text/plain": [
              "Index(['G1', 'G3'], dtype='object')"
            ]
          },
          "metadata": {
            "tags": []
          },
          "execution_count": 60
        }
      ]
    },
    {
      "cell_type": "code",
      "metadata": {
        "colab": {
          "base_uri": "https://localhost:8080/",
          "height": 391
        },
        "id": "PrsTwdHHzBbk",
        "outputId": "f4b2311f-7a74-4e4a-9022-f06a9596ad3d"
      },
      "source": [
        "#pairplot for all the values\n",
        "\n",
        "sns.pairplot(uniMathData,\n",
        "             x_vars = ['G1', 'G3'],\n",
        "             y_vars =  ['G1', 'G3'],\n",
        "       diag_kind='kde'\n",
        "             )"
      ],
      "execution_count": 61,
      "outputs": [
        {
          "output_type": "execute_result",
          "data": {
            "text/plain": [
              "<seaborn.axisgrid.PairGrid at 0x7f51c30e3dd0>"
            ]
          },
          "metadata": {
            "tags": []
          },
          "execution_count": 61
        },
        {
          "output_type": "display_data",
          "data": {
            "image/png": "[encoded data removed]",
            "text/plain": [
              "<Figure size 360x360 with 6 Axes>"
            ]
          },
          "metadata": {
            "tags": []
          }
        }
      ]
    },
    {
      "cell_type": "markdown",
      "metadata": {
        "id": "Klm33YcpKZkl"
      },
      "source": [
        "## Data Splits"
      ]
    },
    {
      "cell_type": "code",
      "metadata": {
        "colab": {
          "base_uri": "https://localhost:8080/"
        },
        "id": "UwrSOCKS1NhN",
        "outputId": "e60c17e0-1408-47d9-b878-e594981ededc"
      },
      "source": [
        "#80-20 train-test percent split\n",
        "\n",
        "trainDataset = uniMathData.sample(frac=0.8, random_state=0) \n",
        "testDataset = uniMathData.drop(trainDataset.index)\n",
        "\n",
        "print(trainDataset.head())\n",
        "print(testDataset.head())"
      ],
      "execution_count": 62,
      "outputs": [
        {
          "output_type": "stream",
          "text": [
            "     G1  G3\n",
            "329  14  14\n",
            "318  11  10\n",
            "317   9   9\n",
            "65   16  15\n",
            "59   15  16\n",
            "    G1  G3\n",
            "9   14  15\n",
            "25   6   8\n",
            "28  11  11\n",
            "31  17  17\n",
            "32  17  16\n"
          ],
          "name": "stdout"
        }
      ]
    },
    {
      "cell_type": "code",
      "metadata": {
        "colab": {
          "base_uri": "https://localhost:8080/"
        },
        "id": "YWO2xRV53wV-",
        "outputId": "90501ac8-371e-4d0b-fb91-c8943b2e2703"
      },
      "source": [
        "print(trainDataset.shape)\n",
        "print(testDataset.shape)"
      ],
      "execution_count": 63,
      "outputs": [
        {
          "output_type": "stream",
          "text": [
            "(316, 2)\n",
            "(79, 2)\n"
          ],
          "name": "stdout"
        }
      ]
    },
    {
      "cell_type": "code",
      "metadata": {
        "colab": {
          "base_uri": "https://localhost:8080/"
        },
        "id": "OmDTbvMC32hg",
        "outputId": "53ca1d5c-3aba-462d-c85d-7421bfc8dc63"
      },
      "source": [
        "#copy the trainDataset dataframe for getting the features\n",
        "\n",
        "trainFeatures = trainDataset.copy()\n",
        "testFeatures = testDataset.copy()\n",
        "\n",
        "print(trainFeatures.head())\n",
        "print(testFeatures.head())"
      ],
      "execution_count": 64,
      "outputs": [
        {
          "output_type": "stream",
          "text": [
            "     G1  G3\n",
            "329  14  14\n",
            "318  11  10\n",
            "317   9   9\n",
            "65   16  15\n",
            "59   15  16\n",
            "    G1  G3\n",
            "9   14  15\n",
            "25   6   8\n",
            "28  11  11\n",
            "31  17  17\n",
            "32  17  16\n"
          ],
          "name": "stdout"
        }
      ]
    },
    {
      "cell_type": "code",
      "metadata": {
        "colab": {
          "base_uri": "https://localhost:8080/"
        },
        "id": "jSR0_uni4ayh",
        "outputId": "a876b1cb-2dc5-4d07-975e-255c205870d6"
      },
      "source": [
        "#removing the G3 column and saving it into the labels variable\n",
        "\n",
        "trainLabels = trainFeatures.pop('G3')\n",
        "testLabels = testFeatures.pop('G3')\n",
        "\n",
        "print(trainLabels.head())\n",
        "print(testLabels.head())"
      ],
      "execution_count": 65,
      "outputs": [
        {
          "output_type": "stream",
          "text": [
            "329    14\n",
            "318    10\n",
            "317     9\n",
            "65     15\n",
            "59     16\n",
            "Name: G3, dtype: int64\n",
            "9     15\n",
            "25     8\n",
            "28    11\n",
            "31    17\n",
            "32    16\n",
            "Name: G3, dtype: int64\n"
          ],
          "name": "stdout"
        }
      ]
    },
    {
      "cell_type": "code",
      "metadata": {
        "colab": {
          "base_uri": "https://localhost:8080/"
        },
        "id": "HnGSqb-q4wk8",
        "outputId": "8f751aa8-136f-405c-c7db-e361f0fafa65"
      },
      "source": [
        "print(trainFeatures.head())\n",
        "print(testFeatures.head())"
      ],
      "execution_count": 66,
      "outputs": [
        {
          "output_type": "stream",
          "text": [
            "     G1\n",
            "329  14\n",
            "318  11\n",
            "317   9\n",
            "65   16\n",
            "59   15\n",
            "    G1\n",
            "9   14\n",
            "25   6\n",
            "28  11\n",
            "31  17\n",
            "32  17\n"
          ],
          "name": "stdout"
        }
      ]
    },
    {
      "cell_type": "code",
      "metadata": {
        "id": "XPTSq34jk4o_"
      },
      "source": [
        "# univariate -> num(features) = 1\n",
        "# multvariate -> num(features) > 1 = 11\n",
        "\n",
        "\n",
        "model = tf.keras.Sequential([\n",
        "                             tf.keras.layers.Dense(1)\n",
        "\n",
        "])"
      ],
      "execution_count": 67,
      "outputs": []
    },
    {
      "cell_type": "code",
      "metadata": {
        "id": "4C4GKBdE6iCE"
      },
      "source": [
        "model.compile(\n",
        "    loss = 'mean_absolute_error', #minimizing the MAE loss\n",
        "    optimizer = tf.keras.optimizers.Adam(0.001), #learning rate specified as 0.001\n",
        "    # optimizer = 'adam', #takes the default learning rate\n",
        "    metrics = ['mae', 'mse'] #meanSquare and meanAbsolute error metrics\n",
        ")"
      ],
      "execution_count": 68,
      "outputs": []
    },
    {
      "cell_type": "code",
      "metadata": {
        "colab": {
          "base_uri": "https://localhost:8080/"
        },
        "id": "d_A7DrhB6zvm",
        "outputId": "a7773c3c-52e9-4a91-f5dc-3ba62617d4a8"
      },
      "source": [
        "numEpochs = 300\n",
        "history = model.fit(x = trainFeatures, y = trainLabels, validation_data = (testFeatures, testLabels), epochs = numEpochs)"
      ],
      "execution_count": 69,
      "outputs": [
        {
          "output_type": "stream",
          "text": [
            "Epoch 1/300\n",
            "10/10 [==============================] - 0s 16ms/step - loss: 20.1892 - mae: 20.1892 - mse: 459.1201 - val_loss: 21.3187 - val_mae: 21.3187 - val_mse: 509.7487\n",
            "Epoch 2/300\n",
            "10/10 [==============================] - 0s 3ms/step - loss: 20.0712 - mae: 20.0712 - mse: 453.9302 - val_loss: 21.1945 - val_mae: 21.1945 - val_mse: 503.9893\n",
            "Epoch 3/300\n",
            "10/10 [==============================] - 0s 4ms/step - loss: 19.9540 - mae: 19.9540 - mse: 448.8103 - val_loss: 21.0700 - val_mae: 21.0700 - val_mse: 498.2490\n",
            "Epoch 4/300\n",
            "10/10 [==============================] - 0s 4ms/step - loss: 19.8360 - mae: 19.8360 - mse: 443.6498 - val_loss: 20.9457 - val_mae: 20.9457 - val_mse: 492.5514\n",
            "Epoch 5/300\n",
            "10/10 [==============================] - 0s 3ms/step - loss: 19.7180 - mae: 19.7180 - mse: 438.5046 - val_loss: 20.8214 - val_mae: 20.8214 - val_mse: 486.8865\n",
            "Epoch 6/300\n",
            "10/10 [==============================] - 0s 3ms/step - loss: 19.6014 - mae: 19.6014 - mse: 433.6024 - val_loss: 20.6962 - val_mae: 20.6962 - val_mse: 481.2143\n",
            "Epoch 7/300\n",
            "10/10 [==============================] - 0s 3ms/step - loss: 19.4834 - mae: 19.4834 - mse: 428.5236 - val_loss: 20.5715 - val_mae: 20.5715 - val_mse: 475.5975\n",
            "Epoch 8/300\n",
            "10/10 [==============================] - 0s 3ms/step - loss: 19.3656 - mae: 19.3656 - mse: 423.5530 - val_loss: 20.4470 - val_mae: 20.4470 - val_mse: 470.0218\n",
            "Epoch 9/300\n",
            "10/10 [==============================] - 0s 3ms/step - loss: 19.2481 - mae: 19.2481 - mse: 418.5909 - val_loss: 20.3224 - val_mae: 20.3224 - val_mse: 464.4787\n",
            "Epoch 10/300\n",
            "10/10 [==============================] - 0s 3ms/step - loss: 19.1305 - mae: 19.1305 - mse: 413.6505 - val_loss: 20.1978 - val_mae: 20.1978 - val_mse: 458.9684\n",
            "Epoch 11/300\n",
            "10/10 [==============================] - 0s 3ms/step - loss: 19.0131 - mae: 19.0131 - mse: 408.7657 - val_loss: 20.0731 - val_mae: 20.0731 - val_mse: 453.4857\n",
            "Epoch 12/300\n",
            "10/10 [==============================] - 0s 3ms/step - loss: 18.8949 - mae: 18.8949 - mse: 403.8495 - val_loss: 19.9491 - val_mae: 19.9491 - val_mse: 448.0684\n",
            "Epoch 13/300\n",
            "10/10 [==============================] - 0s 3ms/step - loss: 18.7783 - mae: 18.7783 - mse: 399.1213 - val_loss: 19.8242 - val_mae: 19.8242 - val_mse: 442.6424\n",
            "Epoch 14/300\n",
            "10/10 [==============================] - 0s 3ms/step - loss: 18.6601 - mae: 18.6601 - mse: 394.2533 - val_loss: 19.6999 - val_mae: 19.6999 - val_mse: 437.2772\n",
            "Epoch 15/300\n",
            "10/10 [==============================] - 0s 3ms/step - loss: 18.5430 - mae: 18.5430 - mse: 389.5092 - val_loss: 19.5752 - val_mae: 19.5752 - val_mse: 431.9268\n",
            "Epoch 16/300\n",
            "10/10 [==============================] - 0s 3ms/step - loss: 18.4254 - mae: 18.4254 - mse: 384.7446 - val_loss: 19.4504 - val_mae: 19.4504 - val_mse: 426.6104\n",
            "Epoch 17/300\n",
            "10/10 [==============================] - 0s 3ms/step - loss: 18.3079 - mae: 18.3079 - mse: 380.0714 - val_loss: 19.3258 - val_mae: 19.3258 - val_mse: 421.3330\n",
            "Epoch 18/300\n",
            "10/10 [==============================] - 0s 3ms/step - loss: 18.1899 - mae: 18.1899 - mse: 375.3257 - val_loss: 19.2018 - val_mae: 19.2018 - val_mse: 416.1135\n",
            "Epoch 19/300\n",
            "10/10 [==============================] - 0s 3ms/step - loss: 18.0730 - mae: 18.0730 - mse: 370.6924 - val_loss: 19.0772 - val_mae: 19.0772 - val_mse: 410.9025\n",
            "Epoch 20/300\n",
            "10/10 [==============================] - 0s 3ms/step - loss: 17.9556 - mae: 17.9556 - mse: 366.1157 - val_loss: 18.9526 - val_mae: 18.9526 - val_mse: 405.7245\n",
            "Epoch 21/300\n",
            "10/10 [==============================] - 0s 3ms/step - loss: 17.8370 - mae: 17.8370 - mse: 361.3940 - val_loss: 18.8290 - val_mae: 18.8290 - val_mse: 400.6201\n",
            "Epoch 22/300\n",
            "10/10 [==============================] - 0s 3ms/step - loss: 17.7205 - mae: 17.7205 - mse: 356.9232 - val_loss: 18.7042 - val_mae: 18.7042 - val_mse: 395.5006\n",
            "Epoch 23/300\n",
            "10/10 [==============================] - 0s 3ms/step - loss: 17.6025 - mae: 17.6025 - mse: 352.3328 - val_loss: 18.5798 - val_mae: 18.5798 - val_mse: 390.4334\n",
            "Epoch 24/300\n",
            "10/10 [==============================] - 0s 3ms/step - loss: 17.4860 - mae: 17.4860 - mse: 347.9029 - val_loss: 18.4545 - val_mae: 18.4545 - val_mse: 385.3583\n",
            "Epoch 25/300\n",
            "10/10 [==============================] - 0s 3ms/step - loss: 17.3670 - mae: 17.3670 - mse: 343.3408 - val_loss: 18.3305 - val_mae: 18.3305 - val_mse: 380.3742\n",
            "Epoch 26/300\n",
            "10/10 [==============================] - 0s 3ms/step - loss: 17.2509 - mae: 17.2509 - mse: 339.0202 - val_loss: 18.2051 - val_mae: 18.2051 - val_mse: 375.3631\n",
            "Epoch 27/300\n",
            "10/10 [==============================] - 0s 4ms/step - loss: 17.1320 - mae: 17.1320 - mse: 334.4867 - val_loss: 18.0811 - val_mae: 18.0811 - val_mse: 370.4437\n",
            "Epoch 28/300\n",
            "10/10 [==============================] - 0s 3ms/step - loss: 17.0151 - mae: 17.0151 - mse: 330.1271 - val_loss: 17.9567 - val_mae: 17.9567 - val_mse: 365.5381\n",
            "Epoch 29/300\n",
            "10/10 [==============================] - 0s 3ms/step - loss: 16.8976 - mae: 16.8976 - mse: 325.7887 - val_loss: 17.8321 - val_mae: 17.8321 - val_mse: 360.6637\n",
            "Epoch 30/300\n",
            "10/10 [==============================] - 0s 3ms/step - loss: 16.7797 - mae: 16.7797 - mse: 321.4196 - val_loss: 17.7080 - val_mae: 17.7080 - val_mse: 355.8358\n",
            "Epoch 31/300\n",
            "10/10 [==============================] - 0s 4ms/step - loss: 16.6625 - mae: 16.6625 - mse: 317.1172 - val_loss: 17.5834 - val_mae: 17.5834 - val_mse: 351.0282\n",
            "Epoch 32/300\n",
            "10/10 [==============================] - 0s 5ms/step - loss: 16.5453 - mae: 16.5453 - mse: 312.8949 - val_loss: 17.4585 - val_mae: 17.4585 - val_mse: 346.2384\n",
            "Epoch 33/300\n",
            "10/10 [==============================] - 0s 3ms/step - loss: 16.4277 - mae: 16.4277 - mse: 308.6735 - val_loss: 17.3337 - val_mae: 17.3337 - val_mse: 341.4870\n",
            "Epoch 34/300\n",
            "10/10 [==============================] - 0s 3ms/step - loss: 16.3101 - mae: 16.3101 - mse: 304.4597 - val_loss: 17.2090 - val_mae: 17.2090 - val_mse: 336.7729\n",
            "Epoch 35/300\n",
            "10/10 [==============================] - 0s 3ms/step - loss: 16.1922 - mae: 16.1922 - mse: 300.2564 - val_loss: 17.0848 - val_mae: 17.0848 - val_mse: 332.1090\n",
            "Epoch 36/300\n",
            "10/10 [==============================] - 0s 3ms/step - loss: 16.0746 - mae: 16.0746 - mse: 296.0796 - val_loss: 16.9606 - val_mae: 16.9606 - val_mse: 327.4799\n",
            "Epoch 37/300\n",
            "10/10 [==============================] - 0s 3ms/step - loss: 15.9572 - mae: 15.9572 - mse: 291.9723 - val_loss: 16.8362 - val_mae: 16.8362 - val_mse: 322.8790\n",
            "Epoch 38/300\n",
            "10/10 [==============================] - 0s 3ms/step - loss: 15.8402 - mae: 15.8402 - mse: 287.9291 - val_loss: 16.7115 - val_mae: 16.7115 - val_mse: 318.2971\n",
            "Epoch 39/300\n",
            "10/10 [==============================] - 0s 3ms/step - loss: 15.7217 - mae: 15.7217 - mse: 283.8055 - val_loss: 16.5876 - val_mae: 16.5876 - val_mse: 313.7809\n",
            "Epoch 40/300\n",
            "10/10 [==============================] - 0s 3ms/step - loss: 15.6048 - mae: 15.6048 - mse: 279.8117 - val_loss: 16.4630 - val_mae: 16.4630 - val_mse: 309.2689\n",
            "Epoch 41/300\n",
            "10/10 [==============================] - 0s 3ms/step - loss: 15.4881 - mae: 15.4881 - mse: 275.8660 - val_loss: 16.3376 - val_mae: 16.3376 - val_mse: 304.7618\n",
            "Epoch 42/300\n",
            "10/10 [==============================] - 0s 3ms/step - loss: 15.3695 - mae: 15.3695 - mse: 271.8174 - val_loss: 16.2134 - val_mae: 16.2134 - val_mse: 300.3318\n",
            "Epoch 43/300\n",
            "10/10 [==============================] - 0s 3ms/step - loss: 15.2522 - mae: 15.2522 - mse: 267.8737 - val_loss: 16.0888 - val_mae: 16.0888 - val_mse: 295.9247\n",
            "Epoch 44/300\n",
            "10/10 [==============================] - 0s 3ms/step - loss: 15.1345 - mae: 15.1345 - mse: 263.9738 - val_loss: 15.9645 - val_mae: 15.9645 - val_mse: 291.5579\n",
            "Epoch 45/300\n",
            "10/10 [==============================] - 0s 3ms/step - loss: 15.0174 - mae: 15.0174 - mse: 260.1205 - val_loss: 15.8398 - val_mae: 15.8398 - val_mse: 287.2115\n",
            "Epoch 46/300\n",
            "10/10 [==============================] - 0s 3ms/step - loss: 14.8996 - mae: 14.8996 - mse: 256.2449 - val_loss: 15.7156 - val_mae: 15.7156 - val_mse: 282.9120\n",
            "Epoch 47/300\n",
            "10/10 [==============================] - 0s 4ms/step - loss: 14.7823 - mae: 14.7823 - mse: 252.4460 - val_loss: 15.5909 - val_mae: 15.5909 - val_mse: 278.6320\n",
            "Epoch 48/300\n",
            "10/10 [==============================] - 0s 5ms/step - loss: 14.6645 - mae: 14.6645 - mse: 248.6252 - val_loss: 15.4665 - val_mae: 15.4665 - val_mse: 274.3970\n",
            "Epoch 49/300\n",
            "10/10 [==============================] - 0s 4ms/step - loss: 14.5476 - mae: 14.5476 - mse: 244.9084 - val_loss: 15.3415 - val_mae: 15.3415 - val_mse: 270.1737\n",
            "Epoch 50/300\n",
            "10/10 [==============================] - 0s 3ms/step - loss: 14.4291 - mae: 14.4291 - mse: 241.1278 - val_loss: 15.2175 - val_mae: 15.2175 - val_mse: 266.0180\n",
            "Epoch 51/300\n",
            "10/10 [==============================] - 0s 3ms/step - loss: 14.3120 - mae: 14.3120 - mse: 237.4325 - val_loss: 15.0931 - val_mae: 15.0931 - val_mse: 261.8799\n",
            "Epoch 52/300\n",
            "10/10 [==============================] - 0s 4ms/step - loss: 14.1949 - mae: 14.1949 - mse: 233.7993 - val_loss: 14.9681 - val_mae: 14.9681 - val_mse: 257.7563\n",
            "Epoch 53/300\n",
            "10/10 [==============================] - 0s 4ms/step - loss: 14.0775 - mae: 14.0775 - mse: 230.1693 - val_loss: 14.8431 - val_mae: 14.8431 - val_mse: 253.6680\n",
            "Epoch 54/300\n",
            "10/10 [==============================] - 0s 4ms/step - loss: 13.9588 - mae: 13.9588 - mse: 226.4825 - val_loss: 14.7193 - val_mae: 14.7193 - val_mse: 249.6509\n",
            "Epoch 55/300\n",
            "10/10 [==============================] - 0s 3ms/step - loss: 13.8419 - mae: 13.8419 - mse: 222.9489 - val_loss: 14.5947 - val_mae: 14.5947 - val_mse: 245.6401\n",
            "Epoch 56/300\n",
            "10/10 [==============================] - 0s 3ms/step - loss: 13.7245 - mae: 13.7245 - mse: 219.4131 - val_loss: 14.4700 - val_mae: 14.4700 - val_mse: 241.6603\n",
            "Epoch 57/300\n",
            "10/10 [==============================] - 0s 4ms/step - loss: 13.6060 - mae: 13.6060 - mse: 215.7703 - val_loss: 14.3464 - val_mae: 14.3464 - val_mse: 237.7484\n",
            "Epoch 58/300\n",
            "10/10 [==============================] - 0s 3ms/step - loss: 13.4898 - mae: 13.4898 - mse: 212.3481 - val_loss: 14.2213 - val_mae: 14.2213 - val_mse: 233.8236\n",
            "Epoch 59/300\n",
            "10/10 [==============================] - 0s 4ms/step - loss: 13.3722 - mae: 13.3722 - mse: 208.9269 - val_loss: 14.0964 - val_mae: 14.0964 - val_mse: 229.9366\n",
            "Epoch 60/300\n",
            "10/10 [==============================] - 0s 4ms/step - loss: 13.2542 - mae: 13.2542 - mse: 205.4355 - val_loss: 13.9720 - val_mae: 13.9720 - val_mse: 226.0995\n",
            "Epoch 61/300\n",
            "10/10 [==============================] - 0s 4ms/step - loss: 13.1369 - mae: 13.1369 - mse: 202.0546 - val_loss: 13.8472 - val_mae: 13.8472 - val_mse: 222.2858\n",
            "Epoch 62/300\n",
            "10/10 [==============================] - 0s 3ms/step - loss: 13.0187 - mae: 13.0187 - mse: 198.6443 - val_loss: 13.7232 - val_mae: 13.7232 - val_mse: 218.5268\n",
            "Epoch 63/300\n",
            "10/10 [==============================] - 0s 4ms/step - loss: 12.9013 - mae: 12.9013 - mse: 195.2996 - val_loss: 13.5989 - val_mae: 13.5989 - val_mse: 214.7942\n",
            "Epoch 64/300\n",
            "10/10 [==============================] - 0s 3ms/step - loss: 12.7842 - mae: 12.7842 - mse: 192.0050 - val_loss: 13.4742 - val_mae: 13.4742 - val_mse: 211.0810\n",
            "Epoch 65/300\n",
            "10/10 [==============================] - 0s 3ms/step - loss: 12.6663 - mae: 12.6663 - mse: 188.6968 - val_loss: 13.3498 - val_mae: 13.3498 - val_mse: 207.4116\n",
            "Epoch 66/300\n",
            "10/10 [==============================] - 0s 3ms/step - loss: 12.5492 - mae: 12.5492 - mse: 185.4700 - val_loss: 13.2249 - val_mae: 13.2249 - val_mse: 203.7598\n",
            "Epoch 67/300\n",
            "10/10 [==============================] - 0s 3ms/step - loss: 12.4317 - mae: 12.4317 - mse: 182.2746 - val_loss: 13.1001 - val_mae: 13.1001 - val_mse: 200.1444\n",
            "Epoch 68/300\n",
            "10/10 [==============================] - 0s 4ms/step - loss: 12.3137 - mae: 12.3137 - mse: 179.0233 - val_loss: 12.9758 - val_mae: 12.9758 - val_mse: 196.5766\n",
            "Epoch 69/300\n",
            "10/10 [==============================] - 0s 3ms/step - loss: 12.1964 - mae: 12.1964 - mse: 175.8802 - val_loss: 12.8511 - val_mae: 12.8511 - val_mse: 193.0320\n",
            "Epoch 70/300\n",
            "10/10 [==============================] - 0s 4ms/step - loss: 12.0789 - mae: 12.0789 - mse: 172.7283 - val_loss: 12.7265 - val_mae: 12.7265 - val_mse: 189.5216\n",
            "Epoch 71/300\n",
            "10/10 [==============================] - 0s 3ms/step - loss: 11.9612 - mae: 11.9612 - mse: 169.6176 - val_loss: 12.6020 - val_mae: 12.6020 - val_mse: 186.0486\n",
            "Epoch 72/300\n",
            "10/10 [==============================] - 0s 4ms/step - loss: 11.8436 - mae: 11.8436 - mse: 166.5504 - val_loss: 12.4776 - val_mae: 12.4776 - val_mse: 182.6110\n",
            "Epoch 73/300\n",
            "10/10 [==============================] - 0s 3ms/step - loss: 11.7264 - mae: 11.7264 - mse: 163.5001 - val_loss: 12.3529 - val_mae: 12.3529 - val_mse: 179.1990\n",
            "Epoch 74/300\n",
            "10/10 [==============================] - 0s 3ms/step - loss: 11.6087 - mae: 11.6087 - mse: 160.4871 - val_loss: 12.2284 - val_mae: 12.2284 - val_mse: 175.8256\n",
            "Epoch 75/300\n",
            "10/10 [==============================] - 0s 4ms/step - loss: 11.4913 - mae: 11.4913 - mse: 157.4664 - val_loss: 12.1042 - val_mae: 12.1042 - val_mse: 172.4947\n",
            "Epoch 76/300\n",
            "10/10 [==============================] - 0s 4ms/step - loss: 11.3741 - mae: 11.3741 - mse: 154.5409 - val_loss: 11.9805 - val_mae: 11.9805 - val_mse: 169.2089\n",
            "Epoch 77/300\n",
            "10/10 [==============================] - 0s 4ms/step - loss: 11.2572 - mae: 11.2572 - mse: 151.5748 - val_loss: 11.8566 - val_mae: 11.8566 - val_mse: 165.9518\n",
            "Epoch 78/300\n",
            "10/10 [==============================] - 0s 4ms/step - loss: 11.1413 - mae: 11.1413 - mse: 148.7225 - val_loss: 11.7324 - val_mae: 11.7324 - val_mse: 162.7183\n",
            "Epoch 79/300\n",
            "10/10 [==============================] - 0s 4ms/step - loss: 11.0254 - mae: 11.0254 - mse: 145.8649 - val_loss: 11.6086 - val_mae: 11.6086 - val_mse: 159.5314\n",
            "Epoch 80/300\n",
            "10/10 [==============================] - 0s 3ms/step - loss: 10.9100 - mae: 10.9100 - mse: 143.0189 - val_loss: 11.4877 - val_mae: 11.4877 - val_mse: 156.4141\n",
            "Epoch 81/300\n",
            "10/10 [==============================] - 0s 5ms/step - loss: 10.8005 - mae: 10.8005 - mse: 140.2892 - val_loss: 11.3685 - val_mae: 11.3685 - val_mse: 153.3418\n",
            "Epoch 82/300\n",
            "10/10 [==============================] - 0s 3ms/step - loss: 10.6924 - mae: 10.6924 - mse: 137.5765 - val_loss: 11.2594 - val_mae: 11.2594 - val_mse: 150.3828\n",
            "Epoch 83/300\n",
            "10/10 [==============================] - 0s 3ms/step - loss: 10.5899 - mae: 10.5899 - mse: 135.0130 - val_loss: 11.1541 - val_mae: 11.1541 - val_mse: 147.4703\n",
            "Epoch 84/300\n",
            "10/10 [==============================] - 0s 4ms/step - loss: 10.4875 - mae: 10.4875 - mse: 132.3901 - val_loss: 11.0521 - val_mae: 11.0521 - val_mse: 144.6459\n",
            "Epoch 85/300\n",
            "10/10 [==============================] - 0s 5ms/step - loss: 10.3917 - mae: 10.3917 - mse: 129.9665 - val_loss: 10.9511 - val_mae: 10.9511 - val_mse: 141.8795\n",
            "Epoch 86/300\n",
            "10/10 [==============================] - 0s 3ms/step - loss: 10.3001 - mae: 10.3001 - mse: 127.5331 - val_loss: 10.8530 - val_mae: 10.8530 - val_mse: 139.2197\n",
            "Epoch 87/300\n",
            "10/10 [==============================] - 0s 3ms/step - loss: 10.2108 - mae: 10.2108 - mse: 125.2382 - val_loss: 10.7571 - val_mae: 10.7571 - val_mse: 136.6435\n",
            "Epoch 88/300\n",
            "10/10 [==============================] - 0s 3ms/step - loss: 10.1228 - mae: 10.1228 - mse: 122.9462 - val_loss: 10.6618 - val_mae: 10.6618 - val_mse: 134.1091\n",
            "Epoch 89/300\n",
            "10/10 [==============================] - 0s 4ms/step - loss: 10.0359 - mae: 10.0359 - mse: 120.6742 - val_loss: 10.5657 - val_mae: 10.5657 - val_mse: 131.5797\n",
            "Epoch 90/300\n",
            "10/10 [==============================] - 0s 3ms/step - loss: 9.9472 - mae: 9.9472 - mse: 118.4343 - val_loss: 10.4705 - val_mae: 10.4705 - val_mse: 129.0982\n",
            "Epoch 91/300\n",
            "10/10 [==============================] - 0s 4ms/step - loss: 9.8599 - mae: 9.8599 - mse: 116.2350 - val_loss: 10.3744 - val_mae: 10.3744 - val_mse: 126.6190\n",
            "Epoch 92/300\n",
            "10/10 [==============================] - 0s 4ms/step - loss: 9.7725 - mae: 9.7725 - mse: 114.0479 - val_loss: 10.2776 - val_mae: 10.2776 - val_mse: 124.1459\n",
            "Epoch 93/300\n",
            "10/10 [==============================] - 0s 5ms/step - loss: 9.6833 - mae: 9.6833 - mse: 111.8161 - val_loss: 10.1820 - val_mae: 10.1820 - val_mse: 121.7299\n",
            "Epoch 94/300\n",
            "10/10 [==============================] - 0s 4ms/step - loss: 9.5963 - mae: 9.5963 - mse: 109.7098 - val_loss: 10.0847 - val_mae: 10.0847 - val_mse: 119.2961\n",
            "Epoch 95/300\n",
            "10/10 [==============================] - 0s 4ms/step - loss: 9.5081 - mae: 9.5081 - mse: 107.5288 - val_loss: 9.9869 - val_mae: 9.9869 - val_mse: 116.8781\n",
            "Epoch 96/300\n",
            "10/10 [==============================] - 0s 3ms/step - loss: 9.4184 - mae: 9.4184 - mse: 105.4202 - val_loss: 9.8903 - val_mae: 9.8903 - val_mse: 114.5129\n",
            "Epoch 97/300\n",
            "10/10 [==============================] - 0s 4ms/step - loss: 9.3301 - mae: 9.3301 - mse: 103.3269 - val_loss: 9.7929 - val_mae: 9.7929 - val_mse: 112.1562\n",
            "Epoch 98/300\n",
            "10/10 [==============================] - 0s 4ms/step - loss: 9.2410 - mae: 9.2410 - mse: 101.2338 - val_loss: 9.6955 - val_mae: 9.6955 - val_mse: 109.8249\n",
            "Epoch 99/300\n",
            "10/10 [==============================] - 0s 4ms/step - loss: 9.1523 - mae: 9.1523 - mse: 99.1853 - val_loss: 9.5979 - val_mae: 9.5979 - val_mse: 107.5146\n",
            "Epoch 100/300\n",
            "10/10 [==============================] - 0s 4ms/step - loss: 9.0627 - mae: 9.0627 - mse: 97.1245 - val_loss: 9.5007 - val_mae: 9.5007 - val_mse: 105.2397\n",
            "Epoch 101/300\n",
            "10/10 [==============================] - 0s 4ms/step - loss: 8.9735 - mae: 8.9735 - mse: 95.1107 - val_loss: 9.4031 - val_mae: 9.4031 - val_mse: 102.9822\n",
            "Epoch 102/300\n",
            "10/10 [==============================] - 0s 4ms/step - loss: 8.8849 - mae: 8.8849 - mse: 93.1359 - val_loss: 9.3046 - val_mae: 9.3046 - val_mse: 100.7290\n",
            "Epoch 103/300\n",
            "10/10 [==============================] - 0s 4ms/step - loss: 8.7939 - mae: 8.7939 - mse: 91.1494 - val_loss: 9.2073 - val_mae: 9.2073 - val_mse: 98.5306\n",
            "Epoch 104/300\n",
            "10/10 [==============================] - 0s 3ms/step - loss: 8.7060 - mae: 8.7060 - mse: 89.1814 - val_loss: 9.1079 - val_mae: 9.1079 - val_mse: 96.3132\n",
            "Epoch 105/300\n",
            "10/10 [==============================] - 0s 3ms/step - loss: 8.6140 - mae: 8.6140 - mse: 87.2229 - val_loss: 9.0105 - val_mae: 9.0105 - val_mse: 94.1660\n",
            "Epoch 106/300\n",
            "10/10 [==============================] - 0s 4ms/step - loss: 8.5247 - mae: 8.5247 - mse: 85.3132 - val_loss: 8.9121 - val_mae: 8.9121 - val_mse: 92.0207\n",
            "Epoch 107/300\n",
            "10/10 [==============================] - 0s 3ms/step - loss: 8.4347 - mae: 8.4347 - mse: 83.4178 - val_loss: 8.8131 - val_mae: 8.8131 - val_mse: 89.8910\n",
            "Epoch 108/300\n",
            "10/10 [==============================] - 0s 4ms/step - loss: 8.3447 - mae: 8.3447 - mse: 81.5317 - val_loss: 8.7136 - val_mae: 8.7136 - val_mse: 87.7782\n",
            "Epoch 109/300\n",
            "10/10 [==============================] - 0s 4ms/step - loss: 8.2540 - mae: 8.2540 - mse: 79.6676 - val_loss: 8.6142 - val_mae: 8.6142 - val_mse: 85.6957\n",
            "Epoch 110/300\n",
            "10/10 [==============================] - 0s 3ms/step - loss: 8.1630 - mae: 8.1630 - mse: 77.8102 - val_loss: 8.5154 - val_mae: 8.5154 - val_mse: 83.6504\n",
            "Epoch 111/300\n",
            "10/10 [==============================] - 0s 3ms/step - loss: 8.0733 - mae: 8.0733 - mse: 76.0351 - val_loss: 8.4154 - val_mae: 8.4154 - val_mse: 81.6094\n",
            "Epoch 112/300\n",
            "10/10 [==============================] - 0s 4ms/step - loss: 7.9816 - mae: 7.9816 - mse: 74.2115 - val_loss: 8.3166 - val_mae: 8.3166 - val_mse: 79.6193\n",
            "Epoch 113/300\n",
            "10/10 [==============================] - 0s 3ms/step - loss: 7.8909 - mae: 7.8909 - mse: 72.4521 - val_loss: 8.2175 - val_mae: 8.2175 - val_mse: 77.6480\n",
            "Epoch 114/300\n",
            "10/10 [==============================] - 0s 3ms/step - loss: 7.8002 - mae: 7.8002 - mse: 70.7107 - val_loss: 8.1182 - val_mae: 8.1182 - val_mse: 75.7024\n",
            "Epoch 115/300\n",
            "10/10 [==============================] - 0s 3ms/step - loss: 7.7106 - mae: 7.7106 - mse: 69.0224 - val_loss: 8.0176 - val_mae: 8.0176 - val_mse: 73.7580\n",
            "Epoch 116/300\n",
            "10/10 [==============================] - 0s 3ms/step - loss: 7.6165 - mae: 7.6165 - mse: 67.2751 - val_loss: 7.9200 - val_mae: 7.9200 - val_mse: 71.8988\n",
            "Epoch 117/300\n",
            "10/10 [==============================] - 0s 3ms/step - loss: 7.5270 - mae: 7.5270 - mse: 65.6073 - val_loss: 7.8201 - val_mae: 7.8201 - val_mse: 70.0237\n",
            "Epoch 118/300\n",
            "10/10 [==============================] - 0s 3ms/step - loss: 7.4365 - mae: 7.4365 - mse: 63.9816 - val_loss: 7.7191 - val_mae: 7.7191 - val_mse: 68.1539\n",
            "Epoch 119/300\n",
            "10/10 [==============================] - 0s 5ms/step - loss: 7.3451 - mae: 7.3451 - mse: 62.3409 - val_loss: 7.6178 - val_mae: 7.6178 - val_mse: 66.3071\n",
            "Epoch 120/300\n",
            "10/10 [==============================] - 0s 3ms/step - loss: 7.2517 - mae: 7.2517 - mse: 60.7222 - val_loss: 7.5182 - val_mae: 7.5182 - val_mse: 64.5190\n",
            "Epoch 121/300\n",
            "10/10 [==============================] - 0s 3ms/step - loss: 7.1608 - mae: 7.1608 - mse: 59.1153 - val_loss: 7.4175 - val_mae: 7.4175 - val_mse: 62.7400\n",
            "Epoch 122/300\n",
            "10/10 [==============================] - 0s 3ms/step - loss: 7.0693 - mae: 7.0693 - mse: 57.5544 - val_loss: 7.3164 - val_mae: 7.3164 - val_mse: 60.9817\n",
            "Epoch 123/300\n",
            "10/10 [==============================] - 0s 4ms/step - loss: 6.9759 - mae: 6.9759 - mse: 55.9926 - val_loss: 7.2169 - val_mae: 7.2169 - val_mse: 59.2772\n",
            "Epoch 124/300\n",
            "10/10 [==============================] - 0s 3ms/step - loss: 6.8855 - mae: 6.8855 - mse: 54.5014 - val_loss: 7.1154 - val_mae: 7.1154 - val_mse: 57.5676\n",
            "Epoch 125/300\n",
            "10/10 [==============================] - 0s 4ms/step - loss: 6.7927 - mae: 6.7927 - mse: 52.9906 - val_loss: 7.0143 - val_mae: 7.0143 - val_mse: 55.8928\n",
            "Epoch 126/300\n",
            "10/10 [==============================] - 0s 4ms/step - loss: 6.7002 - mae: 6.7002 - mse: 51.5282 - val_loss: 6.9134 - val_mae: 6.9134 - val_mse: 54.2495\n",
            "Epoch 127/300\n",
            "10/10 [==============================] - 0s 3ms/step - loss: 6.6070 - mae: 6.6070 - mse: 50.0669 - val_loss: 6.8132 - val_mae: 6.8132 - val_mse: 52.6444\n",
            "Epoch 128/300\n",
            "10/10 [==============================] - 0s 4ms/step - loss: 6.5151 - mae: 6.5151 - mse: 48.6472 - val_loss: 6.7120 - val_mae: 6.7120 - val_mse: 51.0526\n",
            "Epoch 129/300\n",
            "10/10 [==============================] - 0s 5ms/step - loss: 6.4232 - mae: 6.4232 - mse: 47.2425 - val_loss: 6.6098 - val_mae: 6.6098 - val_mse: 49.4737\n",
            "Epoch 130/300\n",
            "10/10 [==============================] - 0s 4ms/step - loss: 6.3298 - mae: 6.3298 - mse: 45.8566 - val_loss: 6.5084 - val_mae: 6.5084 - val_mse: 47.9346\n",
            "Epoch 131/300\n",
            "10/10 [==============================] - 0s 3ms/step - loss: 6.2369 - mae: 6.2369 - mse: 44.5063 - val_loss: 6.4074 - val_mae: 6.4074 - val_mse: 46.4294\n",
            "Epoch 132/300\n",
            "10/10 [==============================] - 0s 4ms/step - loss: 6.1451 - mae: 6.1451 - mse: 43.1771 - val_loss: 6.3052 - val_mae: 6.3052 - val_mse: 44.9367\n",
            "Epoch 133/300\n",
            "10/10 [==============================] - 0s 3ms/step - loss: 6.0526 - mae: 6.0526 - mse: 41.8811 - val_loss: 6.2028 - val_mae: 6.2028 - val_mse: 43.4682\n",
            "Epoch 134/300\n",
            "10/10 [==============================] - 0s 4ms/step - loss: 5.9588 - mae: 5.9588 - mse: 40.5808 - val_loss: 6.1013 - val_mae: 6.1013 - val_mse: 42.0411\n",
            "Epoch 135/300\n",
            "10/10 [==============================] - 0s 3ms/step - loss: 5.8652 - mae: 5.8652 - mse: 39.3179 - val_loss: 6.0002 - val_mae: 6.0002 - val_mse: 40.6484\n",
            "Epoch 136/300\n",
            "10/10 [==============================] - 0s 4ms/step - loss: 5.7722 - mae: 5.7722 - mse: 38.0898 - val_loss: 5.8987 - val_mae: 5.8987 - val_mse: 39.2795\n",
            "Epoch 137/300\n",
            "10/10 [==============================] - 0s 3ms/step - loss: 5.6790 - mae: 5.6790 - mse: 36.8667 - val_loss: 5.7971 - val_mae: 5.7971 - val_mse: 37.9357\n",
            "Epoch 138/300\n",
            "10/10 [==============================] - 0s 3ms/step - loss: 5.5859 - mae: 5.5859 - mse: 35.7066 - val_loss: 5.6950 - val_mae: 5.6950 - val_mse: 36.6148\n",
            "Epoch 139/300\n",
            "10/10 [==============================] - 0s 4ms/step - loss: 5.4934 - mae: 5.4934 - mse: 34.5346 - val_loss: 5.5919 - val_mae: 5.5919 - val_mse: 35.3098\n",
            "Epoch 140/300\n",
            "10/10 [==============================] - 0s 3ms/step - loss: 5.3985 - mae: 5.3985 - mse: 33.4069 - val_loss: 5.4902 - val_mae: 5.4902 - val_mse: 34.0511\n",
            "Epoch 141/300\n",
            "10/10 [==============================] - 0s 4ms/step - loss: 5.3059 - mae: 5.3059 - mse: 32.3036 - val_loss: 5.3871 - val_mae: 5.3871 - val_mse: 32.8051\n",
            "Epoch 142/300\n",
            "10/10 [==============================] - 0s 4ms/step - loss: 5.2119 - mae: 5.2119 - mse: 31.1970 - val_loss: 5.2845 - val_mae: 5.2845 - val_mse: 31.5939\n",
            "Epoch 143/300\n",
            "10/10 [==============================] - 0s 4ms/step - loss: 5.1185 - mae: 5.1185 - mse: 30.1424 - val_loss: 5.1816 - val_mae: 5.1816 - val_mse: 30.4072\n",
            "Epoch 144/300\n",
            "10/10 [==============================] - 0s 4ms/step - loss: 5.0243 - mae: 5.0243 - mse: 29.1167 - val_loss: 5.0800 - val_mae: 5.0800 - val_mse: 29.2609\n",
            "Epoch 145/300\n",
            "10/10 [==============================] - 0s 4ms/step - loss: 4.9321 - mae: 4.9321 - mse: 28.1077 - val_loss: 4.9791 - val_mae: 4.9791 - val_mse: 28.1315\n",
            "Epoch 146/300\n",
            "10/10 [==============================] - 0s 3ms/step - loss: 4.8390 - mae: 4.8390 - mse: 27.1142 - val_loss: 4.8780 - val_mae: 4.8780 - val_mse: 27.0284\n",
            "Epoch 147/300\n",
            "10/10 [==============================] - 0s 4ms/step - loss: 4.7455 - mae: 4.7455 - mse: 26.1649 - val_loss: 4.7771 - val_mae: 4.7771 - val_mse: 25.9579\n",
            "Epoch 148/300\n",
            "10/10 [==============================] - 0s 3ms/step - loss: 4.6502 - mae: 4.6502 - mse: 25.1928 - val_loss: 4.6785 - val_mae: 4.6785 - val_mse: 24.9395\n",
            "Epoch 149/300\n",
            "10/10 [==============================] - 0s 4ms/step - loss: 4.5590 - mae: 4.5590 - mse: 24.3256 - val_loss: 4.5773 - val_mae: 4.5773 - val_mse: 23.9227\n",
            "Epoch 150/300\n",
            "10/10 [==============================] - 0s 3ms/step - loss: 4.4641 - mae: 4.4641 - mse: 23.4212 - val_loss: 4.4776 - val_mae: 4.4776 - val_mse: 22.9502\n",
            "Epoch 151/300\n",
            "10/10 [==============================] - 0s 4ms/step - loss: 4.3736 - mae: 4.3736 - mse: 22.6043 - val_loss: 4.3758 - val_mae: 4.3758 - val_mse: 21.9867\n",
            "Epoch 152/300\n",
            "10/10 [==============================] - 0s 4ms/step - loss: 4.2801 - mae: 4.2801 - mse: 21.7570 - val_loss: 4.2763 - val_mae: 4.2763 - val_mse: 21.0732\n",
            "Epoch 153/300\n",
            "10/10 [==============================] - 0s 4ms/step - loss: 4.1883 - mae: 4.1883 - mse: 20.9468 - val_loss: 4.1769 - val_mae: 4.1769 - val_mse: 20.1899\n",
            "Epoch 154/300\n",
            "10/10 [==============================] - 0s 4ms/step - loss: 4.0969 - mae: 4.0969 - mse: 20.1790 - val_loss: 4.0776 - val_mae: 4.0776 - val_mse: 19.3346\n",
            "Epoch 155/300\n",
            "10/10 [==============================] - 0s 4ms/step - loss: 4.0054 - mae: 4.0054 - mse: 19.4453 - val_loss: 3.9781 - val_mae: 3.9781 - val_mse: 18.5070\n",
            "Epoch 156/300\n",
            "10/10 [==============================] - 0s 4ms/step - loss: 3.9147 - mae: 3.9147 - mse: 18.7219 - val_loss: 3.8788 - val_mae: 3.8788 - val_mse: 17.7092\n",
            "Epoch 157/300\n",
            "10/10 [==============================] - 0s 4ms/step - loss: 3.8250 - mae: 3.8250 - mse: 18.0255 - val_loss: 3.7806 - val_mae: 3.7806 - val_mse: 16.9472\n",
            "Epoch 158/300\n",
            "10/10 [==============================] - 0s 3ms/step - loss: 3.7384 - mae: 3.7384 - mse: 17.3758 - val_loss: 3.6813 - val_mae: 3.6813 - val_mse: 16.2052\n",
            "Epoch 159/300\n",
            "10/10 [==============================] - 0s 3ms/step - loss: 3.6506 - mae: 3.6506 - mse: 16.7422 - val_loss: 3.5835 - val_mae: 3.5835 - val_mse: 15.5024\n",
            "Epoch 160/300\n",
            "10/10 [==============================] - 0s 3ms/step - loss: 3.5645 - mae: 3.5645 - mse: 16.1224 - val_loss: 3.4872 - val_mae: 3.4872 - val_mse: 14.8373\n",
            "Epoch 161/300\n",
            "10/10 [==============================] - 0s 3ms/step - loss: 3.4791 - mae: 3.4791 - mse: 15.5365 - val_loss: 3.3924 - val_mae: 3.3924 - val_mse: 14.2077\n",
            "Epoch 162/300\n",
            "10/10 [==============================] - 0s 4ms/step - loss: 3.3961 - mae: 3.3961 - mse: 14.9890 - val_loss: 3.2966 - val_mae: 3.2966 - val_mse: 13.5984\n",
            "Epoch 163/300\n",
            "10/10 [==============================] - 0s 4ms/step - loss: 3.3131 - mae: 3.3131 - mse: 14.4757 - val_loss: 3.2004 - val_mae: 3.2004 - val_mse: 13.0126\n",
            "Epoch 164/300\n",
            "10/10 [==============================] - 0s 3ms/step - loss: 3.2291 - mae: 3.2291 - mse: 13.9675 - val_loss: 3.1057 - val_mae: 3.1057 - val_mse: 12.4574\n",
            "Epoch 165/300\n",
            "10/10 [==============================] - 0s 4ms/step - loss: 3.1476 - mae: 3.1476 - mse: 13.5028 - val_loss: 3.0141 - val_mae: 3.0141 - val_mse: 11.9301\n",
            "Epoch 166/300\n",
            "10/10 [==============================] - 0s 3ms/step - loss: 3.0663 - mae: 3.0663 - mse: 13.0419 - val_loss: 2.9278 - val_mae: 2.9278 - val_mse: 11.4427\n",
            "Epoch 167/300\n",
            "10/10 [==============================] - 0s 4ms/step - loss: 2.9895 - mae: 2.9895 - mse: 12.6160 - val_loss: 2.8397 - val_mae: 2.8397 - val_mse: 10.9689\n",
            "Epoch 168/300\n",
            "10/10 [==============================] - 0s 4ms/step - loss: 2.9106 - mae: 2.9106 - mse: 12.2386 - val_loss: 2.7520 - val_mae: 2.7520 - val_mse: 10.5223\n",
            "Epoch 169/300\n",
            "10/10 [==============================] - 0s 4ms/step - loss: 2.8324 - mae: 2.8324 - mse: 11.8493 - val_loss: 2.6701 - val_mae: 2.6701 - val_mse: 10.1168\n",
            "Epoch 170/300\n",
            "10/10 [==============================] - 0s 4ms/step - loss: 2.7586 - mae: 2.7586 - mse: 11.4964 - val_loss: 2.5890 - val_mae: 2.5890 - val_mse: 9.7384\n",
            "Epoch 171/300\n",
            "10/10 [==============================] - 0s 3ms/step - loss: 2.6862 - mae: 2.6862 - mse: 11.1682 - val_loss: 2.5078 - val_mae: 2.5078 - val_mse: 9.3829\n",
            "Epoch 172/300\n",
            "10/10 [==============================] - 0s 3ms/step - loss: 2.6146 - mae: 2.6146 - mse: 10.8763 - val_loss: 2.4276 - val_mae: 2.4276 - val_mse: 9.0544\n",
            "Epoch 173/300\n",
            "10/10 [==============================] - 0s 4ms/step - loss: 2.5434 - mae: 2.5434 - mse: 10.5964 - val_loss: 2.3509 - val_mae: 2.3509 - val_mse: 8.7558\n",
            "Epoch 174/300\n",
            "10/10 [==============================] - 0s 4ms/step - loss: 2.4785 - mae: 2.4785 - mse: 10.3437 - val_loss: 2.2746 - val_mae: 2.2746 - val_mse: 8.4787\n",
            "Epoch 175/300\n",
            "10/10 [==============================] - 0s 3ms/step - loss: 2.4195 - mae: 2.4195 - mse: 10.1422 - val_loss: 2.2007 - val_mae: 2.2007 - val_mse: 8.2293\n",
            "Epoch 176/300\n",
            "10/10 [==============================] - 0s 3ms/step - loss: 2.3623 - mae: 2.3623 - mse: 9.9367 - val_loss: 2.1342 - val_mae: 2.1342 - val_mse: 8.0174\n",
            "Epoch 177/300\n",
            "10/10 [==============================] - 0s 5ms/step - loss: 2.3156 - mae: 2.3156 - mse: 9.7609 - val_loss: 2.0746 - val_mae: 2.0746 - val_mse: 7.8394\n",
            "Epoch 178/300\n",
            "10/10 [==============================] - 0s 4ms/step - loss: 2.2737 - mae: 2.2737 - mse: 9.6082 - val_loss: 2.0190 - val_mae: 2.0190 - val_mse: 7.6862\n",
            "Epoch 179/300\n",
            "10/10 [==============================] - 0s 4ms/step - loss: 2.2368 - mae: 2.2368 - mse: 9.4943 - val_loss: 1.9619 - val_mae: 1.9619 - val_mse: 7.5394\n",
            "Epoch 180/300\n",
            "10/10 [==============================] - 0s 3ms/step - loss: 2.1992 - mae: 2.1992 - mse: 9.3706 - val_loss: 1.9165 - val_mae: 1.9165 - val_mse: 7.4216\n",
            "Epoch 181/300\n",
            "10/10 [==============================] - 0s 4ms/step - loss: 2.1702 - mae: 2.1702 - mse: 9.2670 - val_loss: 1.8749 - val_mae: 1.8749 - val_mse: 7.3210\n",
            "Epoch 182/300\n",
            "10/10 [==============================] - 0s 3ms/step - loss: 2.1433 - mae: 2.1433 - mse: 9.1920 - val_loss: 1.8341 - val_mae: 1.8341 - val_mse: 7.2315\n",
            "Epoch 183/300\n",
            "10/10 [==============================] - 0s 3ms/step - loss: 2.1156 - mae: 2.1156 - mse: 9.1176 - val_loss: 1.8011 - val_mae: 1.8011 - val_mse: 7.1551\n",
            "Epoch 184/300\n",
            "10/10 [==============================] - 0s 4ms/step - loss: 2.0925 - mae: 2.0925 - mse: 9.0566 - val_loss: 1.7715 - val_mae: 1.7715 - val_mse: 7.0852\n",
            "Epoch 185/300\n",
            "10/10 [==============================] - 0s 3ms/step - loss: 2.0693 - mae: 2.0693 - mse: 9.0112 - val_loss: 1.7427 - val_mae: 1.7427 - val_mse: 7.0254\n",
            "Epoch 186/300\n",
            "10/10 [==============================] - 0s 4ms/step - loss: 2.0463 - mae: 2.0463 - mse: 8.9624 - val_loss: 1.7208 - val_mae: 1.7208 - val_mse: 6.9797\n",
            "Epoch 187/300\n",
            "10/10 [==============================] - 0s 3ms/step - loss: 2.0303 - mae: 2.0303 - mse: 8.9308 - val_loss: 1.7048 - val_mae: 1.7048 - val_mse: 6.9417\n",
            "Epoch 188/300\n",
            "10/10 [==============================] - 0s 4ms/step - loss: 2.0148 - mae: 2.0148 - mse: 8.8982 - val_loss: 1.6897 - val_mae: 1.6897 - val_mse: 6.9108\n",
            "Epoch 189/300\n",
            "10/10 [==============================] - 0s 4ms/step - loss: 1.9994 - mae: 1.9994 - mse: 8.8752 - val_loss: 1.6749 - val_mae: 1.6749 - val_mse: 6.8858\n",
            "Epoch 190/300\n",
            "10/10 [==============================] - 0s 3ms/step - loss: 1.9858 - mae: 1.9858 - mse: 8.8654 - val_loss: 1.6630 - val_mae: 1.6630 - val_mse: 6.8660\n",
            "Epoch 191/300\n",
            "10/10 [==============================] - 0s 4ms/step - loss: 1.9751 - mae: 1.9751 - mse: 8.8526 - val_loss: 1.6531 - val_mae: 1.6531 - val_mse: 6.8520\n",
            "Epoch 192/300\n",
            "10/10 [==============================] - 0s 4ms/step - loss: 1.9660 - mae: 1.9660 - mse: 8.8496 - val_loss: 1.6442 - val_mae: 1.6442 - val_mse: 6.8426\n",
            "Epoch 193/300\n",
            "10/10 [==============================] - 0s 4ms/step - loss: 1.9573 - mae: 1.9573 - mse: 8.8377 - val_loss: 1.6367 - val_mae: 1.6367 - val_mse: 6.8368\n",
            "Epoch 194/300\n",
            "10/10 [==============================] - 0s 4ms/step - loss: 1.9509 - mae: 1.9509 - mse: 8.8384 - val_loss: 1.6313 - val_mae: 1.6313 - val_mse: 6.8339\n",
            "Epoch 195/300\n",
            "10/10 [==============================] - 0s 4ms/step - loss: 1.9445 - mae: 1.9445 - mse: 8.8383 - val_loss: 1.6266 - val_mae: 1.6266 - val_mse: 6.8332\n",
            "Epoch 196/300\n",
            "10/10 [==============================] - 0s 4ms/step - loss: 1.9392 - mae: 1.9392 - mse: 8.8323 - val_loss: 1.6219 - val_mae: 1.6219 - val_mse: 6.8344\n",
            "Epoch 197/300\n",
            "10/10 [==============================] - 0s 4ms/step - loss: 1.9343 - mae: 1.9343 - mse: 8.8397 - val_loss: 1.6181 - val_mae: 1.6181 - val_mse: 6.8377\n",
            "Epoch 198/300\n",
            "10/10 [==============================] - 0s 3ms/step - loss: 1.9307 - mae: 1.9307 - mse: 8.8472 - val_loss: 1.6190 - val_mae: 1.6190 - val_mse: 6.8413\n",
            "Epoch 199/300\n",
            "10/10 [==============================] - 0s 3ms/step - loss: 1.9290 - mae: 1.9290 - mse: 8.8544 - val_loss: 1.6198 - val_mae: 1.6198 - val_mse: 6.8451\n",
            "Epoch 200/300\n",
            "10/10 [==============================] - 0s 4ms/step - loss: 1.9274 - mae: 1.9274 - mse: 8.8589 - val_loss: 1.6205 - val_mae: 1.6205 - val_mse: 6.8491\n",
            "Epoch 201/300\n",
            "10/10 [==============================] - 0s 5ms/step - loss: 1.9257 - mae: 1.9257 - mse: 8.8618 - val_loss: 1.6211 - val_mae: 1.6211 - val_mse: 6.8529\n",
            "Epoch 202/300\n",
            "10/10 [==============================] - 0s 6ms/step - loss: 1.9243 - mae: 1.9243 - mse: 8.8639 - val_loss: 1.6216 - val_mae: 1.6216 - val_mse: 6.8563\n",
            "Epoch 203/300\n",
            "10/10 [==============================] - 0s 4ms/step - loss: 1.9231 - mae: 1.9231 - mse: 8.8683 - val_loss: 1.6222 - val_mae: 1.6222 - val_mse: 6.8609\n",
            "Epoch 204/300\n",
            "10/10 [==============================] - 0s 4ms/step - loss: 1.9218 - mae: 1.9218 - mse: 8.8756 - val_loss: 1.6229 - val_mae: 1.6229 - val_mse: 6.8667\n",
            "Epoch 205/300\n",
            "10/10 [==============================] - 0s 4ms/step - loss: 1.9207 - mae: 1.9207 - mse: 8.8831 - val_loss: 1.6243 - val_mae: 1.6243 - val_mse: 6.8737\n",
            "Epoch 206/300\n",
            "10/10 [==============================] - 0s 4ms/step - loss: 1.9193 - mae: 1.9193 - mse: 8.8905 - val_loss: 1.6255 - val_mae: 1.6255 - val_mse: 6.8802\n",
            "Epoch 207/300\n",
            "10/10 [==============================] - 0s 3ms/step - loss: 1.9182 - mae: 1.9182 - mse: 8.8975 - val_loss: 1.6268 - val_mae: 1.6268 - val_mse: 6.8874\n",
            "Epoch 208/300\n",
            "10/10 [==============================] - 0s 4ms/step - loss: 1.9171 - mae: 1.9171 - mse: 8.9027 - val_loss: 1.6282 - val_mae: 1.6282 - val_mse: 6.8919\n",
            "Epoch 209/300\n",
            "10/10 [==============================] - 0s 4ms/step - loss: 1.9168 - mae: 1.9168 - mse: 8.9048 - val_loss: 1.6286 - val_mae: 1.6286 - val_mse: 6.8930\n",
            "Epoch 210/300\n",
            "10/10 [==============================] - 0s 3ms/step - loss: 1.9167 - mae: 1.9167 - mse: 8.9064 - val_loss: 1.6293 - val_mae: 1.6293 - val_mse: 6.8952\n",
            "Epoch 211/300\n",
            "10/10 [==============================] - 0s 3ms/step - loss: 1.9168 - mae: 1.9168 - mse: 8.9116 - val_loss: 1.6306 - val_mae: 1.6306 - val_mse: 6.8995\n",
            "Epoch 212/300\n",
            "10/10 [==============================] - 0s 4ms/step - loss: 1.9164 - mae: 1.9164 - mse: 8.9141 - val_loss: 1.6314 - val_mae: 1.6314 - val_mse: 6.9022\n",
            "Epoch 213/300\n",
            "10/10 [==============================] - 0s 3ms/step - loss: 1.9162 - mae: 1.9162 - mse: 8.9159 - val_loss: 1.6320 - val_mae: 1.6320 - val_mse: 6.9039\n",
            "Epoch 214/300\n",
            "10/10 [==============================] - 0s 4ms/step - loss: 1.9161 - mae: 1.9161 - mse: 8.9161 - val_loss: 1.6321 - val_mae: 1.6321 - val_mse: 6.9041\n",
            "Epoch 215/300\n",
            "10/10 [==============================] - 0s 3ms/step - loss: 1.9159 - mae: 1.9159 - mse: 8.9179 - val_loss: 1.6328 - val_mae: 1.6328 - val_mse: 6.9065\n",
            "Epoch 216/300\n",
            "10/10 [==============================] - 0s 4ms/step - loss: 1.9159 - mae: 1.9159 - mse: 8.9230 - val_loss: 1.6341 - val_mae: 1.6341 - val_mse: 6.9114\n",
            "Epoch 217/300\n",
            "10/10 [==============================] - 0s 4ms/step - loss: 1.9156 - mae: 1.9156 - mse: 8.9251 - val_loss: 1.6345 - val_mae: 1.6345 - val_mse: 6.9128\n",
            "Epoch 218/300\n",
            "10/10 [==============================] - 0s 4ms/step - loss: 1.9155 - mae: 1.9155 - mse: 8.9261 - val_loss: 1.6351 - val_mae: 1.6351 - val_mse: 6.9147\n",
            "Epoch 219/300\n",
            "10/10 [==============================] - 0s 3ms/step - loss: 1.9153 - mae: 1.9153 - mse: 8.9294 - val_loss: 1.6359 - val_mae: 1.6359 - val_mse: 6.9179\n",
            "Epoch 220/300\n",
            "10/10 [==============================] - 0s 4ms/step - loss: 1.9152 - mae: 1.9152 - mse: 8.9322 - val_loss: 1.6367 - val_mae: 1.6367 - val_mse: 6.9207\n",
            "Epoch 221/300\n",
            "10/10 [==============================] - 0s 4ms/step - loss: 1.9150 - mae: 1.9150 - mse: 8.9344 - val_loss: 1.6370 - val_mae: 1.6370 - val_mse: 6.9218\n",
            "Epoch 222/300\n",
            "10/10 [==============================] - 0s 5ms/step - loss: 1.9149 - mae: 1.9149 - mse: 8.9363 - val_loss: 1.6379 - val_mae: 1.6379 - val_mse: 6.9255\n",
            "Epoch 223/300\n",
            "10/10 [==============================] - 0s 4ms/step - loss: 1.9147 - mae: 1.9147 - mse: 8.9403 - val_loss: 1.6387 - val_mae: 1.6387 - val_mse: 6.9289\n",
            "Epoch 224/300\n",
            "10/10 [==============================] - 0s 5ms/step - loss: 1.9147 - mae: 1.9147 - mse: 8.9449 - val_loss: 1.6396 - val_mae: 1.6396 - val_mse: 6.9324\n",
            "Epoch 225/300\n",
            "10/10 [==============================] - 0s 5ms/step - loss: 1.9144 - mae: 1.9144 - mse: 8.9459 - val_loss: 1.6401 - val_mae: 1.6401 - val_mse: 6.9341\n",
            "Epoch 226/300\n",
            "10/10 [==============================] - 0s 3ms/step - loss: 1.9142 - mae: 1.9142 - mse: 8.9484 - val_loss: 1.6406 - val_mae: 1.6406 - val_mse: 6.9365\n",
            "Epoch 227/300\n",
            "10/10 [==============================] - 0s 3ms/step - loss: 1.9142 - mae: 1.9142 - mse: 8.9528 - val_loss: 1.6418 - val_mae: 1.6418 - val_mse: 6.9418\n",
            "Epoch 228/300\n",
            "10/10 [==============================] - 0s 4ms/step - loss: 1.9139 - mae: 1.9139 - mse: 8.9549 - val_loss: 1.6423 - val_mae: 1.6423 - val_mse: 6.9440\n",
            "Epoch 229/300\n",
            "10/10 [==============================] - 0s 4ms/step - loss: 1.9138 - mae: 1.9138 - mse: 8.9585 - val_loss: 1.6432 - val_mae: 1.6432 - val_mse: 6.9477\n",
            "Epoch 230/300\n",
            "10/10 [==============================] - 0s 3ms/step - loss: 1.9137 - mae: 1.9137 - mse: 8.9617 - val_loss: 1.6440 - val_mae: 1.6440 - val_mse: 6.9513\n",
            "Epoch 231/300\n",
            "10/10 [==============================] - 0s 3ms/step - loss: 1.9138 - mae: 1.9138 - mse: 8.9639 - val_loss: 1.6439 - val_mae: 1.6439 - val_mse: 6.9506\n",
            "Epoch 232/300\n",
            "10/10 [==============================] - 0s 3ms/step - loss: 1.9133 - mae: 1.9133 - mse: 8.9649 - val_loss: 1.6448 - val_mae: 1.6448 - val_mse: 6.9551\n",
            "Epoch 233/300\n",
            "10/10 [==============================] - 0s 3ms/step - loss: 1.9131 - mae: 1.9131 - mse: 8.9696 - val_loss: 1.6457 - val_mae: 1.6457 - val_mse: 6.9593\n",
            "Epoch 234/300\n",
            "10/10 [==============================] - 0s 4ms/step - loss: 1.9131 - mae: 1.9131 - mse: 8.9743 - val_loss: 1.6468 - val_mae: 1.6468 - val_mse: 6.9645\n",
            "Epoch 235/300\n",
            "10/10 [==============================] - 0s 3ms/step - loss: 1.9132 - mae: 1.9132 - mse: 8.9836 - val_loss: 1.6484 - val_mae: 1.6484 - val_mse: 6.9721\n",
            "Epoch 236/300\n",
            "10/10 [==============================] - 0s 4ms/step - loss: 1.9127 - mae: 1.9127 - mse: 8.9850 - val_loss: 1.6491 - val_mae: 1.6491 - val_mse: 6.9741\n",
            "Epoch 237/300\n",
            "10/10 [==============================] - 0s 4ms/step - loss: 1.9126 - mae: 1.9126 - mse: 8.9845 - val_loss: 1.6481 - val_mae: 1.6481 - val_mse: 6.9700\n",
            "Epoch 238/300\n",
            "10/10 [==============================] - 0s 4ms/step - loss: 1.9124 - mae: 1.9124 - mse: 8.9828 - val_loss: 1.6487 - val_mae: 1.6487 - val_mse: 6.9720\n",
            "Epoch 239/300\n",
            "10/10 [==============================] - 0s 4ms/step - loss: 1.9125 - mae: 1.9125 - mse: 8.9843 - val_loss: 1.6488 - val_mae: 1.6488 - val_mse: 6.9721\n",
            "Epoch 240/300\n",
            "10/10 [==============================] - 0s 4ms/step - loss: 1.9124 - mae: 1.9124 - mse: 8.9856 - val_loss: 1.6490 - val_mae: 1.6490 - val_mse: 6.9723\n",
            "Epoch 241/300\n",
            "10/10 [==============================] - 0s 3ms/step - loss: 1.9124 - mae: 1.9124 - mse: 8.9834 - val_loss: 1.6483 - val_mae: 1.6483 - val_mse: 6.9695\n",
            "Epoch 242/300\n",
            "10/10 [==============================] - 0s 4ms/step - loss: 1.9124 - mae: 1.9124 - mse: 8.9830 - val_loss: 1.6488 - val_mae: 1.6488 - val_mse: 6.9710\n",
            "Epoch 243/300\n",
            "10/10 [==============================] - 0s 4ms/step - loss: 1.9123 - mae: 1.9123 - mse: 8.9824 - val_loss: 1.6483 - val_mae: 1.6483 - val_mse: 6.9685\n",
            "Epoch 244/300\n",
            "10/10 [==============================] - 0s 3ms/step - loss: 1.9123 - mae: 1.9123 - mse: 8.9812 - val_loss: 1.6482 - val_mae: 1.6482 - val_mse: 6.9679\n",
            "Epoch 245/300\n",
            "10/10 [==============================] - 0s 4ms/step - loss: 1.9122 - mae: 1.9122 - mse: 8.9823 - val_loss: 1.6490 - val_mae: 1.6490 - val_mse: 6.9705\n",
            "Epoch 246/300\n",
            "10/10 [==============================] - 0s 4ms/step - loss: 1.9122 - mae: 1.9122 - mse: 8.9826 - val_loss: 1.6485 - val_mae: 1.6485 - val_mse: 6.9683\n",
            "Epoch 247/300\n",
            "10/10 [==============================] - 0s 4ms/step - loss: 1.9123 - mae: 1.9123 - mse: 8.9794 - val_loss: 1.6477 - val_mae: 1.6477 - val_mse: 6.9645\n",
            "Epoch 248/300\n",
            "10/10 [==============================] - 0s 5ms/step - loss: 1.9122 - mae: 1.9122 - mse: 8.9804 - val_loss: 1.6485 - val_mae: 1.6485 - val_mse: 6.9678\n",
            "Epoch 249/300\n",
            "10/10 [==============================] - 0s 4ms/step - loss: 1.9121 - mae: 1.9121 - mse: 8.9797 - val_loss: 1.6481 - val_mae: 1.6481 - val_mse: 6.9656\n",
            "Epoch 250/300\n",
            "10/10 [==============================] - 0s 4ms/step - loss: 1.9121 - mae: 1.9121 - mse: 8.9788 - val_loss: 1.6482 - val_mae: 1.6482 - val_mse: 6.9656\n",
            "Epoch 251/300\n",
            "10/10 [==============================] - 0s 4ms/step - loss: 1.9120 - mae: 1.9120 - mse: 8.9795 - val_loss: 1.6490 - val_mae: 1.6490 - val_mse: 6.9684\n",
            "Epoch 252/300\n",
            "10/10 [==============================] - 0s 4ms/step - loss: 1.9121 - mae: 1.9121 - mse: 8.9818 - val_loss: 1.6492 - val_mae: 1.6492 - val_mse: 6.9688\n",
            "Epoch 253/300\n",
            "10/10 [==============================] - 0s 4ms/step - loss: 1.9120 - mae: 1.9120 - mse: 8.9807 - val_loss: 1.6481 - val_mae: 1.6481 - val_mse: 6.9642\n",
            "Epoch 254/300\n",
            "10/10 [==============================] - 0s 4ms/step - loss: 1.9120 - mae: 1.9120 - mse: 8.9791 - val_loss: 1.6485 - val_mae: 1.6485 - val_mse: 6.9652\n",
            "Epoch 255/300\n",
            "10/10 [==============================] - 0s 3ms/step - loss: 1.9118 - mae: 1.9118 - mse: 8.9769 - val_loss: 1.6474 - val_mae: 1.6474 - val_mse: 6.9604\n",
            "Epoch 256/300\n",
            "10/10 [==============================] - 0s 4ms/step - loss: 1.9120 - mae: 1.9120 - mse: 8.9730 - val_loss: 1.6472 - val_mae: 1.6472 - val_mse: 6.9591\n",
            "Epoch 257/300\n",
            "10/10 [==============================] - 0s 4ms/step - loss: 1.9119 - mae: 1.9119 - mse: 8.9728 - val_loss: 1.6474 - val_mae: 1.6474 - val_mse: 6.9597\n",
            "Epoch 258/300\n",
            "10/10 [==============================] - 0s 4ms/step - loss: 1.9119 - mae: 1.9119 - mse: 8.9730 - val_loss: 1.6475 - val_mae: 1.6475 - val_mse: 6.9598\n",
            "Epoch 259/300\n",
            "10/10 [==============================] - 0s 4ms/step - loss: 1.9119 - mae: 1.9119 - mse: 8.9786 - val_loss: 1.6491 - val_mae: 1.6491 - val_mse: 6.9654\n",
            "Epoch 260/300\n",
            "10/10 [==============================] - 0s 4ms/step - loss: 1.9117 - mae: 1.9117 - mse: 8.9771 - val_loss: 1.6480 - val_mae: 1.6480 - val_mse: 6.9611\n",
            "Epoch 261/300\n",
            "10/10 [==============================] - 0s 4ms/step - loss: 1.9116 - mae: 1.9116 - mse: 8.9745 - val_loss: 1.6480 - val_mae: 1.6480 - val_mse: 6.9606\n",
            "Epoch 262/300\n",
            "10/10 [==============================] - 0s 5ms/step - loss: 1.9117 - mae: 1.9117 - mse: 8.9765 - val_loss: 1.6481 - val_mae: 1.6481 - val_mse: 6.9605\n",
            "Epoch 263/300\n",
            "10/10 [==============================] - 0s 4ms/step - loss: 1.9118 - mae: 1.9118 - mse: 8.9749 - val_loss: 1.6477 - val_mae: 1.6477 - val_mse: 6.9588\n",
            "Epoch 264/300\n",
            "10/10 [==============================] - 0s 4ms/step - loss: 1.9116 - mae: 1.9116 - mse: 8.9722 - val_loss: 1.6476 - val_mae: 1.6476 - val_mse: 6.9578\n",
            "Epoch 265/300\n",
            "10/10 [==============================] - 0s 4ms/step - loss: 1.9116 - mae: 1.9116 - mse: 8.9704 - val_loss: 1.6474 - val_mae: 1.6474 - val_mse: 6.9566\n",
            "Epoch 266/300\n",
            "10/10 [==============================] - 0s 5ms/step - loss: 1.9114 - mae: 1.9114 - mse: 8.9714 - val_loss: 1.6482 - val_mae: 1.6482 - val_mse: 6.9592\n",
            "Epoch 267/300\n",
            "10/10 [==============================] - 0s 4ms/step - loss: 1.9115 - mae: 1.9115 - mse: 8.9750 - val_loss: 1.6487 - val_mae: 1.6487 - val_mse: 6.9609\n",
            "Epoch 268/300\n",
            "10/10 [==============================] - 0s 4ms/step - loss: 1.9114 - mae: 1.9114 - mse: 8.9731 - val_loss: 1.6478 - val_mae: 1.6478 - val_mse: 6.9569\n",
            "Epoch 269/300\n",
            "10/10 [==============================] - 0s 4ms/step - loss: 1.9116 - mae: 1.9116 - mse: 8.9690 - val_loss: 1.6468 - val_mae: 1.6468 - val_mse: 6.9525\n",
            "Epoch 270/300\n",
            "10/10 [==============================] - 0s 6ms/step - loss: 1.9114 - mae: 1.9114 - mse: 8.9690 - val_loss: 1.6484 - val_mae: 1.6484 - val_mse: 6.9584\n",
            "Epoch 271/300\n",
            "10/10 [==============================] - 0s 4ms/step - loss: 1.9113 - mae: 1.9113 - mse: 8.9721 - val_loss: 1.6480 - val_mae: 1.6480 - val_mse: 6.9567\n",
            "Epoch 272/300\n",
            "10/10 [==============================] - 0s 5ms/step - loss: 1.9112 - mae: 1.9112 - mse: 8.9699 - val_loss: 1.6477 - val_mae: 1.6477 - val_mse: 6.9552\n",
            "Epoch 273/300\n",
            "10/10 [==============================] - 0s 4ms/step - loss: 1.9113 - mae: 1.9113 - mse: 8.9681 - val_loss: 1.6475 - val_mae: 1.6475 - val_mse: 6.9536\n",
            "Epoch 274/300\n",
            "10/10 [==============================] - 0s 4ms/step - loss: 1.9116 - mae: 1.9116 - mse: 8.9730 - val_loss: 1.6492 - val_mae: 1.6492 - val_mse: 6.9598\n",
            "Epoch 275/300\n",
            "10/10 [==============================] - 0s 4ms/step - loss: 1.9112 - mae: 1.9112 - mse: 8.9727 - val_loss: 1.6482 - val_mae: 1.6482 - val_mse: 6.9556\n",
            "Epoch 276/300\n",
            "10/10 [==============================] - 0s 4ms/step - loss: 1.9113 - mae: 1.9113 - mse: 8.9681 - val_loss: 1.6469 - val_mae: 1.6469 - val_mse: 6.9501\n",
            "Epoch 277/300\n",
            "10/10 [==============================] - 0s 3ms/step - loss: 1.9110 - mae: 1.9110 - mse: 8.9648 - val_loss: 1.6476 - val_mae: 1.6476 - val_mse: 6.9524\n",
            "Epoch 278/300\n",
            "10/10 [==============================] - 0s 3ms/step - loss: 1.9110 - mae: 1.9110 - mse: 8.9686 - val_loss: 1.6481 - val_mae: 1.6481 - val_mse: 6.9539\n",
            "Epoch 279/300\n",
            "10/10 [==============================] - 0s 4ms/step - loss: 1.9110 - mae: 1.9110 - mse: 8.9686 - val_loss: 1.6479 - val_mae: 1.6479 - val_mse: 6.9526\n",
            "Epoch 280/300\n",
            "10/10 [==============================] - 0s 4ms/step - loss: 1.9109 - mae: 1.9109 - mse: 8.9663 - val_loss: 1.6477 - val_mae: 1.6477 - val_mse: 6.9514\n",
            "Epoch 281/300\n",
            "10/10 [==============================] - 0s 4ms/step - loss: 1.9109 - mae: 1.9109 - mse: 8.9671 - val_loss: 1.6479 - val_mae: 1.6479 - val_mse: 6.9518\n",
            "Epoch 282/300\n",
            "10/10 [==============================] - 0s 4ms/step - loss: 1.9110 - mae: 1.9110 - mse: 8.9627 - val_loss: 1.6466 - val_mae: 1.6466 - val_mse: 6.9460\n",
            "Epoch 283/300\n",
            "10/10 [==============================] - 0s 3ms/step - loss: 1.9109 - mae: 1.9109 - mse: 8.9644 - val_loss: 1.6476 - val_mae: 1.6476 - val_mse: 6.9499\n",
            "Epoch 284/300\n",
            "10/10 [==============================] - 0s 4ms/step - loss: 1.9108 - mae: 1.9108 - mse: 8.9630 - val_loss: 1.6470 - val_mae: 1.6470 - val_mse: 6.9469\n",
            "Epoch 285/300\n",
            "10/10 [==============================] - 0s 4ms/step - loss: 1.9108 - mae: 1.9108 - mse: 8.9640 - val_loss: 1.6482 - val_mae: 1.6482 - val_mse: 6.9512\n",
            "Epoch 286/300\n",
            "10/10 [==============================] - 0s 4ms/step - loss: 1.9106 - mae: 1.9106 - mse: 8.9647 - val_loss: 1.6471 - val_mae: 1.6471 - val_mse: 6.9466\n",
            "Epoch 287/300\n",
            "10/10 [==============================] - 0s 4ms/step - loss: 1.9108 - mae: 1.9108 - mse: 8.9588 - val_loss: 1.6462 - val_mae: 1.6462 - val_mse: 6.9420\n",
            "Epoch 288/300\n",
            "10/10 [==============================] - 0s 4ms/step - loss: 1.9106 - mae: 1.9106 - mse: 8.9599 - val_loss: 1.6470 - val_mae: 1.6470 - val_mse: 6.9451\n",
            "Epoch 289/300\n",
            "10/10 [==============================] - 0s 5ms/step - loss: 1.9106 - mae: 1.9106 - mse: 8.9612 - val_loss: 1.6476 - val_mae: 1.6476 - val_mse: 6.9470\n",
            "Epoch 290/300\n",
            "10/10 [==============================] - 0s 4ms/step - loss: 1.9108 - mae: 1.9108 - mse: 8.9643 - val_loss: 1.6480 - val_mae: 1.6480 - val_mse: 6.9483\n",
            "Epoch 291/300\n",
            "10/10 [==============================] - 0s 4ms/step - loss: 1.9105 - mae: 1.9105 - mse: 8.9609 - val_loss: 1.6469 - val_mae: 1.6469 - val_mse: 6.9433\n",
            "Epoch 292/300\n",
            "10/10 [==============================] - 0s 4ms/step - loss: 1.9105 - mae: 1.9105 - mse: 8.9571 - val_loss: 1.6462 - val_mae: 1.6462 - val_mse: 6.9401\n",
            "Epoch 293/300\n",
            "10/10 [==============================] - 0s 5ms/step - loss: 1.9105 - mae: 1.9105 - mse: 8.9590 - val_loss: 1.6472 - val_mae: 1.6472 - val_mse: 6.9439\n",
            "Epoch 294/300\n",
            "10/10 [==============================] - 0s 3ms/step - loss: 1.9105 - mae: 1.9105 - mse: 8.9611 - val_loss: 1.6476 - val_mae: 1.6476 - val_mse: 6.9447\n",
            "Epoch 295/300\n",
            "10/10 [==============================] - 0s 4ms/step - loss: 1.9104 - mae: 1.9104 - mse: 8.9572 - val_loss: 1.6463 - val_mae: 1.6463 - val_mse: 6.9390\n",
            "Epoch 296/300\n",
            "10/10 [==============================] - 0s 4ms/step - loss: 1.9103 - mae: 1.9103 - mse: 8.9541 - val_loss: 1.6463 - val_mae: 1.6463 - val_mse: 6.9388\n",
            "Epoch 297/300\n",
            "10/10 [==============================] - 0s 4ms/step - loss: 1.9101 - mae: 1.9101 - mse: 8.9567 - val_loss: 1.6475 - val_mae: 1.6475 - val_mse: 6.9432\n",
            "Epoch 298/300\n",
            "10/10 [==============================] - 0s 4ms/step - loss: 1.9103 - mae: 1.9103 - mse: 8.9603 - val_loss: 1.6479 - val_mae: 1.6479 - val_mse: 6.9443\n",
            "Epoch 299/300\n",
            "10/10 [==============================] - 0s 4ms/step - loss: 1.9103 - mae: 1.9103 - mse: 8.9602 - val_loss: 1.6473 - val_mae: 1.6473 - val_mse: 6.9414\n",
            "Epoch 300/300\n",
            "10/10 [==============================] - 0s 5ms/step - loss: 1.9101 - mae: 1.9101 - mse: 8.9553 - val_loss: 1.6460 - val_mae: 1.6460 - val_mse: 6.9356\n"
          ],
          "name": "stdout"
        }
      ]
    },
    {
      "cell_type": "code",
      "metadata": {
        "id": "6zYkLGS6wQyy",
        "colab": {
          "base_uri": "https://localhost:8080/"
        },
        "outputId": "aeae8a18-b339-4da6-e507-6d1afe1ff097"
      },
      "source": [
        "print(history)"
      ],
      "execution_count": 70,
      "outputs": [
        {
          "output_type": "stream",
          "text": [
            "<tensorflow.python.keras.callbacks.History object at 0x7f51bf7fc190>\n"
          ],
          "name": "stdout"
        }
      ]
    },
    {
      "cell_type": "code",
      "metadata": {
        "colab": {
          "base_uri": "https://localhost:8080/"
        },
        "id": "1lsbk_ohAu1j",
        "outputId": "66e16839-6cda-4398-a549-e0a91ee4ab05"
      },
      "source": [
        "model.summary()"
      ],
      "execution_count": 71,
      "outputs": [
        {
          "output_type": "stream",
          "text": [
            "Model: \"sequential_1\"\n",
            "_________________________________________________________________\n",
            "Layer (type)                 Output Shape              Param #   \n",
            "=================================================================\n",
            "dense_1 (Dense)              (None, 1)                 2         \n",
            "=================================================================\n",
            "Total params: 2\n",
            "Trainable params: 2\n",
            "Non-trainable params: 0\n",
            "_________________________________________________________________\n"
          ],
          "name": "stdout"
        }
      ]
    },
    {
      "cell_type": "code",
      "metadata": {
        "colab": {
          "base_uri": "https://localhost:8080/",
          "height": 0
        },
        "id": "P6VnkPim7tH7",
        "outputId": "79d440c7-bc9c-49fc-d89f-9e3084ef3a85"
      },
      "source": [
        "# tempString = 'mse'\n",
        "def curvePlots(tempString):\n",
        "  plt.plot(history.history[tempString])\n",
        "  plt.plot(history.history[f'val_{tempString}'])\n",
        "  plt.xlabel('NumEpochs')\n",
        "  plt.ylabel(tempString)\n",
        "  plt.legend([tempString, f'val_{tempString}'])\n",
        "  plt.show()\n",
        "\n",
        "\n",
        "curvePlots('mse')\n",
        "curvePlots('mae')\n",
        "curvePlots('loss')"
      ],
      "execution_count": 72,
      "outputs": [
        {
          "output_type": "display_data",
          "data": {
            "image/png": "[encoded data removed]",
            "text/plain": [
              "<Figure size 576x396 with 1 Axes>"
            ]
          },
          "metadata": {
            "tags": []
          }
        },
        {
          "output_type": "display_data",
          "data": {
            "image/png": "[encoded data removed]",
            "text/plain": [
              "<Figure size 576x396 with 1 Axes>"
            ]
          },
          "metadata": {
            "tags": []
          }
        },
        {
          "output_type": "display_data",
          "data": {
            "image/png": "[encoded data removed]",
            "text/plain": [
              "<Figure size 576x396 with 1 Axes>"
            ]
          },
          "metadata": {
            "tags": []
          }
        }
      ]
    },
    {
      "cell_type": "code",
      "metadata": {
        "id": "esW0eHQbzoj4",
        "colab": {
          "base_uri": "https://localhost:8080/"
        },
        "outputId": "aace0b92-dee1-4972-8120-583d58ef1531"
      },
      "source": [
        "model.predict([1])"
      ],
      "execution_count": 73,
      "outputs": [
        {
          "output_type": "execute_result",
          "data": {
            "text/plain": [
              "array([[2.5073571]], dtype=float32)"
            ]
          },
          "metadata": {
            "tags": []
          },
          "execution_count": 73
        }
      ]
    },
    {
      "cell_type": "code",
      "metadata": {
        "colab": {
          "base_uri": "https://localhost:8080/"
        },
        "id": "KJrLWamX8Tg-",
        "outputId": "f70f470f-c479-421a-8829-30605f27b8b4"
      },
      "source": [
        "# testPreds = model.predict(testFeatures).flatten() #array of all prediction values\n",
        "\n",
        "#for single values\n",
        "\n",
        "print(f'Prediction for input value 1: {model.predict([1])}')\n",
        "\n",
        "\n",
        "# for a list of values\n",
        "tempListforPreds = [1,2,3,4,5]\n",
        "print(f'''\n",
        "\n",
        "input List = {tempListforPreds}\n",
        "\n",
        "\n",
        "List of Predictions:\n",
        "{model.predict(tempListforPreds)}\n",
        "\n",
        "List of Predictions (flattened out):\n",
        "{model.predict(tempListforPreds).flatten()}\n",
        "''')"
      ],
      "execution_count": 74,
      "outputs": [
        {
          "output_type": "stream",
          "text": [
            "Prediction for input value 1: [[2.5073571]]\n",
            "\n",
            "\n",
            "input List = [1, 2, 3, 4, 5]\n",
            "\n",
            "\n",
            "List of Predictions:\n",
            "[[2.5073571]\n",
            " [3.369841 ]\n",
            " [4.2323246]\n",
            " [5.0948086]\n",
            " [5.9572926]]\n",
            "\n",
            "List of Predictions (flattened out):\n",
            "[2.5073571 3.369841  4.2323246 5.0948086 5.9572926]\n",
            "\n"
          ],
          "name": "stdout"
        }
      ]
    },
    {
      "cell_type": "code",
      "metadata": {
        "id": "vJNFh6hc0K6r",
        "colab": {
          "base_uri": "https://localhost:8080/"
        },
        "outputId": "85b390b1-125f-4b37-cebb-326085bc310f"
      },
      "source": [
        "print(testFeatures)"
      ],
      "execution_count": 75,
      "outputs": [
        {
          "output_type": "stream",
          "text": [
            "     G1\n",
            "9    14\n",
            "25    6\n",
            "28   11\n",
            "31   17\n",
            "32   17\n",
            "..   ..\n",
            "365  10\n",
            "367   7\n",
            "379  10\n",
            "381   7\n",
            "393  11\n",
            "\n",
            "[79 rows x 1 columns]\n"
          ],
          "name": "stdout"
        }
      ]
    },
    {
      "cell_type": "code",
      "metadata": {
        "id": "MniGZOu50IyN"
      },
      "source": [
        "testPreds = model.predict(testFeatures).flatten() #array of all prediction values"
      ],
      "execution_count": 76,
      "outputs": []
    },
    {
      "cell_type": "code",
      "metadata": {
        "id": "du0Orwu40Qan",
        "colab": {
          "base_uri": "https://localhost:8080/"
        },
        "outputId": "7cff4b1d-c29e-49e2-e347-78dc600c940d"
      },
      "source": [
        "print(len(testPreds))\n",
        "print(testPreds)"
      ],
      "execution_count": 77,
      "outputs": [
        {
          "output_type": "stream",
          "text": [
            "79\n",
            "[13.719648   6.8197765 11.132196  16.3071    16.3071    11.99468\n",
            " 13.719648  18.032066  18.032066   8.5447445 13.719648  12.857164\n",
            "  8.5447445  7.6822605  9.407228  12.857164  11.132196  15.444616\n",
            "  7.6822605 10.269712  14.582132  12.857164  13.719648  15.444616\n",
            "  7.6822605  7.6822605  8.5447445 10.269712  11.99468   10.269712\n",
            " 11.99468   12.857164  10.269712   6.8197765  9.407228  11.99468\n",
            "  7.6822605  8.5447445 13.719648   9.407228   9.407228   7.6822605\n",
            " 11.99468    6.8197765 12.857164   7.6822605  7.6822605 11.132196\n",
            " 12.857164  16.3071    11.99468   14.582132   9.407228  11.99468\n",
            " 14.582132  11.99468   14.582132  11.99468   14.582132  11.132196\n",
            " 11.99468    8.5447445 15.444616   7.6822605 15.444616  11.132196\n",
            " 15.444616  12.857164   8.5447445  8.5447445 11.99468   17.169584\n",
            " 12.857164  15.444616  10.269712   7.6822605 10.269712   7.6822605\n",
            " 11.132196 ]\n"
          ],
          "name": "stdout"
        }
      ]
    },
    {
      "cell_type": "code",
      "metadata": {
        "colab": {
          "base_uri": "https://localhost:8080/",
          "height": 0
        },
        "id": "EfP8bB_v89Wa",
        "outputId": "a63705ad-9663-4d16-bbdf-e575120c107a"
      },
      "source": [
        "# prediciton plot --> how well is your model predicting across the actual labels\n",
        "\n",
        "def predPlot(labels, predictions):\n",
        "  plt.scatter(labels, predictions)\n",
        "  plt.ylabel('Predictions')\n",
        "  plt.xlabel('True Value or Labels')\n",
        "  plt.axis('equal')\n",
        "  plt.axis('square')\n",
        "  plt.xlim([0, plt.xlim()[1]])\n",
        "  plt.ylim([0, plt.ylim()[1]])\n",
        "  plt.show()\n",
        "\n",
        "predPlot(testLabels, testPreds)"
      ],
      "execution_count": 78,
      "outputs": [
        {
          "output_type": "display_data",
          "data": {
            "image/png": "[encoded data removed]",
            "text/plain": [
              "<Figure size 576x396 with 1 Axes>"
            ]
          },
          "metadata": {
            "tags": []
          }
        }
      ]
    },
    {
      "cell_type": "code",
      "metadata": {
        "colab": {
          "base_uri": "https://localhost:8080/",
          "height": 0
        },
        "id": "70608Z0o9tWL",
        "outputId": "679f0548-5c77-4904-b8b8-94ea90e5668a"
      },
      "source": [
        "#error plot --> gaussian distribution \n",
        "\n",
        "def errorPlot(preds, labels, counts):\n",
        "  errors = preds - labels\n",
        "  plt.hist(errors, counts)\n",
        "  plt.xlabel('Error')\n",
        "  plt.ylabel('Counts')\n",
        "  plt.show()\n",
        "\n",
        "errorPlot(testPreds, testLabels, numEpochs)"
      ],
      "execution_count": 79,
      "outputs": [
        {
          "output_type": "display_data",
          "data": {
            "image/png": "[encoded data removed]",
            "text/plain": [
              "<Figure size 576x396 with 1 Axes>"
            ]
          },
          "metadata": {
            "tags": []
          }
        }
      ]
    },
    {
      "cell_type": "markdown",
      "metadata": {
        "id": "oshf2mUG1vPk"
      },
      "source": [
        "Note: \n",
        "\n",
        "\n",
        "Validation loss `val_loss` is a metric that tells you how much deviation from the actual label can you expect in the predicted label\n",
        "\n",
        "To optimize your predicitons -->\n",
        "\n",
        "- Hyperparameter tuning --> `numEpochs`, `optimizer`, `learning_rate`, lossFunctions"
      ]
    }
  ]
}